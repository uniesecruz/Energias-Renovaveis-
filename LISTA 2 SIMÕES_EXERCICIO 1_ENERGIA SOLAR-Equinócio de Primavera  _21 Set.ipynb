{
 "cells": [
  {
   "cell_type": "code",
   "execution_count": 17,
   "id": "a57fc5b7",
   "metadata": {},
   "outputs": [],
   "source": [
    "import handcalcs.render\n",
    "import math as mt\n",
    "import numpy as np\n",
    "import pandas as pd\n",
    "import matplotlib.pyplot as plt\n",
    "import statistics as st"
   ]
  },
  {
   "cell_type": "markdown",
   "id": "946bba41",
   "metadata": {},
   "source": [
    "Correção"
   ]
  },
  {
   "cell_type": "markdown",
   "id": "f18de732",
   "metadata": {},
   "source": [
    "Equinócio de Primavera - 21/setembro"
   ]
  },
  {
   "cell_type": "code",
   "execution_count": 18,
   "id": "b68570e9",
   "metadata": {},
   "outputs": [],
   "source": [
    "Mes=9     #Setembro\n",
    "Dia=21     #dia da semana\n",
    "Cor=3    #corre\n",
    "L_O=-45       #Longitude Hora Legal\n",
    "L =-46.6388  #Longitude \n",
    "L_a= -23.5489  #Latitude"
   ]
  },
  {
   "cell_type": "markdown",
   "id": "b5b0b37f",
   "metadata": {},
   "source": [
    "numero de dias do ano "
   ]
  },
  {
   "cell_type": "code",
   "execution_count": 19,
   "id": "0e254879",
   "metadata": {},
   "outputs": [
    {
     "data": {
      "text/plain": [
       "264"
      ]
     },
     "execution_count": 19,
     "metadata": {},
     "output_type": "execute_result"
    }
   ],
   "source": [
    "n= Dia + (Mes -1)*30 +Cor\n",
    "n"
   ]
  },
  {
   "cell_type": "markdown",
   "id": "f59428da",
   "metadata": {},
   "source": [
    "HORA SOLAR "
   ]
  },
  {
   "cell_type": "code",
   "execution_count": 20,
   "id": "90b2e6d0",
   "metadata": {},
   "outputs": [
    {
     "data": {
      "text/plain": [
       "180.989010989011"
      ]
     },
     "execution_count": 20,
     "metadata": {},
     "output_type": "execute_result"
    }
   ],
   "source": [
    "B= (360/364)*(n-81)\n",
    "B"
   ]
  },
  {
   "cell_type": "code",
   "execution_count": 21,
   "id": "d6628060",
   "metadata": {},
   "outputs": [
    {
     "data": {
      "text/plain": [
       "7.895443464016701"
      ]
     },
     "execution_count": 21,
     "metadata": {},
     "output_type": "execute_result"
    }
   ],
   "source": [
    "E= 9.87*np.sin(np.radians(2*B))-7.53*np.cos(np.radians(B))-1.5*np.sin(np.radians(B))\n",
    "\n",
    "E"
   ]
  },
  {
   "cell_type": "code",
   "execution_count": 22,
   "id": "b75a29de",
   "metadata": {
    "scrolled": true
   },
   "outputs": [],
   "source": [
    "\n",
    "Corhora= (4*(L_O-L)+E)/60\n"
   ]
  },
  {
   "cell_type": "code",
   "execution_count": 23,
   "id": "d2d85aa8",
   "metadata": {},
   "outputs": [],
   "source": [
    "df=pd.read_csv(\"Hora Legal.csv\" , encoding ='UTF-8' , sep=\";\")\n",
    "\n"
   ]
  },
  {
   "cell_type": "code",
   "execution_count": 24,
   "id": "d7e46a26",
   "metadata": {},
   "outputs": [],
   "source": [
    "\n",
    "df['HS']= df['HL']+Corhora\n"
   ]
  },
  {
   "cell_type": "markdown",
   "id": "6006cc2e",
   "metadata": {},
   "source": [
    "ANGULO HORARIO "
   ]
  },
  {
   "cell_type": "code",
   "execution_count": 25,
   "id": "0f1657d2",
   "metadata": {},
   "outputs": [],
   "source": [
    "\n",
    "df['Omega']= (df['HS']-12)*15\n"
   ]
  },
  {
   "cell_type": "markdown",
   "id": "d96d5456",
   "metadata": {},
   "source": [
    "DECLINAÇÃO SOLAR "
   ]
  },
  {
   "cell_type": "code",
   "execution_count": 26,
   "id": "a1227f11",
   "metadata": {},
   "outputs": [
    {
     "data": {
      "text/plain": [
       "-0.20183407703972808"
      ]
     },
     "execution_count": 26,
     "metadata": {},
     "output_type": "execute_result"
    }
   ],
   "source": [
    "\n",
    "sigma= 23.45*np.sin(np.radians(360/365*(284+n)))\n",
    "sigma"
   ]
  },
  {
   "cell_type": "markdown",
   "id": "785ad19c",
   "metadata": {},
   "source": [
    "ANGULO ZENITAL"
   ]
  },
  {
   "cell_type": "code",
   "execution_count": 27,
   "id": "1bd98717",
   "metadata": {},
   "outputs": [],
   "source": [
    "\n",
    "df['teta_z']= np.degrees(np.arccos(np.sin(np.radians(sigma))*np.sin(np.radians(L_a))+np.cos(np.radians(sigma))*np.cos(np.radians(L_a))*np.cos(np.radians(df['Omega']))))\n",
    "\n"
   ]
  },
  {
   "cell_type": "code",
   "execution_count": 28,
   "id": "87014e57",
   "metadata": {},
   "outputs": [
    {
     "data": {
      "text/html": [
       "<div>\n",
       "<style scoped>\n",
       "    .dataframe tbody tr th:only-of-type {\n",
       "        vertical-align: middle;\n",
       "    }\n",
       "\n",
       "    .dataframe tbody tr th {\n",
       "        vertical-align: top;\n",
       "    }\n",
       "\n",
       "    .dataframe thead th {\n",
       "        text-align: right;\n",
       "    }\n",
       "</style>\n",
       "<table border=\"1\" class=\"dataframe\">\n",
       "  <thead>\n",
       "    <tr style=\"text-align: right;\">\n",
       "      <th></th>\n",
       "      <th>HL</th>\n",
       "      <th>HS</th>\n",
       "      <th>Omega</th>\n",
       "      <th>teta_z</th>\n",
       "      <th>Sombra</th>\n",
       "    </tr>\n",
       "  </thead>\n",
       "  <tbody>\n",
       "    <tr>\n",
       "      <th>0</th>\n",
       "      <td>5.00</td>\n",
       "      <td>5.240844</td>\n",
       "      <td>-101.387339</td>\n",
       "      <td>100.345833</td>\n",
       "      <td>-5.477733</td>\n",
       "    </tr>\n",
       "    <tr>\n",
       "      <th>1</th>\n",
       "      <td>5.50</td>\n",
       "      <td>5.740844</td>\n",
       "      <td>-93.887339</td>\n",
       "      <td>93.482348</td>\n",
       "      <td>-16.432937</td>\n",
       "    </tr>\n",
       "    <tr>\n",
       "      <th>2</th>\n",
       "      <td>5.99</td>\n",
       "      <td>6.230844</td>\n",
       "      <td>-86.537339</td>\n",
       "      <td>86.745274</td>\n",
       "      <td>17.584933</td>\n",
       "    </tr>\n",
       "    <tr>\n",
       "      <th>3</th>\n",
       "      <td>6.50</td>\n",
       "      <td>6.740844</td>\n",
       "      <td>-78.887339</td>\n",
       "      <td>79.741256</td>\n",
       "      <td>5.525257</td>\n",
       "    </tr>\n",
       "    <tr>\n",
       "      <th>4</th>\n",
       "      <td>7.00</td>\n",
       "      <td>7.240844</td>\n",
       "      <td>-71.387339</td>\n",
       "      <td>72.902790</td>\n",
       "      <td>3.251114</td>\n",
       "    </tr>\n",
       "    <tr>\n",
       "      <th>5</th>\n",
       "      <td>7.50</td>\n",
       "      <td>7.740844</td>\n",
       "      <td>-63.887339</td>\n",
       "      <td>66.115916</td>\n",
       "      <td>2.258322</td>\n",
       "    </tr>\n",
       "    <tr>\n",
       "      <th>6</th>\n",
       "      <td>8.00</td>\n",
       "      <td>8.240844</td>\n",
       "      <td>-56.387339</td>\n",
       "      <td>59.410893</td>\n",
       "      <td>1.691642</td>\n",
       "    </tr>\n",
       "    <tr>\n",
       "      <th>7</th>\n",
       "      <td>8.50</td>\n",
       "      <td>8.740844</td>\n",
       "      <td>-48.887339</td>\n",
       "      <td>52.829785</td>\n",
       "      <td>1.318874</td>\n",
       "    </tr>\n",
       "    <tr>\n",
       "      <th>8</th>\n",
       "      <td>9.00</td>\n",
       "      <td>9.240844</td>\n",
       "      <td>-41.387339</td>\n",
       "      <td>46.434886</td>\n",
       "      <td>1.051385</td>\n",
       "    </tr>\n",
       "    <tr>\n",
       "      <th>9</th>\n",
       "      <td>9.50</td>\n",
       "      <td>9.740844</td>\n",
       "      <td>-33.887339</td>\n",
       "      <td>40.323406</td>\n",
       "      <td>0.848764</td>\n",
       "    </tr>\n",
       "    <tr>\n",
       "      <th>10</th>\n",
       "      <td>10.00</td>\n",
       "      <td>10.240844</td>\n",
       "      <td>-26.387339</td>\n",
       "      <td>34.653203</td>\n",
       "      <td>0.691225</td>\n",
       "    </tr>\n",
       "    <tr>\n",
       "      <th>11</th>\n",
       "      <td>10.50</td>\n",
       "      <td>10.740844</td>\n",
       "      <td>-18.887339</td>\n",
       "      <td>29.684855</td>\n",
       "      <td>0.570040</td>\n",
       "    </tr>\n",
       "    <tr>\n",
       "      <th>12</th>\n",
       "      <td>11.00</td>\n",
       "      <td>11.240844</td>\n",
       "      <td>-11.387339</td>\n",
       "      <td>25.832009</td>\n",
       "      <td>0.484108</td>\n",
       "    </tr>\n",
       "    <tr>\n",
       "      <th>13</th>\n",
       "      <td>11.50</td>\n",
       "      <td>11.740844</td>\n",
       "      <td>-3.887339</td>\n",
       "      <td>23.650137</td>\n",
       "      <td>0.437932</td>\n",
       "    </tr>\n",
       "    <tr>\n",
       "      <th>14</th>\n",
       "      <td>12.00</td>\n",
       "      <td>12.240844</td>\n",
       "      <td>3.612661</td>\n",
       "      <td>23.609050</td>\n",
       "      <td>0.437077</td>\n",
       "    </tr>\n",
       "    <tr>\n",
       "      <th>15</th>\n",
       "      <td>12.50</td>\n",
       "      <td>12.740844</td>\n",
       "      <td>11.112661</td>\n",
       "      <td>25.719041</td>\n",
       "      <td>0.481677</td>\n",
       "    </tr>\n",
       "    <tr>\n",
       "      <th>16</th>\n",
       "      <td>13.00</td>\n",
       "      <td>13.240844</td>\n",
       "      <td>18.612661</td>\n",
       "      <td>29.521006</td>\n",
       "      <td>0.566257</td>\n",
       "    </tr>\n",
       "    <tr>\n",
       "      <th>17</th>\n",
       "      <td>13.50</td>\n",
       "      <td>13.740844</td>\n",
       "      <td>26.112661</td>\n",
       "      <td>34.456853</td>\n",
       "      <td>0.686173</td>\n",
       "    </tr>\n",
       "    <tr>\n",
       "      <th>18</th>\n",
       "      <td>14.00</td>\n",
       "      <td>14.240844</td>\n",
       "      <td>33.612661</td>\n",
       "      <td>40.106739</td>\n",
       "      <td>0.842279</td>\n",
       "    </tr>\n",
       "    <tr>\n",
       "      <th>19</th>\n",
       "      <td>14.50</td>\n",
       "      <td>14.740844</td>\n",
       "      <td>41.112661</td>\n",
       "      <td>46.205321</td>\n",
       "      <td>1.042984</td>\n",
       "    </tr>\n",
       "    <tr>\n",
       "      <th>20</th>\n",
       "      <td>15.00</td>\n",
       "      <td>15.240844</td>\n",
       "      <td>48.612661</td>\n",
       "      <td>52.591829</td>\n",
       "      <td>1.307559</td>\n",
       "    </tr>\n",
       "    <tr>\n",
       "      <th>21</th>\n",
       "      <td>15.50</td>\n",
       "      <td>15.740844</td>\n",
       "      <td>56.112661</td>\n",
       "      <td>59.167376</td>\n",
       "      <td>1.675346</td>\n",
       "    </tr>\n",
       "    <tr>\n",
       "      <th>22</th>\n",
       "      <td>16.00</td>\n",
       "      <td>16.240844</td>\n",
       "      <td>63.612661</td>\n",
       "      <td>65.868696</td>\n",
       "      <td>2.232255</td>\n",
       "    </tr>\n",
       "    <tr>\n",
       "      <th>23</th>\n",
       "      <td>16.50</td>\n",
       "      <td>16.740844</td>\n",
       "      <td>71.112661</td>\n",
       "      <td>72.653160</td>\n",
       "      <td>3.201410</td>\n",
       "    </tr>\n",
       "    <tr>\n",
       "      <th>24</th>\n",
       "      <td>17.00</td>\n",
       "      <td>17.240844</td>\n",
       "      <td>78.612661</td>\n",
       "      <td>79.490181</td>\n",
       "      <td>5.390361</td>\n",
       "    </tr>\n",
       "    <tr>\n",
       "      <th>25</th>\n",
       "      <td>17.50</td>\n",
       "      <td>17.740844</td>\n",
       "      <td>86.112661</td>\n",
       "      <td>86.356061</td>\n",
       "      <td>15.702379</td>\n",
       "    </tr>\n",
       "    <tr>\n",
       "      <th>26</th>\n",
       "      <td>18.00</td>\n",
       "      <td>18.240844</td>\n",
       "      <td>93.612661</td>\n",
       "      <td>93.230655</td>\n",
       "      <td>-17.716238</td>\n",
       "    </tr>\n",
       "    <tr>\n",
       "      <th>27</th>\n",
       "      <td>18.50</td>\n",
       "      <td>18.740844</td>\n",
       "      <td>101.112661</td>\n",
       "      <td>100.094888</td>\n",
       "      <td>-5.616870</td>\n",
       "    </tr>\n",
       "  </tbody>\n",
       "</table>\n",
       "</div>"
      ],
      "text/plain": [
       "       HL         HS       Omega      teta_z     Sombra\n",
       "0    5.00   5.240844 -101.387339  100.345833  -5.477733\n",
       "1    5.50   5.740844  -93.887339   93.482348 -16.432937\n",
       "2    5.99   6.230844  -86.537339   86.745274  17.584933\n",
       "3    6.50   6.740844  -78.887339   79.741256   5.525257\n",
       "4    7.00   7.240844  -71.387339   72.902790   3.251114\n",
       "5    7.50   7.740844  -63.887339   66.115916   2.258322\n",
       "6    8.00   8.240844  -56.387339   59.410893   1.691642\n",
       "7    8.50   8.740844  -48.887339   52.829785   1.318874\n",
       "8    9.00   9.240844  -41.387339   46.434886   1.051385\n",
       "9    9.50   9.740844  -33.887339   40.323406   0.848764\n",
       "10  10.00  10.240844  -26.387339   34.653203   0.691225\n",
       "11  10.50  10.740844  -18.887339   29.684855   0.570040\n",
       "12  11.00  11.240844  -11.387339   25.832009   0.484108\n",
       "13  11.50  11.740844   -3.887339   23.650137   0.437932\n",
       "14  12.00  12.240844    3.612661   23.609050   0.437077\n",
       "15  12.50  12.740844   11.112661   25.719041   0.481677\n",
       "16  13.00  13.240844   18.612661   29.521006   0.566257\n",
       "17  13.50  13.740844   26.112661   34.456853   0.686173\n",
       "18  14.00  14.240844   33.612661   40.106739   0.842279\n",
       "19  14.50  14.740844   41.112661   46.205321   1.042984\n",
       "20  15.00  15.240844   48.612661   52.591829   1.307559\n",
       "21  15.50  15.740844   56.112661   59.167376   1.675346\n",
       "22  16.00  16.240844   63.612661   65.868696   2.232255\n",
       "23  16.50  16.740844   71.112661   72.653160   3.201410\n",
       "24  17.00  17.240844   78.612661   79.490181   5.390361\n",
       "25  17.50  17.740844   86.112661   86.356061  15.702379\n",
       "26  18.00  18.240844   93.612661   93.230655 -17.716238\n",
       "27  18.50  18.740844  101.112661  100.094888  -5.616870"
      ]
     },
     "execution_count": 28,
     "metadata": {},
     "output_type": "execute_result"
    }
   ],
   "source": [
    "df['Sombra']=np.tan(np.radians(df['teta_z']))\n",
    "df\n"
   ]
  },
  {
   "cell_type": "code",
   "execution_count": 29,
   "id": "d461b3d8",
   "metadata": {},
   "outputs": [
    {
     "data": {
      "text/html": [
       "<div>\n",
       "<style scoped>\n",
       "    .dataframe tbody tr th:only-of-type {\n",
       "        vertical-align: middle;\n",
       "    }\n",
       "\n",
       "    .dataframe tbody tr th {\n",
       "        vertical-align: top;\n",
       "    }\n",
       "\n",
       "    .dataframe thead th {\n",
       "        text-align: right;\n",
       "    }\n",
       "</style>\n",
       "<table border=\"1\" class=\"dataframe\">\n",
       "  <thead>\n",
       "    <tr style=\"text-align: right;\">\n",
       "      <th></th>\n",
       "      <th>HL</th>\n",
       "      <th>HS</th>\n",
       "      <th>Omega</th>\n",
       "      <th>teta_z</th>\n",
       "      <th>Sombra</th>\n",
       "    </tr>\n",
       "  </thead>\n",
       "  <tbody>\n",
       "    <tr>\n",
       "      <th>2</th>\n",
       "      <td>5.99</td>\n",
       "      <td>6.230844</td>\n",
       "      <td>-86.537339</td>\n",
       "      <td>86.745274</td>\n",
       "      <td>17.584933</td>\n",
       "    </tr>\n",
       "    <tr>\n",
       "      <th>3</th>\n",
       "      <td>6.50</td>\n",
       "      <td>6.740844</td>\n",
       "      <td>-78.887339</td>\n",
       "      <td>79.741256</td>\n",
       "      <td>5.525257</td>\n",
       "    </tr>\n",
       "    <tr>\n",
       "      <th>4</th>\n",
       "      <td>7.00</td>\n",
       "      <td>7.240844</td>\n",
       "      <td>-71.387339</td>\n",
       "      <td>72.902790</td>\n",
       "      <td>3.251114</td>\n",
       "    </tr>\n",
       "    <tr>\n",
       "      <th>5</th>\n",
       "      <td>7.50</td>\n",
       "      <td>7.740844</td>\n",
       "      <td>-63.887339</td>\n",
       "      <td>66.115916</td>\n",
       "      <td>2.258322</td>\n",
       "    </tr>\n",
       "    <tr>\n",
       "      <th>6</th>\n",
       "      <td>8.00</td>\n",
       "      <td>8.240844</td>\n",
       "      <td>-56.387339</td>\n",
       "      <td>59.410893</td>\n",
       "      <td>1.691642</td>\n",
       "    </tr>\n",
       "    <tr>\n",
       "      <th>7</th>\n",
       "      <td>8.50</td>\n",
       "      <td>8.740844</td>\n",
       "      <td>-48.887339</td>\n",
       "      <td>52.829785</td>\n",
       "      <td>1.318874</td>\n",
       "    </tr>\n",
       "    <tr>\n",
       "      <th>8</th>\n",
       "      <td>9.00</td>\n",
       "      <td>9.240844</td>\n",
       "      <td>-41.387339</td>\n",
       "      <td>46.434886</td>\n",
       "      <td>1.051385</td>\n",
       "    </tr>\n",
       "    <tr>\n",
       "      <th>9</th>\n",
       "      <td>9.50</td>\n",
       "      <td>9.740844</td>\n",
       "      <td>-33.887339</td>\n",
       "      <td>40.323406</td>\n",
       "      <td>0.848764</td>\n",
       "    </tr>\n",
       "    <tr>\n",
       "      <th>10</th>\n",
       "      <td>10.00</td>\n",
       "      <td>10.240844</td>\n",
       "      <td>-26.387339</td>\n",
       "      <td>34.653203</td>\n",
       "      <td>0.691225</td>\n",
       "    </tr>\n",
       "    <tr>\n",
       "      <th>11</th>\n",
       "      <td>10.50</td>\n",
       "      <td>10.740844</td>\n",
       "      <td>-18.887339</td>\n",
       "      <td>29.684855</td>\n",
       "      <td>0.570040</td>\n",
       "    </tr>\n",
       "    <tr>\n",
       "      <th>12</th>\n",
       "      <td>11.00</td>\n",
       "      <td>11.240844</td>\n",
       "      <td>-11.387339</td>\n",
       "      <td>25.832009</td>\n",
       "      <td>0.484108</td>\n",
       "    </tr>\n",
       "    <tr>\n",
       "      <th>13</th>\n",
       "      <td>11.50</td>\n",
       "      <td>11.740844</td>\n",
       "      <td>-3.887339</td>\n",
       "      <td>23.650137</td>\n",
       "      <td>0.437932</td>\n",
       "    </tr>\n",
       "    <tr>\n",
       "      <th>14</th>\n",
       "      <td>12.00</td>\n",
       "      <td>12.240844</td>\n",
       "      <td>3.612661</td>\n",
       "      <td>23.609050</td>\n",
       "      <td>0.437077</td>\n",
       "    </tr>\n",
       "    <tr>\n",
       "      <th>15</th>\n",
       "      <td>12.50</td>\n",
       "      <td>12.740844</td>\n",
       "      <td>11.112661</td>\n",
       "      <td>25.719041</td>\n",
       "      <td>0.481677</td>\n",
       "    </tr>\n",
       "    <tr>\n",
       "      <th>16</th>\n",
       "      <td>13.00</td>\n",
       "      <td>13.240844</td>\n",
       "      <td>18.612661</td>\n",
       "      <td>29.521006</td>\n",
       "      <td>0.566257</td>\n",
       "    </tr>\n",
       "    <tr>\n",
       "      <th>17</th>\n",
       "      <td>13.50</td>\n",
       "      <td>13.740844</td>\n",
       "      <td>26.112661</td>\n",
       "      <td>34.456853</td>\n",
       "      <td>0.686173</td>\n",
       "    </tr>\n",
       "    <tr>\n",
       "      <th>18</th>\n",
       "      <td>14.00</td>\n",
       "      <td>14.240844</td>\n",
       "      <td>33.612661</td>\n",
       "      <td>40.106739</td>\n",
       "      <td>0.842279</td>\n",
       "    </tr>\n",
       "    <tr>\n",
       "      <th>19</th>\n",
       "      <td>14.50</td>\n",
       "      <td>14.740844</td>\n",
       "      <td>41.112661</td>\n",
       "      <td>46.205321</td>\n",
       "      <td>1.042984</td>\n",
       "    </tr>\n",
       "    <tr>\n",
       "      <th>20</th>\n",
       "      <td>15.00</td>\n",
       "      <td>15.240844</td>\n",
       "      <td>48.612661</td>\n",
       "      <td>52.591829</td>\n",
       "      <td>1.307559</td>\n",
       "    </tr>\n",
       "    <tr>\n",
       "      <th>21</th>\n",
       "      <td>15.50</td>\n",
       "      <td>15.740844</td>\n",
       "      <td>56.112661</td>\n",
       "      <td>59.167376</td>\n",
       "      <td>1.675346</td>\n",
       "    </tr>\n",
       "    <tr>\n",
       "      <th>22</th>\n",
       "      <td>16.00</td>\n",
       "      <td>16.240844</td>\n",
       "      <td>63.612661</td>\n",
       "      <td>65.868696</td>\n",
       "      <td>2.232255</td>\n",
       "    </tr>\n",
       "    <tr>\n",
       "      <th>23</th>\n",
       "      <td>16.50</td>\n",
       "      <td>16.740844</td>\n",
       "      <td>71.112661</td>\n",
       "      <td>72.653160</td>\n",
       "      <td>3.201410</td>\n",
       "    </tr>\n",
       "    <tr>\n",
       "      <th>24</th>\n",
       "      <td>17.00</td>\n",
       "      <td>17.240844</td>\n",
       "      <td>78.612661</td>\n",
       "      <td>79.490181</td>\n",
       "      <td>5.390361</td>\n",
       "    </tr>\n",
       "    <tr>\n",
       "      <th>25</th>\n",
       "      <td>17.50</td>\n",
       "      <td>17.740844</td>\n",
       "      <td>86.112661</td>\n",
       "      <td>86.356061</td>\n",
       "      <td>15.702379</td>\n",
       "    </tr>\n",
       "  </tbody>\n",
       "</table>\n",
       "</div>"
      ],
      "text/plain": [
       "       HL         HS      Omega     teta_z     Sombra\n",
       "2    5.99   6.230844 -86.537339  86.745274  17.584933\n",
       "3    6.50   6.740844 -78.887339  79.741256   5.525257\n",
       "4    7.00   7.240844 -71.387339  72.902790   3.251114\n",
       "5    7.50   7.740844 -63.887339  66.115916   2.258322\n",
       "6    8.00   8.240844 -56.387339  59.410893   1.691642\n",
       "7    8.50   8.740844 -48.887339  52.829785   1.318874\n",
       "8    9.00   9.240844 -41.387339  46.434886   1.051385\n",
       "9    9.50   9.740844 -33.887339  40.323406   0.848764\n",
       "10  10.00  10.240844 -26.387339  34.653203   0.691225\n",
       "11  10.50  10.740844 -18.887339  29.684855   0.570040\n",
       "12  11.00  11.240844 -11.387339  25.832009   0.484108\n",
       "13  11.50  11.740844  -3.887339  23.650137   0.437932\n",
       "14  12.00  12.240844   3.612661  23.609050   0.437077\n",
       "15  12.50  12.740844  11.112661  25.719041   0.481677\n",
       "16  13.00  13.240844  18.612661  29.521006   0.566257\n",
       "17  13.50  13.740844  26.112661  34.456853   0.686173\n",
       "18  14.00  14.240844  33.612661  40.106739   0.842279\n",
       "19  14.50  14.740844  41.112661  46.205321   1.042984\n",
       "20  15.00  15.240844  48.612661  52.591829   1.307559\n",
       "21  15.50  15.740844  56.112661  59.167376   1.675346\n",
       "22  16.00  16.240844  63.612661  65.868696   2.232255\n",
       "23  16.50  16.740844  71.112661  72.653160   3.201410\n",
       "24  17.00  17.240844  78.612661  79.490181   5.390361\n",
       "25  17.50  17.740844  86.112661  86.356061  15.702379"
      ]
     },
     "execution_count": 29,
     "metadata": {},
     "output_type": "execute_result"
    }
   ],
   "source": [
    "sombra=df.loc[2:25]\n",
    "sombra\n"
   ]
  },
  {
   "cell_type": "code",
   "execution_count": 30,
   "id": "8f98e471",
   "metadata": {},
   "outputs": [
    {
     "data": {
      "text/plain": [
       "<AxesSubplot:xlabel='HL'>"
      ]
     },
     "execution_count": 30,
     "metadata": {},
     "output_type": "execute_result"
    },
    {
     "data": {
      "image/png": "[encoded data removed]",
      "text/plain": [
       "<Figure size 432x288 with 1 Axes>"
      ]
     },
     "metadata": {
      "needs_background": "light"
     },
     "output_type": "display_data"
    }
   ],
   "source": [
    "sombra.plot.bar(y='Sombra',x='HL')"
   ]
  },
  {
   "cell_type": "code",
   "execution_count": null,
   "id": "fad0b3b1",
   "metadata": {},
   "outputs": [],
   "source": []
  },
  {
   "cell_type": "code",
   "execution_count": null,
   "id": "b87bf906",
   "metadata": {},
   "outputs": [],
   "source": []
  },
  {
   "cell_type": "code",
   "execution_count": null,
   "id": "6cd08d40",
   "metadata": {},
   "outputs": [],
   "source": []
  },
  {
   "cell_type": "code",
   "execution_count": null,
   "id": "05b32759",
   "metadata": {},
   "outputs": [],
   "source": []
  },
  {
   "cell_type": "code",
   "execution_count": null,
   "id": "682be461",
   "metadata": {},
   "outputs": [],
   "source": []
  },
  {
   "cell_type": "code",
   "execution_count": null,
   "id": "0daecefb",
   "metadata": {},
   "outputs": [],
   "source": []
  },
  {
   "cell_type": "code",
   "execution_count": null,
   "id": "bcb15685",
   "metadata": {},
   "outputs": [],
   "source": []
  },
  {
   "cell_type": "code",
   "execution_count": null,
   "id": "e0228a9c",
   "metadata": {},
   "outputs": [],
   "source": []
  },
  {
   "cell_type": "code",
   "execution_count": null,
   "id": "6eee0e1e",
   "metadata": {},
   "outputs": [],
   "source": []
  },
  {
   "cell_type": "code",
   "execution_count": null,
   "id": "0abd4236",
   "metadata": {},
   "outputs": [],
   "source": []
  },
  {
   "cell_type": "code",
   "execution_count": null,
   "id": "13fc164f",
   "metadata": {},
   "outputs": [],
   "source": []
  },
  {
   "cell_type": "code",
   "execution_count": null,
   "id": "d0083948",
   "metadata": {},
   "outputs": [],
   "source": []
  },
  {
   "cell_type": "code",
   "execution_count": null,
   "id": "282a9447",
   "metadata": {},
   "outputs": [],
   "source": []
  },
  {
   "cell_type": "code",
   "execution_count": null,
   "id": "f334554e",
   "metadata": {},
   "outputs": [],
   "source": []
  },
  {
   "cell_type": "code",
   "execution_count": null,
   "id": "c19fc1b2",
   "metadata": {},
   "outputs": [],
   "source": []
  },
  {
   "cell_type": "code",
   "execution_count": null,
   "id": "93663a34",
   "metadata": {},
   "outputs": [],
   "source": []
  },
  {
   "cell_type": "code",
   "execution_count": null,
   "id": "cfed288d",
   "metadata": {},
   "outputs": [],
   "source": []
  },
  {
   "cell_type": "code",
   "execution_count": null,
   "id": "e0690fed",
   "metadata": {},
   "outputs": [],
   "source": []
  },
  {
   "cell_type": "code",
   "execution_count": null,
   "id": "e0f43df4",
   "metadata": {},
   "outputs": [],
   "source": []
  },
  {
   "cell_type": "code",
   "execution_count": null,
   "id": "8b87a7ad",
   "metadata": {},
   "outputs": [],
   "source": []
  },
  {
   "cell_type": "code",
   "execution_count": null,
   "id": "e4345883",
   "metadata": {},
   "outputs": [],
   "source": []
  },
  {
   "cell_type": "markdown",
   "id": "f51fdae3",
   "metadata": {},
   "source": [
    "ANGULO DO AZIMUTE SOLAR"
   ]
  },
  {
   "cell_type": "code",
   "execution_count": null,
   "id": "913bf768",
   "metadata": {},
   "outputs": [],
   "source": []
  },
  {
   "cell_type": "code",
   "execution_count": null,
   "id": "e94cc88c",
   "metadata": {},
   "outputs": [],
   "source": []
  },
  {
   "cell_type": "code",
   "execution_count": null,
   "id": "8294909d",
   "metadata": {},
   "outputs": [],
   "source": []
  },
  {
   "cell_type": "code",
   "execution_count": null,
   "id": "ba1e0f4e",
   "metadata": {},
   "outputs": [],
   "source": []
  },
  {
   "cell_type": "code",
   "execution_count": null,
   "id": "d8ebd1f0",
   "metadata": {},
   "outputs": [],
   "source": []
  },
  {
   "cell_type": "code",
   "execution_count": null,
   "id": "429e261b",
   "metadata": {},
   "outputs": [],
   "source": []
  },
  {
   "cell_type": "code",
   "execution_count": null,
   "id": "8e2bc673",
   "metadata": {},
   "outputs": [],
   "source": []
  },
  {
   "cell_type": "code",
   "execution_count": null,
   "id": "8e9795d3",
   "metadata": {},
   "outputs": [],
   "source": []
  },
  {
   "cell_type": "code",
   "execution_count": null,
   "id": "d1457f62",
   "metadata": {},
   "outputs": [],
   "source": []
  },
  {
   "cell_type": "code",
   "execution_count": null,
   "id": "155efcd7",
   "metadata": {},
   "outputs": [],
   "source": []
  },
  {
   "cell_type": "code",
   "execution_count": null,
   "id": "8a4231dd",
   "metadata": {},
   "outputs": [],
   "source": []
  },
  {
   "cell_type": "code",
   "execution_count": null,
   "id": "75613b31",
   "metadata": {},
   "outputs": [],
   "source": []
  },
  {
   "cell_type": "code",
   "execution_count": null,
   "id": "7c17ed16",
   "metadata": {},
   "outputs": [],
   "source": []
  },
  {
   "cell_type": "code",
   "execution_count": null,
   "id": "70c12e96",
   "metadata": {},
   "outputs": [],
   "source": []
  },
  {
   "cell_type": "code",
   "execution_count": null,
   "id": "c6a6ec3d",
   "metadata": {},
   "outputs": [],
   "source": []
  },
  {
   "cell_type": "code",
   "execution_count": null,
   "id": "ff1a4ce1",
   "metadata": {},
   "outputs": [],
   "source": []
  },
  {
   "cell_type": "code",
   "execution_count": null,
   "id": "5ee62711",
   "metadata": {},
   "outputs": [],
   "source": []
  },
  {
   "cell_type": "code",
   "execution_count": null,
   "id": "9fd24123",
   "metadata": {},
   "outputs": [],
   "source": []
  },
  {
   "cell_type": "code",
   "execution_count": null,
   "id": "9618b2fa",
   "metadata": {},
   "outputs": [],
   "source": []
  },
  {
   "cell_type": "code",
   "execution_count": null,
   "id": "a22e5dda",
   "metadata": {},
   "outputs": [],
   "source": []
  },
  {
   "cell_type": "code",
   "execution_count": null,
   "id": "6dd50648",
   "metadata": {},
   "outputs": [],
   "source": []
  },
  {
   "cell_type": "code",
   "execution_count": null,
   "id": "c147e114",
   "metadata": {},
   "outputs": [],
   "source": []
  },
  {
   "cell_type": "code",
   "execution_count": null,
   "id": "87747546",
   "metadata": {},
   "outputs": [],
   "source": []
  },
  {
   "cell_type": "code",
   "execution_count": null,
   "id": "117b074b",
   "metadata": {},
   "outputs": [],
   "source": []
  },
  {
   "cell_type": "code",
   "execution_count": null,
   "id": "b9a96ba8",
   "metadata": {},
   "outputs": [],
   "source": []
  },
  {
   "cell_type": "code",
   "execution_count": null,
   "id": "e770a13a",
   "metadata": {},
   "outputs": [],
   "source": []
  },
  {
   "cell_type": "code",
   "execution_count": null,
   "id": "d5fc6a53",
   "metadata": {},
   "outputs": [],
   "source": []
  },
  {
   "cell_type": "code",
   "execution_count": null,
   "id": "8f7de731",
   "metadata": {},
   "outputs": [],
   "source": []
  },
  {
   "cell_type": "code",
   "execution_count": null,
   "id": "97818b69",
   "metadata": {},
   "outputs": [],
   "source": []
  },
  {
   "cell_type": "code",
   "execution_count": null,
   "id": "1a5b3bb5",
   "metadata": {},
   "outputs": [],
   "source": []
  },
  {
   "cell_type": "code",
   "execution_count": null,
   "id": "e4d4ddd5",
   "metadata": {},
   "outputs": [],
   "source": []
  },
  {
   "cell_type": "code",
   "execution_count": null,
   "id": "55fd3dc8",
   "metadata": {},
   "outputs": [],
   "source": []
  },
  {
   "cell_type": "code",
   "execution_count": null,
   "id": "3407b204",
   "metadata": {},
   "outputs": [],
   "source": []
  },
  {
   "cell_type": "code",
   "execution_count": null,
   "id": "90ba0545",
   "metadata": {},
   "outputs": [],
   "source": []
  },
  {
   "cell_type": "markdown",
   "id": "30a8ec9c",
   "metadata": {},
   "source": [
    "df['Gama_s']= np.degrees(np.arccos(np.radians(((np.cos(np.radians(df['teta_z'])))* (np.sin(np.radians(df['Omega'])))-(np.sin(np.radians(df['sigma']))))/((np.sin(np.radians(df['teta_z'])))*np.cos(np.radians(df['teta_z']))))))\n"
   ]
  },
  {
   "cell_type": "markdown",
   "id": "d783eb59",
   "metadata": {},
   "source": [
    "ANGULO DE INCIDÊNCIA "
   ]
  },
  {
   "cell_type": "markdown",
   "id": "2494a0f2",
   "metadata": {},
   "source": [
    "df['teta']=(np.sin(np.radians(df['sigma'])))*(np.sin(np.radians(L_a)))\n"
   ]
  },
  {
   "cell_type": "code",
   "execution_count": null,
   "id": "9d09c6f6",
   "metadata": {},
   "outputs": [],
   "source": []
  },
  {
   "cell_type": "code",
   "execution_count": null,
   "id": "2776f7d5",
   "metadata": {},
   "outputs": [],
   "source": []
  },
  {
   "cell_type": "code",
   "execution_count": null,
   "id": "31e3a130",
   "metadata": {},
   "outputs": [],
   "source": []
  },
  {
   "cell_type": "code",
   "execution_count": null,
   "id": "d5f038a0",
   "metadata": {},
   "outputs": [],
   "source": []
  }
 ],
 "metadata": {
  "kernelspec": {
   "display_name": "Python 3",
   "language": "python",
   "name": "python3"
  },
  "language_info": {
   "codemirror_mode": {
    "name": "ipython",
    "version": 3
   },
   "file_extension": ".py",
   "mimetype": "text/x-python",
   "name": "python",
   "nbconvert_exporter": "python",
   "pygments_lexer": "ipython3",
   "version": "3.8.5"
  }
 },
 "nbformat": 4,
 "nbformat_minor": 5
}
