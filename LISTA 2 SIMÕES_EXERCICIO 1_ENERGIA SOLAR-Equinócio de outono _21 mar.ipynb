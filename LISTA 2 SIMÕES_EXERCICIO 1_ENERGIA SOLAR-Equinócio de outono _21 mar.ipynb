{
 "cells": [
  {
   "cell_type": "code",
   "execution_count": 1,
   "id": "a57fc5b7",
   "metadata": {},
   "outputs": [],
   "source": [
    "import handcalcs.render\n",
    "import math as mt\n",
    "import numpy as np\n",
    "import pandas as pd\n",
    "import matplotlib.pyplot as plt\n",
    "import statistics as st"
   ]
  },
  {
   "cell_type": "markdown",
   "id": "946bba41",
   "metadata": {},
   "source": [
    "Correção"
   ]
  },
  {
   "cell_type": "markdown",
   "id": "f18de732",
   "metadata": {},
   "source": [
    "Equinócio de outono - 21/mar"
   ]
  },
  {
   "cell_type": "code",
   "execution_count": 2,
   "id": "b68570e9",
   "metadata": {},
   "outputs": [],
   "source": [
    "Mes=3     #Março\n",
    "Dia=21     #dia da semana\n",
    "Cor=-1    #corre\n",
    "L_O=-45       #Longitude Hora Legal\n",
    "L =-46.6388  #Longitude \n",
    "L_a= -23.5489  #Latitude"
   ]
  },
  {
   "cell_type": "markdown",
   "id": "b5b0b37f",
   "metadata": {},
   "source": [
    "numero de dias do ano "
   ]
  },
  {
   "cell_type": "code",
   "execution_count": 3,
   "id": "0e254879",
   "metadata": {},
   "outputs": [],
   "source": [
    "n= Dia + (Mes -1)*30 +Cor\n"
   ]
  },
  {
   "cell_type": "markdown",
   "id": "f59428da",
   "metadata": {},
   "source": [
    "HORA SOLAR "
   ]
  },
  {
   "cell_type": "code",
   "execution_count": 15,
   "id": "90b2e6d0",
   "metadata": {},
   "outputs": [
    {
     "data": {
      "text/plain": [
       "-0.989010989010989"
      ]
     },
     "execution_count": 15,
     "metadata": {},
     "output_type": "execute_result"
    }
   ],
   "source": [
    "B= (360/364)*(n-81)\n",
    "B"
   ]
  },
  {
   "cell_type": "code",
   "execution_count": 5,
   "id": "d6628060",
   "metadata": {},
   "outputs": [],
   "source": [
    "E= 9.87*np.sin(np.radians(2*B))-7.53*np.cos(np.radians(B))-1.5*np.sin(np.radians(B))\n",
    "\n"
   ]
  },
  {
   "cell_type": "code",
   "execution_count": 6,
   "id": "b75a29de",
   "metadata": {
    "scrolled": true
   },
   "outputs": [],
   "source": [
    "\n",
    "Corhora= (4*(L_O-L)+E)/60\n"
   ]
  },
  {
   "cell_type": "code",
   "execution_count": 7,
   "id": "d2d85aa8",
   "metadata": {},
   "outputs": [],
   "source": [
    "df=pd.read_csv(\"Hora Legal.csv\" , encoding ='UTF-8' , sep=\";\")\n",
    "\n"
   ]
  },
  {
   "cell_type": "code",
   "execution_count": 8,
   "id": "d7e46a26",
   "metadata": {},
   "outputs": [],
   "source": [
    "\n",
    "df['HS']= df['HL']+Corhora\n"
   ]
  },
  {
   "cell_type": "markdown",
   "id": "6006cc2e",
   "metadata": {},
   "source": [
    "ANGULO HORARIO "
   ]
  },
  {
   "cell_type": "code",
   "execution_count": 9,
   "id": "0f1657d2",
   "metadata": {},
   "outputs": [],
   "source": [
    "\n",
    "df['Omega']= (df['HS']-12)*15\n"
   ]
  },
  {
   "cell_type": "markdown",
   "id": "d96d5456",
   "metadata": {},
   "source": [
    "DECLINAÇÃO SOLAR "
   ]
  },
  {
   "cell_type": "code",
   "execution_count": 10,
   "id": "a1227f11",
   "metadata": {},
   "outputs": [],
   "source": [
    "\n",
    "sigma= 23.45*np.sin(np.radians(360/365*(284+n)))"
   ]
  },
  {
   "cell_type": "markdown",
   "id": "785ad19c",
   "metadata": {},
   "source": [
    "ANGULO ZENITAL"
   ]
  },
  {
   "cell_type": "code",
   "execution_count": 11,
   "id": "1bd98717",
   "metadata": {},
   "outputs": [],
   "source": [
    "\n",
    "df['teta_z']= np.degrees(np.arccos(np.sin(np.radians(sigma))*np.sin(np.radians(L_a))+np.cos(np.radians(sigma))*np.cos(np.radians(L_a))*np.cos(np.radians(df['Omega']))))\n",
    "\n"
   ]
  },
  {
   "cell_type": "code",
   "execution_count": 16,
   "id": "87014e57",
   "metadata": {},
   "outputs": [
    {
     "data": {
      "text/html": [
       "<div>\n",
       "<style scoped>\n",
       "    .dataframe tbody tr th:only-of-type {\n",
       "        vertical-align: middle;\n",
       "    }\n",
       "\n",
       "    .dataframe tbody tr th {\n",
       "        vertical-align: top;\n",
       "    }\n",
       "\n",
       "    .dataframe thead th {\n",
       "        text-align: right;\n",
       "    }\n",
       "</style>\n",
       "<table border=\"1\" class=\"dataframe\">\n",
       "  <thead>\n",
       "    <tr style=\"text-align: right;\">\n",
       "      <th></th>\n",
       "      <th>HL</th>\n",
       "      <th>HS</th>\n",
       "      <th>Omega</th>\n",
       "      <th>teta_z</th>\n",
       "      <th>Sombra</th>\n",
       "    </tr>\n",
       "  </thead>\n",
       "  <tbody>\n",
       "    <tr>\n",
       "      <th>0</th>\n",
       "      <td>5.00</td>\n",
       "      <td>4.978526</td>\n",
       "      <td>-105.322115</td>\n",
       "      <td>103.852199</td>\n",
       "      <td>-4.055318</td>\n",
       "    </tr>\n",
       "    <tr>\n",
       "      <th>1</th>\n",
       "      <td>5.50</td>\n",
       "      <td>5.478526</td>\n",
       "      <td>-97.822115</td>\n",
       "      <td>97.004417</td>\n",
       "      <td>-8.139159</td>\n",
       "    </tr>\n",
       "    <tr>\n",
       "      <th>2</th>\n",
       "      <td>5.99</td>\n",
       "      <td>5.968526</td>\n",
       "      <td>-90.472115</td>\n",
       "      <td>90.271512</td>\n",
       "      <td>-211.023393</td>\n",
       "    </tr>\n",
       "    <tr>\n",
       "      <th>3</th>\n",
       "      <td>6.50</td>\n",
       "      <td>6.478526</td>\n",
       "      <td>-82.822115</td>\n",
       "      <td>83.260453</td>\n",
       "      <td>8.462184</td>\n",
       "    </tr>\n",
       "    <tr>\n",
       "      <th>4</th>\n",
       "      <td>7.00</td>\n",
       "      <td>6.978526</td>\n",
       "      <td>-75.322115</td>\n",
       "      <td>76.402983</td>\n",
       "      <td>4.134447</td>\n",
       "    </tr>\n",
       "    <tr>\n",
       "      <th>5</th>\n",
       "      <td>7.50</td>\n",
       "      <td>7.478526</td>\n",
       "      <td>-67.822115</td>\n",
       "      <td>69.582857</td>\n",
       "      <td>2.686458</td>\n",
       "    </tr>\n",
       "    <tr>\n",
       "      <th>6</th>\n",
       "      <td>8.00</td>\n",
       "      <td>7.978526</td>\n",
       "      <td>-60.322115</td>\n",
       "      <td>62.826106</td>\n",
       "      <td>1.947972</td>\n",
       "    </tr>\n",
       "    <tr>\n",
       "      <th>7</th>\n",
       "      <td>8.50</td>\n",
       "      <td>8.478526</td>\n",
       "      <td>-52.822115</td>\n",
       "      <td>56.167504</td>\n",
       "      <td>1.491951</td>\n",
       "    </tr>\n",
       "    <tr>\n",
       "      <th>8</th>\n",
       "      <td>9.00</td>\n",
       "      <td>8.978526</td>\n",
       "      <td>-45.322115</td>\n",
       "      <td>49.656942</td>\n",
       "      <td>1.177365</td>\n",
       "    </tr>\n",
       "    <tr>\n",
       "      <th>9</th>\n",
       "      <td>9.50</td>\n",
       "      <td>9.478526</td>\n",
       "      <td>-37.822115</td>\n",
       "      <td>43.370340</td>\n",
       "      <td>0.944673</td>\n",
       "    </tr>\n",
       "    <tr>\n",
       "      <th>10</th>\n",
       "      <td>10.00</td>\n",
       "      <td>9.978526</td>\n",
       "      <td>-30.322115</td>\n",
       "      <td>37.428919</td>\n",
       "      <td>0.765358</td>\n",
       "    </tr>\n",
       "    <tr>\n",
       "      <th>11</th>\n",
       "      <td>10.50</td>\n",
       "      <td>10.478526</td>\n",
       "      <td>-22.822115</td>\n",
       "      <td>32.032604</td>\n",
       "      <td>0.625661</td>\n",
       "    </tr>\n",
       "    <tr>\n",
       "      <th>12</th>\n",
       "      <td>11.00</td>\n",
       "      <td>10.978526</td>\n",
       "      <td>-15.322115</td>\n",
       "      <td>27.510295</td>\n",
       "      <td>0.520795</td>\n",
       "    </tr>\n",
       "    <tr>\n",
       "      <th>13</th>\n",
       "      <td>11.50</td>\n",
       "      <td>11.478526</td>\n",
       "      <td>-7.822115</td>\n",
       "      <td>24.358607</td>\n",
       "      <td>0.452749</td>\n",
       "    </tr>\n",
       "    <tr>\n",
       "      <th>14</th>\n",
       "      <td>12.00</td>\n",
       "      <td>11.978526</td>\n",
       "      <td>-0.322115</td>\n",
       "      <td>23.147358</td>\n",
       "      <td>0.427513</td>\n",
       "    </tr>\n",
       "    <tr>\n",
       "      <th>15</th>\n",
       "      <td>12.50</td>\n",
       "      <td>12.478526</td>\n",
       "      <td>7.177885</td>\n",
       "      <td>24.171035</td>\n",
       "      <td>0.448810</td>\n",
       "    </tr>\n",
       "    <tr>\n",
       "      <th>16</th>\n",
       "      <td>13.00</td>\n",
       "      <td>12.978526</td>\n",
       "      <td>14.677885</td>\n",
       "      <td>27.177531</td>\n",
       "      <td>0.513435</td>\n",
       "    </tr>\n",
       "    <tr>\n",
       "      <th>17</th>\n",
       "      <td>13.50</td>\n",
       "      <td>13.478526</td>\n",
       "      <td>22.177885</td>\n",
       "      <td>31.603949</td>\n",
       "      <td>0.615299</td>\n",
       "    </tr>\n",
       "    <tr>\n",
       "      <th>18</th>\n",
       "      <td>14.00</td>\n",
       "      <td>13.978526</td>\n",
       "      <td>29.677885</td>\n",
       "      <td>36.940354</td>\n",
       "      <td>0.751923</td>\n",
       "    </tr>\n",
       "    <tr>\n",
       "      <th>19</th>\n",
       "      <td>14.50</td>\n",
       "      <td>14.478526</td>\n",
       "      <td>37.177885</td>\n",
       "      <td>42.844250</td>\n",
       "      <td>0.927446</td>\n",
       "    </tr>\n",
       "    <tr>\n",
       "      <th>20</th>\n",
       "      <td>15.00</td>\n",
       "      <td>14.978526</td>\n",
       "      <td>44.677885</td>\n",
       "      <td>49.106804</td>\n",
       "      <td>1.154709</td>\n",
       "    </tr>\n",
       "    <tr>\n",
       "      <th>21</th>\n",
       "      <td>15.50</td>\n",
       "      <td>15.478526</td>\n",
       "      <td>52.177885</td>\n",
       "      <td>55.601590</td>\n",
       "      <td>1.460550</td>\n",
       "    </tr>\n",
       "    <tr>\n",
       "      <th>22</th>\n",
       "      <td>16.00</td>\n",
       "      <td>15.978526</td>\n",
       "      <td>59.677885</td>\n",
       "      <td>62.249712</td>\n",
       "      <td>1.900664</td>\n",
       "    </tr>\n",
       "    <tr>\n",
       "      <th>23</th>\n",
       "      <td>16.50</td>\n",
       "      <td>16.478526</td>\n",
       "      <td>67.177885</td>\n",
       "      <td>68.999560</td>\n",
       "      <td>2.605029</td>\n",
       "    </tr>\n",
       "    <tr>\n",
       "      <th>24</th>\n",
       "      <td>17.00</td>\n",
       "      <td>16.978526</td>\n",
       "      <td>74.677885</td>\n",
       "      <td>75.815357</td>\n",
       "      <td>3.956421</td>\n",
       "    </tr>\n",
       "    <tr>\n",
       "      <th>25</th>\n",
       "      <td>17.50</td>\n",
       "      <td>17.478526</td>\n",
       "      <td>82.177885</td>\n",
       "      <td>82.670501</td>\n",
       "      <td>7.774460</td>\n",
       "    </tr>\n",
       "    <tr>\n",
       "      <th>26</th>\n",
       "      <td>18.00</td>\n",
       "      <td>17.978526</td>\n",
       "      <td>89.677885</td>\n",
       "      <td>89.543444</td>\n",
       "      <td>125.492897</td>\n",
       "    </tr>\n",
       "    <tr>\n",
       "      <th>27</th>\n",
       "      <td>18.50</td>\n",
       "      <td>18.478526</td>\n",
       "      <td>97.177885</td>\n",
       "      <td>96.414868</td>\n",
       "      <td>-8.894365</td>\n",
       "    </tr>\n",
       "  </tbody>\n",
       "</table>\n",
       "</div>"
      ],
      "text/plain": [
       "       HL         HS       Omega      teta_z      Sombra\n",
       "0    5.00   4.978526 -105.322115  103.852199   -4.055318\n",
       "1    5.50   5.478526  -97.822115   97.004417   -8.139159\n",
       "2    5.99   5.968526  -90.472115   90.271512 -211.023393\n",
       "3    6.50   6.478526  -82.822115   83.260453    8.462184\n",
       "4    7.00   6.978526  -75.322115   76.402983    4.134447\n",
       "5    7.50   7.478526  -67.822115   69.582857    2.686458\n",
       "6    8.00   7.978526  -60.322115   62.826106    1.947972\n",
       "7    8.50   8.478526  -52.822115   56.167504    1.491951\n",
       "8    9.00   8.978526  -45.322115   49.656942    1.177365\n",
       "9    9.50   9.478526  -37.822115   43.370340    0.944673\n",
       "10  10.00   9.978526  -30.322115   37.428919    0.765358\n",
       "11  10.50  10.478526  -22.822115   32.032604    0.625661\n",
       "12  11.00  10.978526  -15.322115   27.510295    0.520795\n",
       "13  11.50  11.478526   -7.822115   24.358607    0.452749\n",
       "14  12.00  11.978526   -0.322115   23.147358    0.427513\n",
       "15  12.50  12.478526    7.177885   24.171035    0.448810\n",
       "16  13.00  12.978526   14.677885   27.177531    0.513435\n",
       "17  13.50  13.478526   22.177885   31.603949    0.615299\n",
       "18  14.00  13.978526   29.677885   36.940354    0.751923\n",
       "19  14.50  14.478526   37.177885   42.844250    0.927446\n",
       "20  15.00  14.978526   44.677885   49.106804    1.154709\n",
       "21  15.50  15.478526   52.177885   55.601590    1.460550\n",
       "22  16.00  15.978526   59.677885   62.249712    1.900664\n",
       "23  16.50  16.478526   67.177885   68.999560    2.605029\n",
       "24  17.00  16.978526   74.677885   75.815357    3.956421\n",
       "25  17.50  17.478526   82.177885   82.670501    7.774460\n",
       "26  18.00  17.978526   89.677885   89.543444  125.492897\n",
       "27  18.50  18.478526   97.177885   96.414868   -8.894365"
      ]
     },
     "execution_count": 16,
     "metadata": {},
     "output_type": "execute_result"
    }
   ],
   "source": [
    "df['Sombra']=np.tan(np.radians(df['teta_z']))\n",
    "df\n"
   ]
  },
  {
   "cell_type": "code",
   "execution_count": 21,
   "id": "d461b3d8",
   "metadata": {},
   "outputs": [
    {
     "data": {
      "text/html": [
       "<div>\n",
       "<style scoped>\n",
       "    .dataframe tbody tr th:only-of-type {\n",
       "        vertical-align: middle;\n",
       "    }\n",
       "\n",
       "    .dataframe tbody tr th {\n",
       "        vertical-align: top;\n",
       "    }\n",
       "\n",
       "    .dataframe thead th {\n",
       "        text-align: right;\n",
       "    }\n",
       "</style>\n",
       "<table border=\"1\" class=\"dataframe\">\n",
       "  <thead>\n",
       "    <tr style=\"text-align: right;\">\n",
       "      <th></th>\n",
       "      <th>HL</th>\n",
       "      <th>HS</th>\n",
       "      <th>Omega</th>\n",
       "      <th>teta_z</th>\n",
       "      <th>Sombra</th>\n",
       "    </tr>\n",
       "  </thead>\n",
       "  <tbody>\n",
       "    <tr>\n",
       "      <th>3</th>\n",
       "      <td>6.5</td>\n",
       "      <td>6.478526</td>\n",
       "      <td>-82.822115</td>\n",
       "      <td>83.260453</td>\n",
       "      <td>8.462184</td>\n",
       "    </tr>\n",
       "    <tr>\n",
       "      <th>4</th>\n",
       "      <td>7.0</td>\n",
       "      <td>6.978526</td>\n",
       "      <td>-75.322115</td>\n",
       "      <td>76.402983</td>\n",
       "      <td>4.134447</td>\n",
       "    </tr>\n",
       "    <tr>\n",
       "      <th>5</th>\n",
       "      <td>7.5</td>\n",
       "      <td>7.478526</td>\n",
       "      <td>-67.822115</td>\n",
       "      <td>69.582857</td>\n",
       "      <td>2.686458</td>\n",
       "    </tr>\n",
       "    <tr>\n",
       "      <th>6</th>\n",
       "      <td>8.0</td>\n",
       "      <td>7.978526</td>\n",
       "      <td>-60.322115</td>\n",
       "      <td>62.826106</td>\n",
       "      <td>1.947972</td>\n",
       "    </tr>\n",
       "    <tr>\n",
       "      <th>7</th>\n",
       "      <td>8.5</td>\n",
       "      <td>8.478526</td>\n",
       "      <td>-52.822115</td>\n",
       "      <td>56.167504</td>\n",
       "      <td>1.491951</td>\n",
       "    </tr>\n",
       "    <tr>\n",
       "      <th>8</th>\n",
       "      <td>9.0</td>\n",
       "      <td>8.978526</td>\n",
       "      <td>-45.322115</td>\n",
       "      <td>49.656942</td>\n",
       "      <td>1.177365</td>\n",
       "    </tr>\n",
       "    <tr>\n",
       "      <th>9</th>\n",
       "      <td>9.5</td>\n",
       "      <td>9.478526</td>\n",
       "      <td>-37.822115</td>\n",
       "      <td>43.370340</td>\n",
       "      <td>0.944673</td>\n",
       "    </tr>\n",
       "    <tr>\n",
       "      <th>10</th>\n",
       "      <td>10.0</td>\n",
       "      <td>9.978526</td>\n",
       "      <td>-30.322115</td>\n",
       "      <td>37.428919</td>\n",
       "      <td>0.765358</td>\n",
       "    </tr>\n",
       "    <tr>\n",
       "      <th>11</th>\n",
       "      <td>10.5</td>\n",
       "      <td>10.478526</td>\n",
       "      <td>-22.822115</td>\n",
       "      <td>32.032604</td>\n",
       "      <td>0.625661</td>\n",
       "    </tr>\n",
       "    <tr>\n",
       "      <th>12</th>\n",
       "      <td>11.0</td>\n",
       "      <td>10.978526</td>\n",
       "      <td>-15.322115</td>\n",
       "      <td>27.510295</td>\n",
       "      <td>0.520795</td>\n",
       "    </tr>\n",
       "    <tr>\n",
       "      <th>13</th>\n",
       "      <td>11.5</td>\n",
       "      <td>11.478526</td>\n",
       "      <td>-7.822115</td>\n",
       "      <td>24.358607</td>\n",
       "      <td>0.452749</td>\n",
       "    </tr>\n",
       "    <tr>\n",
       "      <th>14</th>\n",
       "      <td>12.0</td>\n",
       "      <td>11.978526</td>\n",
       "      <td>-0.322115</td>\n",
       "      <td>23.147358</td>\n",
       "      <td>0.427513</td>\n",
       "    </tr>\n",
       "    <tr>\n",
       "      <th>15</th>\n",
       "      <td>12.5</td>\n",
       "      <td>12.478526</td>\n",
       "      <td>7.177885</td>\n",
       "      <td>24.171035</td>\n",
       "      <td>0.448810</td>\n",
       "    </tr>\n",
       "    <tr>\n",
       "      <th>16</th>\n",
       "      <td>13.0</td>\n",
       "      <td>12.978526</td>\n",
       "      <td>14.677885</td>\n",
       "      <td>27.177531</td>\n",
       "      <td>0.513435</td>\n",
       "    </tr>\n",
       "    <tr>\n",
       "      <th>17</th>\n",
       "      <td>13.5</td>\n",
       "      <td>13.478526</td>\n",
       "      <td>22.177885</td>\n",
       "      <td>31.603949</td>\n",
       "      <td>0.615299</td>\n",
       "    </tr>\n",
       "    <tr>\n",
       "      <th>18</th>\n",
       "      <td>14.0</td>\n",
       "      <td>13.978526</td>\n",
       "      <td>29.677885</td>\n",
       "      <td>36.940354</td>\n",
       "      <td>0.751923</td>\n",
       "    </tr>\n",
       "    <tr>\n",
       "      <th>19</th>\n",
       "      <td>14.5</td>\n",
       "      <td>14.478526</td>\n",
       "      <td>37.177885</td>\n",
       "      <td>42.844250</td>\n",
       "      <td>0.927446</td>\n",
       "    </tr>\n",
       "    <tr>\n",
       "      <th>20</th>\n",
       "      <td>15.0</td>\n",
       "      <td>14.978526</td>\n",
       "      <td>44.677885</td>\n",
       "      <td>49.106804</td>\n",
       "      <td>1.154709</td>\n",
       "    </tr>\n",
       "    <tr>\n",
       "      <th>21</th>\n",
       "      <td>15.5</td>\n",
       "      <td>15.478526</td>\n",
       "      <td>52.177885</td>\n",
       "      <td>55.601590</td>\n",
       "      <td>1.460550</td>\n",
       "    </tr>\n",
       "    <tr>\n",
       "      <th>22</th>\n",
       "      <td>16.0</td>\n",
       "      <td>15.978526</td>\n",
       "      <td>59.677885</td>\n",
       "      <td>62.249712</td>\n",
       "      <td>1.900664</td>\n",
       "    </tr>\n",
       "    <tr>\n",
       "      <th>23</th>\n",
       "      <td>16.5</td>\n",
       "      <td>16.478526</td>\n",
       "      <td>67.177885</td>\n",
       "      <td>68.999560</td>\n",
       "      <td>2.605029</td>\n",
       "    </tr>\n",
       "    <tr>\n",
       "      <th>24</th>\n",
       "      <td>17.0</td>\n",
       "      <td>16.978526</td>\n",
       "      <td>74.677885</td>\n",
       "      <td>75.815357</td>\n",
       "      <td>3.956421</td>\n",
       "    </tr>\n",
       "    <tr>\n",
       "      <th>25</th>\n",
       "      <td>17.5</td>\n",
       "      <td>17.478526</td>\n",
       "      <td>82.177885</td>\n",
       "      <td>82.670501</td>\n",
       "      <td>7.774460</td>\n",
       "    </tr>\n",
       "    <tr>\n",
       "      <th>26</th>\n",
       "      <td>18.0</td>\n",
       "      <td>17.978526</td>\n",
       "      <td>89.677885</td>\n",
       "      <td>89.543444</td>\n",
       "      <td>125.492897</td>\n",
       "    </tr>\n",
       "  </tbody>\n",
       "</table>\n",
       "</div>"
      ],
      "text/plain": [
       "      HL         HS      Omega     teta_z      Sombra\n",
       "3    6.5   6.478526 -82.822115  83.260453    8.462184\n",
       "4    7.0   6.978526 -75.322115  76.402983    4.134447\n",
       "5    7.5   7.478526 -67.822115  69.582857    2.686458\n",
       "6    8.0   7.978526 -60.322115  62.826106    1.947972\n",
       "7    8.5   8.478526 -52.822115  56.167504    1.491951\n",
       "8    9.0   8.978526 -45.322115  49.656942    1.177365\n",
       "9    9.5   9.478526 -37.822115  43.370340    0.944673\n",
       "10  10.0   9.978526 -30.322115  37.428919    0.765358\n",
       "11  10.5  10.478526 -22.822115  32.032604    0.625661\n",
       "12  11.0  10.978526 -15.322115  27.510295    0.520795\n",
       "13  11.5  11.478526  -7.822115  24.358607    0.452749\n",
       "14  12.0  11.978526  -0.322115  23.147358    0.427513\n",
       "15  12.5  12.478526   7.177885  24.171035    0.448810\n",
       "16  13.0  12.978526  14.677885  27.177531    0.513435\n",
       "17  13.5  13.478526  22.177885  31.603949    0.615299\n",
       "18  14.0  13.978526  29.677885  36.940354    0.751923\n",
       "19  14.5  14.478526  37.177885  42.844250    0.927446\n",
       "20  15.0  14.978526  44.677885  49.106804    1.154709\n",
       "21  15.5  15.478526  52.177885  55.601590    1.460550\n",
       "22  16.0  15.978526  59.677885  62.249712    1.900664\n",
       "23  16.5  16.478526  67.177885  68.999560    2.605029\n",
       "24  17.0  16.978526  74.677885  75.815357    3.956421\n",
       "25  17.5  17.478526  82.177885  82.670501    7.774460\n",
       "26  18.0  17.978526  89.677885  89.543444  125.492897"
      ]
     },
     "execution_count": 21,
     "metadata": {},
     "output_type": "execute_result"
    }
   ],
   "source": [
    "sombra=df.loc[3:26]\n",
    "sombra\n"
   ]
  },
  {
   "cell_type": "code",
   "execution_count": 22,
   "id": "8f98e471",
   "metadata": {},
   "outputs": [
    {
     "data": {
      "text/plain": [
       "<AxesSubplot:xlabel='HL'>"
      ]
     },
     "execution_count": 22,
     "metadata": {},
     "output_type": "execute_result"
    },
    {
     "data": {
      "image/png": "[encoded data removed]",
      "text/plain": [
       "<Figure size 432x288 with 1 Axes>"
      ]
     },
     "metadata": {
      "needs_background": "light"
     },
     "output_type": "display_data"
    }
   ],
   "source": [
    "sombra.plot.bar(y='Sombra',x='HL')"
   ]
  },
  {
   "cell_type": "code",
   "execution_count": null,
   "id": "fad0b3b1",
   "metadata": {},
   "outputs": [],
   "source": []
  },
  {
   "cell_type": "code",
   "execution_count": null,
   "id": "b87bf906",
   "metadata": {},
   "outputs": [],
   "source": []
  },
  {
   "cell_type": "code",
   "execution_count": null,
   "id": "6cd08d40",
   "metadata": {},
   "outputs": [],
   "source": []
  },
  {
   "cell_type": "code",
   "execution_count": null,
   "id": "05b32759",
   "metadata": {},
   "outputs": [],
   "source": []
  },
  {
   "cell_type": "code",
   "execution_count": null,
   "id": "682be461",
   "metadata": {},
   "outputs": [],
   "source": []
  },
  {
   "cell_type": "code",
   "execution_count": null,
   "id": "0daecefb",
   "metadata": {},
   "outputs": [],
   "source": []
  },
  {
   "cell_type": "code",
   "execution_count": null,
   "id": "bcb15685",
   "metadata": {},
   "outputs": [],
   "source": []
  },
  {
   "cell_type": "code",
   "execution_count": null,
   "id": "e0228a9c",
   "metadata": {},
   "outputs": [],
   "source": []
  },
  {
   "cell_type": "code",
   "execution_count": null,
   "id": "6eee0e1e",
   "metadata": {},
   "outputs": [],
   "source": []
  },
  {
   "cell_type": "code",
   "execution_count": null,
   "id": "0abd4236",
   "metadata": {},
   "outputs": [],
   "source": []
  },
  {
   "cell_type": "code",
   "execution_count": null,
   "id": "13fc164f",
   "metadata": {},
   "outputs": [],
   "source": []
  },
  {
   "cell_type": "code",
   "execution_count": null,
   "id": "d0083948",
   "metadata": {},
   "outputs": [],
   "source": []
  },
  {
   "cell_type": "code",
   "execution_count": null,
   "id": "282a9447",
   "metadata": {},
   "outputs": [],
   "source": []
  },
  {
   "cell_type": "code",
   "execution_count": null,
   "id": "f334554e",
   "metadata": {},
   "outputs": [],
   "source": []
  },
  {
   "cell_type": "code",
   "execution_count": null,
   "id": "c19fc1b2",
   "metadata": {},
   "outputs": [],
   "source": []
  },
  {
   "cell_type": "code",
   "execution_count": null,
   "id": "93663a34",
   "metadata": {},
   "outputs": [],
   "source": []
  },
  {
   "cell_type": "code",
   "execution_count": null,
   "id": "cfed288d",
   "metadata": {},
   "outputs": [],
   "source": []
  },
  {
   "cell_type": "code",
   "execution_count": null,
   "id": "e0690fed",
   "metadata": {},
   "outputs": [],
   "source": []
  },
  {
   "cell_type": "code",
   "execution_count": null,
   "id": "e0f43df4",
   "metadata": {},
   "outputs": [],
   "source": []
  },
  {
   "cell_type": "code",
   "execution_count": null,
   "id": "8b87a7ad",
   "metadata": {},
   "outputs": [],
   "source": []
  },
  {
   "cell_type": "code",
   "execution_count": null,
   "id": "e4345883",
   "metadata": {},
   "outputs": [],
   "source": []
  },
  {
   "cell_type": "markdown",
   "id": "f51fdae3",
   "metadata": {},
   "source": [
    "ANGULO DO AZIMUTE SOLAR"
   ]
  },
  {
   "cell_type": "code",
   "execution_count": null,
   "id": "913bf768",
   "metadata": {},
   "outputs": [],
   "source": []
  },
  {
   "cell_type": "code",
   "execution_count": null,
   "id": "e94cc88c",
   "metadata": {},
   "outputs": [],
   "source": []
  },
  {
   "cell_type": "code",
   "execution_count": null,
   "id": "8294909d",
   "metadata": {},
   "outputs": [],
   "source": []
  },
  {
   "cell_type": "code",
   "execution_count": null,
   "id": "ba1e0f4e",
   "metadata": {},
   "outputs": [],
   "source": []
  },
  {
   "cell_type": "code",
   "execution_count": null,
   "id": "d8ebd1f0",
   "metadata": {},
   "outputs": [],
   "source": []
  },
  {
   "cell_type": "code",
   "execution_count": null,
   "id": "429e261b",
   "metadata": {},
   "outputs": [],
   "source": []
  },
  {
   "cell_type": "code",
   "execution_count": null,
   "id": "8e2bc673",
   "metadata": {},
   "outputs": [],
   "source": []
  },
  {
   "cell_type": "code",
   "execution_count": null,
   "id": "8e9795d3",
   "metadata": {},
   "outputs": [],
   "source": []
  },
  {
   "cell_type": "code",
   "execution_count": null,
   "id": "d1457f62",
   "metadata": {},
   "outputs": [],
   "source": []
  },
  {
   "cell_type": "code",
   "execution_count": null,
   "id": "155efcd7",
   "metadata": {},
   "outputs": [],
   "source": []
  },
  {
   "cell_type": "code",
   "execution_count": null,
   "id": "8a4231dd",
   "metadata": {},
   "outputs": [],
   "source": []
  },
  {
   "cell_type": "code",
   "execution_count": null,
   "id": "75613b31",
   "metadata": {},
   "outputs": [],
   "source": []
  },
  {
   "cell_type": "code",
   "execution_count": null,
   "id": "7c17ed16",
   "metadata": {},
   "outputs": [],
   "source": []
  },
  {
   "cell_type": "code",
   "execution_count": null,
   "id": "70c12e96",
   "metadata": {},
   "outputs": [],
   "source": []
  },
  {
   "cell_type": "code",
   "execution_count": null,
   "id": "c6a6ec3d",
   "metadata": {},
   "outputs": [],
   "source": []
  },
  {
   "cell_type": "code",
   "execution_count": null,
   "id": "ff1a4ce1",
   "metadata": {},
   "outputs": [],
   "source": []
  },
  {
   "cell_type": "code",
   "execution_count": null,
   "id": "5ee62711",
   "metadata": {},
   "outputs": [],
   "source": []
  },
  {
   "cell_type": "code",
   "execution_count": null,
   "id": "9fd24123",
   "metadata": {},
   "outputs": [],
   "source": []
  },
  {
   "cell_type": "code",
   "execution_count": null,
   "id": "9618b2fa",
   "metadata": {},
   "outputs": [],
   "source": []
  },
  {
   "cell_type": "code",
   "execution_count": null,
   "id": "a22e5dda",
   "metadata": {},
   "outputs": [],
   "source": []
  },
  {
   "cell_type": "code",
   "execution_count": null,
   "id": "6dd50648",
   "metadata": {},
   "outputs": [],
   "source": []
  },
  {
   "cell_type": "code",
   "execution_count": null,
   "id": "c147e114",
   "metadata": {},
   "outputs": [],
   "source": []
  },
  {
   "cell_type": "code",
   "execution_count": null,
   "id": "87747546",
   "metadata": {},
   "outputs": [],
   "source": []
  },
  {
   "cell_type": "code",
   "execution_count": null,
   "id": "117b074b",
   "metadata": {},
   "outputs": [],
   "source": []
  },
  {
   "cell_type": "code",
   "execution_count": null,
   "id": "b9a96ba8",
   "metadata": {},
   "outputs": [],
   "source": []
  },
  {
   "cell_type": "code",
   "execution_count": null,
   "id": "e770a13a",
   "metadata": {},
   "outputs": [],
   "source": []
  },
  {
   "cell_type": "code",
   "execution_count": null,
   "id": "d5fc6a53",
   "metadata": {},
   "outputs": [],
   "source": []
  },
  {
   "cell_type": "code",
   "execution_count": null,
   "id": "8f7de731",
   "metadata": {},
   "outputs": [],
   "source": []
  },
  {
   "cell_type": "code",
   "execution_count": null,
   "id": "97818b69",
   "metadata": {},
   "outputs": [],
   "source": []
  },
  {
   "cell_type": "code",
   "execution_count": null,
   "id": "1a5b3bb5",
   "metadata": {},
   "outputs": [],
   "source": []
  },
  {
   "cell_type": "code",
   "execution_count": null,
   "id": "e4d4ddd5",
   "metadata": {},
   "outputs": [],
   "source": []
  },
  {
   "cell_type": "code",
   "execution_count": null,
   "id": "55fd3dc8",
   "metadata": {},
   "outputs": [],
   "source": []
  },
  {
   "cell_type": "code",
   "execution_count": null,
   "id": "3407b204",
   "metadata": {},
   "outputs": [],
   "source": []
  },
  {
   "cell_type": "code",
   "execution_count": null,
   "id": "90ba0545",
   "metadata": {},
   "outputs": [],
   "source": []
  },
  {
   "cell_type": "markdown",
   "id": "30a8ec9c",
   "metadata": {},
   "source": [
    "df['Gama_s']= np.degrees(np.arccos(np.radians(((np.cos(np.radians(df['teta_z'])))* (np.sin(np.radians(df['Omega'])))-(np.sin(np.radians(df['sigma']))))/((np.sin(np.radians(df['teta_z'])))*np.cos(np.radians(df['teta_z']))))))\n"
   ]
  },
  {
   "cell_type": "markdown",
   "id": "d783eb59",
   "metadata": {},
   "source": [
    "ANGULO DE INCIDÊNCIA "
   ]
  },
  {
   "cell_type": "markdown",
   "id": "2494a0f2",
   "metadata": {},
   "source": [
    "df['teta']=(np.sin(np.radians(df['sigma'])))*(np.sin(np.radians(L_a)))\n"
   ]
  },
  {
   "cell_type": "code",
   "execution_count": null,
   "id": "9d09c6f6",
   "metadata": {},
   "outputs": [],
   "source": []
  },
  {
   "cell_type": "code",
   "execution_count": null,
   "id": "2776f7d5",
   "metadata": {},
   "outputs": [],
   "source": []
  },
  {
   "cell_type": "code",
   "execution_count": null,
   "id": "31e3a130",
   "metadata": {},
   "outputs": [],
   "source": []
  },
  {
   "cell_type": "code",
   "execution_count": null,
   "id": "d5f038a0",
   "metadata": {},
   "outputs": [],
   "source": []
  }
 ],
 "metadata": {
  "kernelspec": {
   "display_name": "Python 3",
   "language": "python",
   "name": "python3"
  },
  "language_info": {
   "codemirror_mode": {
    "name": "ipython",
    "version": 3
   },
   "file_extension": ".py",
   "mimetype": "text/x-python",
   "name": "python",
   "nbconvert_exporter": "python",
   "pygments_lexer": "ipython3",
   "version": "3.8.5"
  }
 },
 "nbformat": 4,
 "nbformat_minor": 5
}
