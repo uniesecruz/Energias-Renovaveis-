{
 "cells": [
  {
   "cell_type": "code",
   "execution_count": 3,
   "id": "a57fc5b7",
   "metadata": {},
   "outputs": [],
   "source": [
    "import handcalcs.render\n",
    "import math as mt\n",
    "import numpy as np\n",
    "import pandas as pd\n",
    "import matplotlib.pyplot as plt\n",
    "import statistics as st"
   ]
  },
  {
   "cell_type": "markdown",
   "id": "946bba41",
   "metadata": {},
   "source": [
    "Correção"
   ]
  },
  {
   "cell_type": "markdown",
   "id": "71b56893",
   "metadata": {},
   "source": [
    "Equinócio de primavera  - 21/set"
   ]
  },
  {
   "cell_type": "code",
   "execution_count": 4,
   "id": "b68570e9",
   "metadata": {},
   "outputs": [],
   "source": [
    "Mes=9     #Setembro\n",
    "Dia=21     #dia da semana\n",
    "Cor=3    #corre\n",
    "L_O=-45       #Longitude Hora Legal\n",
    "L =-46.6388  #Longitude \n",
    "L_a= -23.5489  #Latitude"
   ]
  },
  {
   "cell_type": "markdown",
   "id": "74cf7d74",
   "metadata": {},
   "source": [
    "numero de dias do ano "
   ]
  },
  {
   "cell_type": "code",
   "execution_count": 5,
   "id": "0e254879",
   "metadata": {},
   "outputs": [],
   "source": [
    "n= Dia + (Mes -1)*30 +Cor\n"
   ]
  },
  {
   "cell_type": "markdown",
   "id": "f59428da",
   "metadata": {},
   "source": [
    "HORA SOLAR "
   ]
  },
  {
   "cell_type": "code",
   "execution_count": 6,
   "id": "90b2e6d0",
   "metadata": {},
   "outputs": [],
   "source": [
    "B= (360/364)*(n-81)\n"
   ]
  },
  {
   "cell_type": "code",
   "execution_count": 7,
   "id": "d6628060",
   "metadata": {},
   "outputs": [],
   "source": [
    "E= 9.87*np.sin(np.radians(2*B))-7.53*np.cos(np.radians(B))-1.5*np.sin(np.radians(B))\n",
    "\n"
   ]
  },
  {
   "cell_type": "code",
   "execution_count": 8,
   "id": "b75a29de",
   "metadata": {
    "scrolled": true
   },
   "outputs": [],
   "source": [
    "\n",
    "Corhora= (4*(L_O-L)+E)/60\n"
   ]
  },
  {
   "cell_type": "code",
   "execution_count": 9,
   "id": "d2d85aa8",
   "metadata": {},
   "outputs": [],
   "source": [
    "df=pd.read_csv(\"Hora Legal.csv\" , encoding ='UTF-8' , sep=\";\")\n",
    "\n"
   ]
  },
  {
   "cell_type": "code",
   "execution_count": 10,
   "id": "d7e46a26",
   "metadata": {},
   "outputs": [],
   "source": [
    "\n",
    "df['HS']= df['HL']+Corhora\n"
   ]
  },
  {
   "cell_type": "markdown",
   "id": "6006cc2e",
   "metadata": {},
   "source": [
    "ANGULO HORARIO "
   ]
  },
  {
   "cell_type": "code",
   "execution_count": 11,
   "id": "0f1657d2",
   "metadata": {},
   "outputs": [],
   "source": [
    "\n",
    "df['Omega']= (df['HS']-12)*15\n"
   ]
  },
  {
   "cell_type": "markdown",
   "id": "d96d5456",
   "metadata": {},
   "source": [
    "DECLINAÇÃO SOLAR "
   ]
  },
  {
   "cell_type": "code",
   "execution_count": 12,
   "id": "a1227f11",
   "metadata": {},
   "outputs": [],
   "source": [
    "\n",
    "sigma= 23.45*np.sin(np.radians(360/365*(284+n)))"
   ]
  },
  {
   "cell_type": "markdown",
   "id": "785ad19c",
   "metadata": {},
   "source": [
    "ANGULO ZENITAL"
   ]
  },
  {
   "cell_type": "code",
   "execution_count": 1,
   "id": "1bd98717",
   "metadata": {},
   "outputs": [
    {
     "ename": "NameError",
     "evalue": "name 'np' is not defined",
     "output_type": "error",
     "traceback": [
      "\u001b[1;31m---------------------------------------------------------------------------\u001b[0m",
      "\u001b[1;31mNameError\u001b[0m                                 Traceback (most recent call last)",
      "\u001b[1;32m<ipython-input-1-6a22683fb3b7>\u001b[0m in \u001b[0;36m<module>\u001b[1;34m\u001b[0m\n\u001b[1;32m----> 1\u001b[1;33m \u001b[0mdf\u001b[0m\u001b[1;33m[\u001b[0m\u001b[1;34m'teta_z'\u001b[0m\u001b[1;33m]\u001b[0m\u001b[1;33m=\u001b[0m \u001b[0mnp\u001b[0m\u001b[1;33m.\u001b[0m\u001b[0mdegrees\u001b[0m\u001b[1;33m(\u001b[0m\u001b[0mnp\u001b[0m\u001b[1;33m.\u001b[0m\u001b[0marccos\u001b[0m\u001b[1;33m(\u001b[0m\u001b[0mnp\u001b[0m\u001b[1;33m.\u001b[0m\u001b[0msin\u001b[0m\u001b[1;33m(\u001b[0m\u001b[0mnp\u001b[0m\u001b[1;33m.\u001b[0m\u001b[0mradians\u001b[0m\u001b[1;33m(\u001b[0m\u001b[0msigma\u001b[0m\u001b[1;33m)\u001b[0m\u001b[1;33m)\u001b[0m\u001b[1;33m*\u001b[0m\u001b[0mnp\u001b[0m\u001b[1;33m.\u001b[0m\u001b[0msin\u001b[0m\u001b[1;33m(\u001b[0m\u001b[0mnp\u001b[0m\u001b[1;33m.\u001b[0m\u001b[0mradians\u001b[0m\u001b[1;33m(\u001b[0m\u001b[0mL_a\u001b[0m\u001b[1;33m)\u001b[0m\u001b[1;33m)\u001b[0m\u001b[1;33m+\u001b[0m\u001b[0mnp\u001b[0m\u001b[1;33m.\u001b[0m\u001b[0mcos\u001b[0m\u001b[1;33m(\u001b[0m\u001b[0mnp\u001b[0m\u001b[1;33m.\u001b[0m\u001b[0mradians\u001b[0m\u001b[1;33m(\u001b[0m\u001b[0msigma\u001b[0m\u001b[1;33m)\u001b[0m\u001b[1;33m)\u001b[0m\u001b[1;33m*\u001b[0m\u001b[0mnp\u001b[0m\u001b[1;33m.\u001b[0m\u001b[0mcos\u001b[0m\u001b[1;33m(\u001b[0m\u001b[0mnp\u001b[0m\u001b[1;33m.\u001b[0m\u001b[0mradians\u001b[0m\u001b[1;33m(\u001b[0m\u001b[0mL_a\u001b[0m\u001b[1;33m)\u001b[0m\u001b[1;33m)\u001b[0m\u001b[1;33m*\u001b[0m\u001b[0mnp\u001b[0m\u001b[1;33m.\u001b[0m\u001b[0mcos\u001b[0m\u001b[1;33m(\u001b[0m\u001b[0mnp\u001b[0m\u001b[1;33m.\u001b[0m\u001b[0mradians\u001b[0m\u001b[1;33m(\u001b[0m\u001b[0mdf\u001b[0m\u001b[1;33m[\u001b[0m\u001b[1;34m'Omega'\u001b[0m\u001b[1;33m]\u001b[0m\u001b[1;33m)\u001b[0m\u001b[1;33m)\u001b[0m\u001b[1;33m)\u001b[0m\u001b[1;33m)\u001b[0m\u001b[1;33m\u001b[0m\u001b[1;33m\u001b[0m\u001b[0m\n\u001b[0m\u001b[0;32m      2\u001b[0m \u001b[0mdf\u001b[0m\u001b[1;33m\u001b[0m\u001b[1;33m\u001b[0m\u001b[0m\n",
      "\u001b[1;31mNameError\u001b[0m: name 'np' is not defined"
     ]
    }
   ],
   "source": [
    "\n",
    "df['teta_z']= np.degrees(np.arccos(np.sin(np.radians(sigma))*np.sin(np.radians(L_a))+np.cos(np.radians(sigma))*np.cos(np.radians(L_a))*np.cos(np.radians(df['Omega']))))\n",
    "df\n"
   ]
  },
  {
   "cell_type": "code",
   "execution_count": 14,
   "id": "60fef1d0",
   "metadata": {},
   "outputs": [
    {
     "data": {
      "text/html": [
       "<div>\n",
       "<style scoped>\n",
       "    .dataframe tbody tr th:only-of-type {\n",
       "        vertical-align: middle;\n",
       "    }\n",
       "\n",
       "    .dataframe tbody tr th {\n",
       "        vertical-align: top;\n",
       "    }\n",
       "\n",
       "    .dataframe thead th {\n",
       "        text-align: right;\n",
       "    }\n",
       "</style>\n",
       "<table border=\"1\" class=\"dataframe\">\n",
       "  <thead>\n",
       "    <tr style=\"text-align: right;\">\n",
       "      <th></th>\n",
       "      <th>HL</th>\n",
       "      <th>HS</th>\n",
       "      <th>Omega</th>\n",
       "      <th>teta_z</th>\n",
       "      <th>Sombra</th>\n",
       "    </tr>\n",
       "  </thead>\n",
       "  <tbody>\n",
       "    <tr>\n",
       "      <th>0</th>\n",
       "      <td>5.00</td>\n",
       "      <td>5.240844</td>\n",
       "      <td>-101.387339</td>\n",
       "      <td>100.345833</td>\n",
       "      <td>-5.477733</td>\n",
       "    </tr>\n",
       "    <tr>\n",
       "      <th>1</th>\n",
       "      <td>5.50</td>\n",
       "      <td>5.740844</td>\n",
       "      <td>-93.887339</td>\n",
       "      <td>93.482348</td>\n",
       "      <td>-16.432937</td>\n",
       "    </tr>\n",
       "    <tr>\n",
       "      <th>2</th>\n",
       "      <td>5.99</td>\n",
       "      <td>6.230844</td>\n",
       "      <td>-86.537339</td>\n",
       "      <td>86.745274</td>\n",
       "      <td>17.584933</td>\n",
       "    </tr>\n",
       "    <tr>\n",
       "      <th>3</th>\n",
       "      <td>6.50</td>\n",
       "      <td>6.740844</td>\n",
       "      <td>-78.887339</td>\n",
       "      <td>79.741256</td>\n",
       "      <td>5.525257</td>\n",
       "    </tr>\n",
       "    <tr>\n",
       "      <th>4</th>\n",
       "      <td>7.00</td>\n",
       "      <td>7.240844</td>\n",
       "      <td>-71.387339</td>\n",
       "      <td>72.902790</td>\n",
       "      <td>3.251114</td>\n",
       "    </tr>\n",
       "    <tr>\n",
       "      <th>5</th>\n",
       "      <td>7.50</td>\n",
       "      <td>7.740844</td>\n",
       "      <td>-63.887339</td>\n",
       "      <td>66.115916</td>\n",
       "      <td>2.258322</td>\n",
       "    </tr>\n",
       "    <tr>\n",
       "      <th>6</th>\n",
       "      <td>8.00</td>\n",
       "      <td>8.240844</td>\n",
       "      <td>-56.387339</td>\n",
       "      <td>59.410893</td>\n",
       "      <td>1.691642</td>\n",
       "    </tr>\n",
       "    <tr>\n",
       "      <th>7</th>\n",
       "      <td>8.50</td>\n",
       "      <td>8.740844</td>\n",
       "      <td>-48.887339</td>\n",
       "      <td>52.829785</td>\n",
       "      <td>1.318874</td>\n",
       "    </tr>\n",
       "    <tr>\n",
       "      <th>8</th>\n",
       "      <td>9.00</td>\n",
       "      <td>9.240844</td>\n",
       "      <td>-41.387339</td>\n",
       "      <td>46.434886</td>\n",
       "      <td>1.051385</td>\n",
       "    </tr>\n",
       "    <tr>\n",
       "      <th>9</th>\n",
       "      <td>9.50</td>\n",
       "      <td>9.740844</td>\n",
       "      <td>-33.887339</td>\n",
       "      <td>40.323406</td>\n",
       "      <td>0.848764</td>\n",
       "    </tr>\n",
       "    <tr>\n",
       "      <th>10</th>\n",
       "      <td>10.00</td>\n",
       "      <td>10.240844</td>\n",
       "      <td>-26.387339</td>\n",
       "      <td>34.653203</td>\n",
       "      <td>0.691225</td>\n",
       "    </tr>\n",
       "    <tr>\n",
       "      <th>11</th>\n",
       "      <td>10.50</td>\n",
       "      <td>10.740844</td>\n",
       "      <td>-18.887339</td>\n",
       "      <td>29.684855</td>\n",
       "      <td>0.570040</td>\n",
       "    </tr>\n",
       "    <tr>\n",
       "      <th>12</th>\n",
       "      <td>11.00</td>\n",
       "      <td>11.240844</td>\n",
       "      <td>-11.387339</td>\n",
       "      <td>25.832009</td>\n",
       "      <td>0.484108</td>\n",
       "    </tr>\n",
       "    <tr>\n",
       "      <th>13</th>\n",
       "      <td>11.50</td>\n",
       "      <td>11.740844</td>\n",
       "      <td>-3.887339</td>\n",
       "      <td>23.650137</td>\n",
       "      <td>0.437932</td>\n",
       "    </tr>\n",
       "    <tr>\n",
       "      <th>14</th>\n",
       "      <td>12.00</td>\n",
       "      <td>12.240844</td>\n",
       "      <td>3.612661</td>\n",
       "      <td>23.609050</td>\n",
       "      <td>0.437077</td>\n",
       "    </tr>\n",
       "    <tr>\n",
       "      <th>15</th>\n",
       "      <td>12.50</td>\n",
       "      <td>12.740844</td>\n",
       "      <td>11.112661</td>\n",
       "      <td>25.719041</td>\n",
       "      <td>0.481677</td>\n",
       "    </tr>\n",
       "    <tr>\n",
       "      <th>16</th>\n",
       "      <td>13.00</td>\n",
       "      <td>13.240844</td>\n",
       "      <td>18.612661</td>\n",
       "      <td>29.521006</td>\n",
       "      <td>0.566257</td>\n",
       "    </tr>\n",
       "    <tr>\n",
       "      <th>17</th>\n",
       "      <td>13.50</td>\n",
       "      <td>13.740844</td>\n",
       "      <td>26.112661</td>\n",
       "      <td>34.456853</td>\n",
       "      <td>0.686173</td>\n",
       "    </tr>\n",
       "    <tr>\n",
       "      <th>18</th>\n",
       "      <td>14.00</td>\n",
       "      <td>14.240844</td>\n",
       "      <td>33.612661</td>\n",
       "      <td>40.106739</td>\n",
       "      <td>0.842279</td>\n",
       "    </tr>\n",
       "    <tr>\n",
       "      <th>19</th>\n",
       "      <td>14.50</td>\n",
       "      <td>14.740844</td>\n",
       "      <td>41.112661</td>\n",
       "      <td>46.205321</td>\n",
       "      <td>1.042984</td>\n",
       "    </tr>\n",
       "    <tr>\n",
       "      <th>20</th>\n",
       "      <td>15.00</td>\n",
       "      <td>15.240844</td>\n",
       "      <td>48.612661</td>\n",
       "      <td>52.591829</td>\n",
       "      <td>1.307559</td>\n",
       "    </tr>\n",
       "    <tr>\n",
       "      <th>21</th>\n",
       "      <td>15.50</td>\n",
       "      <td>15.740844</td>\n",
       "      <td>56.112661</td>\n",
       "      <td>59.167376</td>\n",
       "      <td>1.675346</td>\n",
       "    </tr>\n",
       "    <tr>\n",
       "      <th>22</th>\n",
       "      <td>16.00</td>\n",
       "      <td>16.240844</td>\n",
       "      <td>63.612661</td>\n",
       "      <td>65.868696</td>\n",
       "      <td>2.232255</td>\n",
       "    </tr>\n",
       "    <tr>\n",
       "      <th>23</th>\n",
       "      <td>16.50</td>\n",
       "      <td>16.740844</td>\n",
       "      <td>71.112661</td>\n",
       "      <td>72.653160</td>\n",
       "      <td>3.201410</td>\n",
       "    </tr>\n",
       "    <tr>\n",
       "      <th>24</th>\n",
       "      <td>17.00</td>\n",
       "      <td>17.240844</td>\n",
       "      <td>78.612661</td>\n",
       "      <td>79.490181</td>\n",
       "      <td>5.390361</td>\n",
       "    </tr>\n",
       "    <tr>\n",
       "      <th>25</th>\n",
       "      <td>17.50</td>\n",
       "      <td>17.740844</td>\n",
       "      <td>86.112661</td>\n",
       "      <td>86.356061</td>\n",
       "      <td>15.702379</td>\n",
       "    </tr>\n",
       "    <tr>\n",
       "      <th>26</th>\n",
       "      <td>18.00</td>\n",
       "      <td>18.240844</td>\n",
       "      <td>93.612661</td>\n",
       "      <td>93.230655</td>\n",
       "      <td>-17.716238</td>\n",
       "    </tr>\n",
       "    <tr>\n",
       "      <th>27</th>\n",
       "      <td>18.50</td>\n",
       "      <td>18.740844</td>\n",
       "      <td>101.112661</td>\n",
       "      <td>100.094888</td>\n",
       "      <td>-5.616870</td>\n",
       "    </tr>\n",
       "  </tbody>\n",
       "</table>\n",
       "</div>"
      ],
      "text/plain": [
       "       HL         HS       Omega      teta_z     Sombra\n",
       "0    5.00   5.240844 -101.387339  100.345833  -5.477733\n",
       "1    5.50   5.740844  -93.887339   93.482348 -16.432937\n",
       "2    5.99   6.230844  -86.537339   86.745274  17.584933\n",
       "3    6.50   6.740844  -78.887339   79.741256   5.525257\n",
       "4    7.00   7.240844  -71.387339   72.902790   3.251114\n",
       "5    7.50   7.740844  -63.887339   66.115916   2.258322\n",
       "6    8.00   8.240844  -56.387339   59.410893   1.691642\n",
       "7    8.50   8.740844  -48.887339   52.829785   1.318874\n",
       "8    9.00   9.240844  -41.387339   46.434886   1.051385\n",
       "9    9.50   9.740844  -33.887339   40.323406   0.848764\n",
       "10  10.00  10.240844  -26.387339   34.653203   0.691225\n",
       "11  10.50  10.740844  -18.887339   29.684855   0.570040\n",
       "12  11.00  11.240844  -11.387339   25.832009   0.484108\n",
       "13  11.50  11.740844   -3.887339   23.650137   0.437932\n",
       "14  12.00  12.240844    3.612661   23.609050   0.437077\n",
       "15  12.50  12.740844   11.112661   25.719041   0.481677\n",
       "16  13.00  13.240844   18.612661   29.521006   0.566257\n",
       "17  13.50  13.740844   26.112661   34.456853   0.686173\n",
       "18  14.00  14.240844   33.612661   40.106739   0.842279\n",
       "19  14.50  14.740844   41.112661   46.205321   1.042984\n",
       "20  15.00  15.240844   48.612661   52.591829   1.307559\n",
       "21  15.50  15.740844   56.112661   59.167376   1.675346\n",
       "22  16.00  16.240844   63.612661   65.868696   2.232255\n",
       "23  16.50  16.740844   71.112661   72.653160   3.201410\n",
       "24  17.00  17.240844   78.612661   79.490181   5.390361\n",
       "25  17.50  17.740844   86.112661   86.356061  15.702379\n",
       "26  18.00  18.240844   93.612661   93.230655 -17.716238\n",
       "27  18.50  18.740844  101.112661  100.094888  -5.616870"
      ]
     },
     "execution_count": 14,
     "metadata": {},
     "output_type": "execute_result"
    }
   ],
   "source": [
    "df['Sombra']=np.tan(np.radians(df['teta_z']))\n",
    "df"
   ]
  },
  {
   "cell_type": "code",
   "execution_count": null,
   "id": "a37fb579",
   "metadata": {},
   "outputs": [],
   "source": []
  },
  {
   "cell_type": "code",
   "execution_count": null,
   "id": "6e4ef0c8",
   "metadata": {},
   "outputs": [],
   "source": []
  },
  {
   "cell_type": "code",
   "execution_count": null,
   "id": "795d03b5",
   "metadata": {},
   "outputs": [],
   "source": []
  },
  {
   "cell_type": "code",
   "execution_count": null,
   "id": "d79d7b34",
   "metadata": {},
   "outputs": [],
   "source": []
  },
  {
   "cell_type": "code",
   "execution_count": null,
   "id": "76c55ec9",
   "metadata": {},
   "outputs": [],
   "source": []
  },
  {
   "cell_type": "code",
   "execution_count": null,
   "id": "9d14e3ff",
   "metadata": {},
   "outputs": [],
   "source": []
  },
  {
   "cell_type": "code",
   "execution_count": null,
   "id": "eebe1d02",
   "metadata": {},
   "outputs": [],
   "source": []
  },
  {
   "cell_type": "code",
   "execution_count": null,
   "id": "74e912b6",
   "metadata": {},
   "outputs": [],
   "source": []
  },
  {
   "cell_type": "code",
   "execution_count": null,
   "id": "e9a8bb5f",
   "metadata": {},
   "outputs": [],
   "source": []
  },
  {
   "cell_type": "code",
   "execution_count": null,
   "id": "5e09811b",
   "metadata": {},
   "outputs": [],
   "source": []
  },
  {
   "cell_type": "code",
   "execution_count": null,
   "id": "e758b90e",
   "metadata": {},
   "outputs": [],
   "source": []
  },
  {
   "cell_type": "code",
   "execution_count": null,
   "id": "dda48081",
   "metadata": {},
   "outputs": [],
   "source": []
  },
  {
   "cell_type": "code",
   "execution_count": null,
   "id": "b8d2435d",
   "metadata": {},
   "outputs": [],
   "source": []
  },
  {
   "cell_type": "code",
   "execution_count": null,
   "id": "18c69274",
   "metadata": {},
   "outputs": [],
   "source": []
  },
  {
   "cell_type": "code",
   "execution_count": null,
   "id": "a5936856",
   "metadata": {},
   "outputs": [],
   "source": []
  },
  {
   "cell_type": "code",
   "execution_count": null,
   "id": "b0bad56f",
   "metadata": {},
   "outputs": [],
   "source": []
  },
  {
   "cell_type": "code",
   "execution_count": null,
   "id": "fed5f056",
   "metadata": {},
   "outputs": [],
   "source": []
  },
  {
   "cell_type": "code",
   "execution_count": null,
   "id": "7dec5de5",
   "metadata": {},
   "outputs": [],
   "source": []
  },
  {
   "cell_type": "code",
   "execution_count": null,
   "id": "692e6c3c",
   "metadata": {},
   "outputs": [],
   "source": []
  },
  {
   "cell_type": "code",
   "execution_count": null,
   "id": "df455421",
   "metadata": {},
   "outputs": [],
   "source": []
  },
  {
   "cell_type": "code",
   "execution_count": null,
   "id": "eeaa2e0b",
   "metadata": {},
   "outputs": [],
   "source": []
  },
  {
   "cell_type": "code",
   "execution_count": null,
   "id": "54636a31",
   "metadata": {},
   "outputs": [],
   "source": []
  },
  {
   "cell_type": "markdown",
   "id": "f51fdae3",
   "metadata": {},
   "source": [
    "ANGULO DO AZIMUTE SOLAR"
   ]
  },
  {
   "cell_type": "code",
   "execution_count": null,
   "id": "c52b2d52",
   "metadata": {},
   "outputs": [],
   "source": []
  },
  {
   "cell_type": "code",
   "execution_count": null,
   "id": "a93dbe17",
   "metadata": {},
   "outputs": [],
   "source": []
  },
  {
   "cell_type": "code",
   "execution_count": null,
   "id": "c47b47e6",
   "metadata": {},
   "outputs": [],
   "source": []
  },
  {
   "cell_type": "code",
   "execution_count": null,
   "id": "eebb0a2a",
   "metadata": {},
   "outputs": [],
   "source": []
  },
  {
   "cell_type": "code",
   "execution_count": null,
   "id": "91b4131f",
   "metadata": {},
   "outputs": [],
   "source": []
  },
  {
   "cell_type": "code",
   "execution_count": null,
   "id": "be72e8a7",
   "metadata": {},
   "outputs": [],
   "source": []
  },
  {
   "cell_type": "code",
   "execution_count": null,
   "id": "f0277c8c",
   "metadata": {},
   "outputs": [],
   "source": []
  },
  {
   "cell_type": "code",
   "execution_count": null,
   "id": "3c478360",
   "metadata": {},
   "outputs": [],
   "source": []
  },
  {
   "cell_type": "code",
   "execution_count": null,
   "id": "c2dc5af9",
   "metadata": {},
   "outputs": [],
   "source": []
  },
  {
   "cell_type": "code",
   "execution_count": null,
   "id": "bccb4cb1",
   "metadata": {},
   "outputs": [],
   "source": []
  },
  {
   "cell_type": "code",
   "execution_count": null,
   "id": "92527317",
   "metadata": {},
   "outputs": [],
   "source": []
  },
  {
   "cell_type": "code",
   "execution_count": null,
   "id": "6a6ff304",
   "metadata": {},
   "outputs": [],
   "source": []
  },
  {
   "cell_type": "code",
   "execution_count": null,
   "id": "581ccbd0",
   "metadata": {},
   "outputs": [],
   "source": []
  },
  {
   "cell_type": "code",
   "execution_count": null,
   "id": "b45d8495",
   "metadata": {},
   "outputs": [],
   "source": []
  },
  {
   "cell_type": "code",
   "execution_count": null,
   "id": "81699867",
   "metadata": {},
   "outputs": [],
   "source": []
  },
  {
   "cell_type": "code",
   "execution_count": null,
   "id": "12da4f89",
   "metadata": {},
   "outputs": [],
   "source": []
  },
  {
   "cell_type": "code",
   "execution_count": null,
   "id": "9f053be5",
   "metadata": {},
   "outputs": [],
   "source": []
  },
  {
   "cell_type": "code",
   "execution_count": null,
   "id": "d4986e95",
   "metadata": {},
   "outputs": [],
   "source": []
  },
  {
   "cell_type": "code",
   "execution_count": null,
   "id": "d9fdda65",
   "metadata": {},
   "outputs": [],
   "source": []
  },
  {
   "cell_type": "code",
   "execution_count": null,
   "id": "4b4fcdd9",
   "metadata": {},
   "outputs": [],
   "source": []
  },
  {
   "cell_type": "code",
   "execution_count": null,
   "id": "1eaf8ebb",
   "metadata": {},
   "outputs": [],
   "source": []
  },
  {
   "cell_type": "code",
   "execution_count": null,
   "id": "23b13c8f",
   "metadata": {},
   "outputs": [],
   "source": []
  },
  {
   "cell_type": "code",
   "execution_count": null,
   "id": "471ec62f",
   "metadata": {},
   "outputs": [],
   "source": []
  },
  {
   "cell_type": "code",
   "execution_count": null,
   "id": "17040eda",
   "metadata": {},
   "outputs": [],
   "source": []
  },
  {
   "cell_type": "code",
   "execution_count": null,
   "id": "29f71e40",
   "metadata": {},
   "outputs": [],
   "source": []
  },
  {
   "cell_type": "code",
   "execution_count": null,
   "id": "735a2ed3",
   "metadata": {},
   "outputs": [],
   "source": []
  },
  {
   "cell_type": "code",
   "execution_count": null,
   "id": "06d54763",
   "metadata": {},
   "outputs": [],
   "source": []
  },
  {
   "cell_type": "code",
   "execution_count": null,
   "id": "bb6d40e4",
   "metadata": {},
   "outputs": [],
   "source": []
  },
  {
   "cell_type": "code",
   "execution_count": null,
   "id": "44607bb4",
   "metadata": {},
   "outputs": [],
   "source": []
  },
  {
   "cell_type": "code",
   "execution_count": null,
   "id": "ed8c7efe",
   "metadata": {},
   "outputs": [],
   "source": []
  },
  {
   "cell_type": "code",
   "execution_count": null,
   "id": "c08bb37f",
   "metadata": {},
   "outputs": [],
   "source": []
  },
  {
   "cell_type": "code",
   "execution_count": null,
   "id": "4f64b59b",
   "metadata": {},
   "outputs": [],
   "source": []
  },
  {
   "cell_type": "code",
   "execution_count": null,
   "id": "cb95008f",
   "metadata": {},
   "outputs": [],
   "source": []
  },
  {
   "cell_type": "code",
   "execution_count": null,
   "id": "70b6a61f",
   "metadata": {},
   "outputs": [],
   "source": []
  },
  {
   "cell_type": "markdown",
   "id": "970f2d8c",
   "metadata": {},
   "source": [
    "df['Gama_s']= np.degrees(np.arccos(np.radians(((np.cos(np.radians(df['teta_z'])))* (np.sin(np.radians(df['Omega'])))-(np.sin(np.radians(df['sigma']))))/((np.sin(np.radians(df['teta_z'])))*np.cos(np.radians(df['teta_z']))))))\n"
   ]
  },
  {
   "cell_type": "markdown",
   "id": "d783eb59",
   "metadata": {},
   "source": [
    "ANGULO DE INCIDÊNCIA "
   ]
  },
  {
   "cell_type": "markdown",
   "id": "c0a8f2c1",
   "metadata": {},
   "source": [
    "df['teta']=(np.sin(np.radians(df['sigma'])))*(np.sin(np.radians(L_a)))\n"
   ]
  },
  {
   "cell_type": "code",
   "execution_count": null,
   "id": "9d09c6f6",
   "metadata": {},
   "outputs": [],
   "source": []
  },
  {
   "cell_type": "code",
   "execution_count": null,
   "id": "2776f7d5",
   "metadata": {},
   "outputs": [],
   "source": []
  },
  {
   "cell_type": "code",
   "execution_count": null,
   "id": "31e3a130",
   "metadata": {},
   "outputs": [],
   "source": []
  },
  {
   "cell_type": "code",
   "execution_count": null,
   "id": "d5f038a0",
   "metadata": {},
   "outputs": [],
   "source": []
  }
 ],
 "metadata": {
  "kernelspec": {
   "display_name": "Python 3",
   "language": "python",
   "name": "python3"
  },
  "language_info": {
   "codemirror_mode": {
    "name": "ipython",
    "version": 3
   },
   "file_extension": ".py",
   "mimetype": "text/x-python",
   "name": "python",
   "nbconvert_exporter": "python",
   "pygments_lexer": "ipython3",
   "version": "3.8.5"
  }
 },
 "nbformat": 4,
 "nbformat_minor": 5
}
