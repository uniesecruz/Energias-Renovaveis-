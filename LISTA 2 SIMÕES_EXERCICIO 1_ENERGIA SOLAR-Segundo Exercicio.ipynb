{
 "cells": [
  {
   "cell_type": "code",
   "execution_count": 106,
   "id": "de10e073",
   "metadata": {},
   "outputs": [],
   "source": [
    "import handcalcs.render\n",
    "import math as mt\n",
    "import numpy as np\n",
    "import pandas as pd\n",
    "import matplotlib.pyplot as plt\n",
    "import statistics as st"
   ]
  },
  {
   "cell_type": "code",
   "execution_count": 107,
   "id": "6d93e1f7",
   "metadata": {},
   "outputs": [],
   "source": [
    "L_O=-45       #Longitude Hora Legal\n",
    "L =-46.6388  #Longitude \n",
    "L_a= -23.5489  #Latitude\n",
    "Beta=0           #Inclinação \n",
    "GSC=1367         #Constante solar  "
   ]
  },
  {
   "cell_type": "code",
   "execution_count": 108,
   "id": "001fd998",
   "metadata": {},
   "outputs": [],
   "source": [
    "df=pd.read_csv(\"Dados Segundo exercicio.csv\" , encoding ='UTF-8' , sep=\";\")\n",
    "\n"
   ]
  },
  {
   "cell_type": "markdown",
   "id": "f46a9123",
   "metadata": {},
   "source": [
    "NUMERO DO DIA NO ANO"
   ]
  },
  {
   "cell_type": "code",
   "execution_count": 109,
   "id": "e6723952",
   "metadata": {},
   "outputs": [],
   "source": [
    "df['n']= df['Dia']  + (df['Mês'] -1)*30 +df['Cor']\n"
   ]
  },
  {
   "cell_type": "markdown",
   "id": "a3932293",
   "metadata": {},
   "source": [
    "CALCULO DA HORA SOLAR "
   ]
  },
  {
   "cell_type": "code",
   "execution_count": 110,
   "id": "a98afd8e",
   "metadata": {},
   "outputs": [],
   "source": [
    "df['B']= (360/364)*(df['n']-81)"
   ]
  },
  {
   "cell_type": "code",
   "execution_count": 111,
   "id": "1efc1f6e",
   "metadata": {},
   "outputs": [],
   "source": [
    "df['E']= 9.87*np.sin(np.radians(2*df['B']))-7.53*np.cos(np.radians(df['B']))-1.5*np.sin(np.radians(df['B']))"
   ]
  },
  {
   "cell_type": "code",
   "execution_count": 112,
   "id": "800df1b2",
   "metadata": {},
   "outputs": [],
   "source": [
    "df['Corhora']= (4*(L_O-L)+df['E'])/60"
   ]
  },
  {
   "cell_type": "code",
   "execution_count": 113,
   "id": "1a2f3037",
   "metadata": {},
   "outputs": [],
   "source": [
    "HL=14.50\n"
   ]
  },
  {
   "cell_type": "code",
   "execution_count": 114,
   "id": "2c058312",
   "metadata": {},
   "outputs": [],
   "source": [
    "df['HS']= HL+df['Corhora']\n"
   ]
  },
  {
   "cell_type": "markdown",
   "id": "90bf6942",
   "metadata": {},
   "source": [
    "ÂNGULO HORARIO"
   ]
  },
  {
   "cell_type": "code",
   "execution_count": 115,
   "id": "c79b5de7",
   "metadata": {},
   "outputs": [],
   "source": [
    "df['Omega']= (df['HS']-12)*15"
   ]
  },
  {
   "cell_type": "markdown",
   "id": "6ca6a78a",
   "metadata": {},
   "source": [
    "DECLINAÇÃO SOLAR "
   ]
  },
  {
   "cell_type": "code",
   "execution_count": 118,
   "id": "e7c89551",
   "metadata": {},
   "outputs": [],
   "source": [
    "df['sigma']= 23.45*np.sin(np.radians(360/365*(284+df['n'])))"
   ]
  },
  {
   "cell_type": "markdown",
   "id": "4c94cc0f",
   "metadata": {},
   "source": [
    "ÂNGULO ZENITAL "
   ]
  },
  {
   "cell_type": "code",
   "execution_count": 119,
   "id": "9e70bf60",
   "metadata": {},
   "outputs": [],
   "source": [
    "\n",
    "df['teta_z']= np.degrees(np.arccos(np.sin(np.radians(df['sigma']))*np.sin(np.radians(L_a))+np.cos(np.radians(df['sigma']))*np.cos(np.radians(L_a))*np.cos(np.radians(df['Omega']))))\n",
    "\n"
   ]
  },
  {
   "cell_type": "markdown",
   "id": "cdd07759",
   "metadata": {},
   "source": [
    "ÂNGULO DE INCIDENCIA "
   ]
  },
  {
   "cell_type": "code",
   "execution_count": 120,
   "id": "c8f1ae32",
   "metadata": {},
   "outputs": [],
   "source": [
    "df['teta']=np.degrees(np.arccos(np.cos(np.radians(L_a+Beta)*np.cos(np.radians(df['sigma']))*np.cos(np.radians(df['Omega']))+np.sin(np.radians(L_a+Beta))*np.sin(np.radians(df['sigma'])))))\n"
   ]
  },
  {
   "cell_type": "markdown",
   "id": "1fcaf723",
   "metadata": {},
   "source": [
    "IRRADIAÇÃO EXTRATERRESTE SOBRE UMA SUPERFICIE HORIZONTAL EM UM PONTO DA TERRA"
   ]
  },
  {
   "cell_type": "code",
   "execution_count": 123,
   "id": "775034d8",
   "metadata": {},
   "outputs": [],
   "source": [
    "df['GO']=GSC*(1+0.033*np.cos(np.radians((360*df['n'])/365)))*np.cos(np.radians(df['teta_z']))\n"
   ]
  },
  {
   "cell_type": "markdown",
   "id": "b957a070",
   "metadata": {},
   "source": [
    "ÂNGULO HORÁRIO DO PÔR DO SOL "
   ]
  },
  {
   "cell_type": "code",
   "execution_count": 128,
   "id": "6565e6a6",
   "metadata": {},
   "outputs": [],
   "source": [
    "df['omega_s']=np.degrees(np.arccos(-np.tan(np.radians(L_a))*np.cos(np.radians(df['Omega']))))\n"
   ]
  },
  {
   "cell_type": "markdown",
   "id": "ffba031e",
   "metadata": {},
   "source": [
    "IRRADIAÇÃO EXTRATERRESTRE INTEGRADA HORARI SOBRE SUPERFICIE HORIZONTAL "
   ]
  },
  {
   "cell_type": "code",
   "execution_count": 132,
   "id": "95749487",
   "metadata": {},
   "outputs": [
    {
     "data": {
      "text/html": [
       "<div>\n",
       "<style scoped>\n",
       "    .dataframe tbody tr th:only-of-type {\n",
       "        vertical-align: middle;\n",
       "    }\n",
       "\n",
       "    .dataframe tbody tr th {\n",
       "        vertical-align: top;\n",
       "    }\n",
       "\n",
       "    .dataframe thead th {\n",
       "        text-align: right;\n",
       "    }\n",
       "</style>\n",
       "<table border=\"1\" class=\"dataframe\">\n",
       "  <thead>\n",
       "    <tr style=\"text-align: right;\">\n",
       "      <th></th>\n",
       "      <th>Dia</th>\n",
       "      <th>Cor</th>\n",
       "      <th>Mês</th>\n",
       "      <th>n</th>\n",
       "      <th>B</th>\n",
       "      <th>E</th>\n",
       "      <th>Corhora</th>\n",
       "      <th>HS</th>\n",
       "      <th>Omega</th>\n",
       "      <th>sigma</th>\n",
       "      <th>teta_z</th>\n",
       "      <th>teta</th>\n",
       "      <th>GO</th>\n",
       "      <th>omega_s</th>\n",
       "      <th>HO</th>\n",
       "    </tr>\n",
       "  </thead>\n",
       "  <tbody>\n",
       "    <tr>\n",
       "      <th>0</th>\n",
       "      <td>15</td>\n",
       "      <td>0</td>\n",
       "      <td>1</td>\n",
       "      <td>15</td>\n",
       "      <td>-65.274725</td>\n",
       "      <td>-9.286743</td>\n",
       "      <td>-0.045526</td>\n",
       "      <td>14.454474</td>\n",
       "      <td>36.817114</td>\n",
       "      <td>-21.269474</td>\n",
       "      <td>34.021744</td>\n",
       "      <td>9.264017</td>\n",
       "      <td>1169.153793</td>\n",
       "      <td>69.579779</td>\n",
       "      <td>6.845841e+06</td>\n",
       "    </tr>\n",
       "    <tr>\n",
       "      <th>1</th>\n",
       "      <td>15</td>\n",
       "      <td>1</td>\n",
       "      <td>2</td>\n",
       "      <td>46</td>\n",
       "      <td>-34.615385</td>\n",
       "      <td>-14.573582</td>\n",
       "      <td>-0.133640</td>\n",
       "      <td>14.366360</td>\n",
       "      <td>35.495405</td>\n",
       "      <td>-13.289156</td>\n",
       "      <td>35.093886</td>\n",
       "      <td>13.397263</td>\n",
       "      <td>1144.425042</td>\n",
       "      <td>69.216711</td>\n",
       "      <td>4.278867e+06</td>\n",
       "    </tr>\n",
       "    <tr>\n",
       "      <th>2</th>\n",
       "      <td>15</td>\n",
       "      <td>-1</td>\n",
       "      <td>3</td>\n",
       "      <td>74</td>\n",
       "      <td>-6.923077</td>\n",
       "      <td>-9.656338</td>\n",
       "      <td>-0.051686</td>\n",
       "      <td>14.448314</td>\n",
       "      <td>36.724715</td>\n",
       "      <td>-2.818879</td>\n",
       "      <td>41.103229</td>\n",
       "      <td>17.726246</td>\n",
       "      <td>1040.016681</td>\n",
       "      <td>69.554054</td>\n",
       "      <td>9.077477e+05</td>\n",
       "    </tr>\n",
       "    <tr>\n",
       "      <th>3</th>\n",
       "      <td>15</td>\n",
       "      <td>0</td>\n",
       "      <td>4</td>\n",
       "      <td>105</td>\n",
       "      <td>23.736264</td>\n",
       "      <td>-0.223084</td>\n",
       "      <td>0.105535</td>\n",
       "      <td>14.605535</td>\n",
       "      <td>39.083029</td>\n",
       "      <td>9.414893</td>\n",
       "      <td>50.457800</td>\n",
       "      <td>21.777850</td>\n",
       "      <td>863.561049</td>\n",
       "      <td>70.226432</td>\n",
       "      <td>-2.996082e+06</td>\n",
       "    </tr>\n",
       "    <tr>\n",
       "      <th>4</th>\n",
       "      <td>15</td>\n",
       "      <td>0</td>\n",
       "      <td>5</td>\n",
       "      <td>135</td>\n",
       "      <td>53.406593</td>\n",
       "      <td>3.754880</td>\n",
       "      <td>0.171835</td>\n",
       "      <td>14.671835</td>\n",
       "      <td>40.077520</td>\n",
       "      <td>18.791918</td>\n",
       "      <td>57.631877</td>\n",
       "      <td>24.432579</td>\n",
       "      <td>715.315976</td>\n",
       "      <td>70.519625</td>\n",
       "      <td>-5.836068e+06</td>\n",
       "    </tr>\n",
       "    <tr>\n",
       "      <th>5</th>\n",
       "      <td>15</td>\n",
       "      <td>1</td>\n",
       "      <td>6</td>\n",
       "      <td>166</td>\n",
       "      <td>84.065934</td>\n",
       "      <td>-0.240580</td>\n",
       "      <td>0.105244</td>\n",
       "      <td>14.605244</td>\n",
       "      <td>39.078655</td>\n",
       "      <td>23.314410</td>\n",
       "      <td>60.303873</td>\n",
       "      <td>25.847812</td>\n",
       "      <td>655.759165</td>\n",
       "      <td>70.225155</td>\n",
       "      <td>-7.073803e+06</td>\n",
       "    </tr>\n",
       "    <tr>\n",
       "      <th>6</th>\n",
       "      <td>15</td>\n",
       "      <td>1</td>\n",
       "      <td>7</td>\n",
       "      <td>196</td>\n",
       "      <td>113.736264</td>\n",
       "      <td>-5.615811</td>\n",
       "      <td>0.015656</td>\n",
       "      <td>14.515656</td>\n",
       "      <td>37.734847</td>\n",
       "      <td>21.517336</td>\n",
       "      <td>58.134929</td>\n",
       "      <td>25.721932</td>\n",
       "      <td>698.492730</td>\n",
       "      <td>69.838050</td>\n",
       "      <td>-6.516524e+06</td>\n",
       "    </tr>\n",
       "    <tr>\n",
       "      <th>7</th>\n",
       "      <td>15</td>\n",
       "      <td>2</td>\n",
       "      <td>8</td>\n",
       "      <td>227</td>\n",
       "      <td>144.395604</td>\n",
       "      <td>-4.094882</td>\n",
       "      <td>0.041005</td>\n",
       "      <td>14.541005</td>\n",
       "      <td>38.115080</td>\n",
       "      <td>13.783564</td>\n",
       "      <td>52.750337</td>\n",
       "      <td>23.448088</td>\n",
       "      <td>807.752511</td>\n",
       "      <td>69.946515</td>\n",
       "      <td>-4.276072e+06</td>\n",
       "    </tr>\n",
       "    <tr>\n",
       "      <th>8</th>\n",
       "      <td>15</td>\n",
       "      <td>3</td>\n",
       "      <td>9</td>\n",
       "      <td>258</td>\n",
       "      <td>175.054945</td>\n",
       "      <td>5.677410</td>\n",
       "      <td>0.203877</td>\n",
       "      <td>14.703877</td>\n",
       "      <td>40.558152</td>\n",
       "      <td>2.216887</td>\n",
       "      <td>47.117412</td>\n",
       "      <td>18.763297</td>\n",
       "      <td>922.019710</td>\n",
       "      <td>70.663326</td>\n",
       "      <td>-7.121003e+05</td>\n",
       "    </tr>\n",
       "    <tr>\n",
       "      <th>9</th>\n",
       "      <td>15</td>\n",
       "      <td>3</td>\n",
       "      <td>10</td>\n",
       "      <td>288</td>\n",
       "      <td>204.725275</td>\n",
       "      <td>14.966751</td>\n",
       "      <td>0.358699</td>\n",
       "      <td>14.858699</td>\n",
       "      <td>42.880488</td>\n",
       "      <td>-9.599397</td>\n",
       "      <td>43.200048</td>\n",
       "      <td>13.197070</td>\n",
       "      <td>1004.485313</td>\n",
       "      <td>71.375569</td>\n",
       "      <td>3.153511e+06</td>\n",
       "    </tr>\n",
       "    <tr>\n",
       "      <th>10</th>\n",
       "      <td>15</td>\n",
       "      <td>4</td>\n",
       "      <td>11</td>\n",
       "      <td>319</td>\n",
       "      <td>235.384615</td>\n",
       "      <td>14.740614</td>\n",
       "      <td>0.354930</td>\n",
       "      <td>14.854930</td>\n",
       "      <td>42.823953</td>\n",
       "      <td>-19.147817</td>\n",
       "      <td>39.984823</td>\n",
       "      <td>8.807734</td>\n",
       "      <td>1071.698137</td>\n",
       "      <td>71.357885</td>\n",
       "      <td>6.294601e+06</td>\n",
       "    </tr>\n",
       "    <tr>\n",
       "      <th>11</th>\n",
       "      <td>15</td>\n",
       "      <td>4</td>\n",
       "      <td>12</td>\n",
       "      <td>349</td>\n",
       "      <td>265.054945</td>\n",
       "      <td>3.838767</td>\n",
       "      <td>0.173233</td>\n",
       "      <td>14.673233</td>\n",
       "      <td>40.098492</td>\n",
       "      <td>-23.335220</td>\n",
       "      <td>36.665675</td>\n",
       "      <td>7.472469</td>\n",
       "      <td>1131.337733</td>\n",
       "      <td>70.525869</td>\n",
       "      <td>7.575857e+06</td>\n",
       "    </tr>\n",
       "  </tbody>\n",
       "</table>\n",
       "</div>"
      ],
      "text/plain": [
       "    Dia  Cor  Mês    n           B          E   Corhora         HS      Omega  \\\n",
       "0    15    0    1   15  -65.274725  -9.286743 -0.045526  14.454474  36.817114   \n",
       "1    15    1    2   46  -34.615385 -14.573582 -0.133640  14.366360  35.495405   \n",
       "2    15   -1    3   74   -6.923077  -9.656338 -0.051686  14.448314  36.724715   \n",
       "3    15    0    4  105   23.736264  -0.223084  0.105535  14.605535  39.083029   \n",
       "4    15    0    5  135   53.406593   3.754880  0.171835  14.671835  40.077520   \n",
       "5    15    1    6  166   84.065934  -0.240580  0.105244  14.605244  39.078655   \n",
       "6    15    1    7  196  113.736264  -5.615811  0.015656  14.515656  37.734847   \n",
       "7    15    2    8  227  144.395604  -4.094882  0.041005  14.541005  38.115080   \n",
       "8    15    3    9  258  175.054945   5.677410  0.203877  14.703877  40.558152   \n",
       "9    15    3   10  288  204.725275  14.966751  0.358699  14.858699  42.880488   \n",
       "10   15    4   11  319  235.384615  14.740614  0.354930  14.854930  42.823953   \n",
       "11   15    4   12  349  265.054945   3.838767  0.173233  14.673233  40.098492   \n",
       "\n",
       "        sigma     teta_z       teta           GO    omega_s            HO  \n",
       "0  -21.269474  34.021744   9.264017  1169.153793  69.579779  6.845841e+06  \n",
       "1  -13.289156  35.093886  13.397263  1144.425042  69.216711  4.278867e+06  \n",
       "2   -2.818879  41.103229  17.726246  1040.016681  69.554054  9.077477e+05  \n",
       "3    9.414893  50.457800  21.777850   863.561049  70.226432 -2.996082e+06  \n",
       "4   18.791918  57.631877  24.432579   715.315976  70.519625 -5.836068e+06  \n",
       "5   23.314410  60.303873  25.847812   655.759165  70.225155 -7.073803e+06  \n",
       "6   21.517336  58.134929  25.721932   698.492730  69.838050 -6.516524e+06  \n",
       "7   13.783564  52.750337  23.448088   807.752511  69.946515 -4.276072e+06  \n",
       "8    2.216887  47.117412  18.763297   922.019710  70.663326 -7.121003e+05  \n",
       "9   -9.599397  43.200048  13.197070  1004.485313  71.375569  3.153511e+06  \n",
       "10 -19.147817  39.984823   8.807734  1071.698137  71.357885  6.294601e+06  \n",
       "11 -23.335220  36.665675   7.472469  1131.337733  70.525869  7.575857e+06  "
      ]
     },
     "execution_count": 132,
     "metadata": {},
     "output_type": "execute_result"
    }
   ],
   "source": [
    "df['HO']=(2.75*10**4)*GSC*(1+0.033*np.cos(np.radians((360*df['n'])/365)))*(1.75*10**-2)*df['omega_s']*np.sin(np.radians(df['sigma']))*np.sin(np.radians(L_a))+np.cos(np.radians(df['sigma']))*np.cos(np.radians(L_a))*np.sin(np.radians(df['omega_s']))\n",
    "df"
   ]
  },
  {
   "cell_type": "code",
   "execution_count": null,
   "id": "1cb45cb7",
   "metadata": {},
   "outputs": [],
   "source": []
  }
 ],
 "metadata": {
  "kernelspec": {
   "display_name": "Python 3",
   "language": "python",
   "name": "python3"
  },
  "language_info": {
   "codemirror_mode": {
    "name": "ipython",
    "version": 3
   },
   "file_extension": ".py",
   "mimetype": "text/x-python",
   "name": "python",
   "nbconvert_exporter": "python",
   "pygments_lexer": "ipython3",
   "version": "3.8.5"
  }
 },
 "nbformat": 4,
 "nbformat_minor": 5
}
