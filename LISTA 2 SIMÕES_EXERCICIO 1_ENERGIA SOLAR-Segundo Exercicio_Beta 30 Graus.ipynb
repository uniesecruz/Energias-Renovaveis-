{
 "cells": [
  {
   "cell_type": "code",
   "execution_count": 35,
   "id": "de10e073",
   "metadata": {},
   "outputs": [],
   "source": [
    "import handcalcs.render\n",
    "import math as mt\n",
    "import numpy as np\n",
    "import pandas as pd\n",
    "import matplotlib.pyplot as plt\n",
    "import statistics as st"
   ]
  },
  {
   "cell_type": "code",
   "execution_count": 36,
   "id": "6d93e1f7",
   "metadata": {},
   "outputs": [],
   "source": [
    "L_O=-45       #Longitude Hora Legal\n",
    "L =-46.6388  #Longitude \n",
    "L_a= -23.5489  #Latitude\n",
    "Beta=0           #Inclinação \n",
    "GSC=1.367         #Constante solar  KW/m^2"
   ]
  },
  {
   "cell_type": "code",
   "execution_count": 37,
   "id": "001fd998",
   "metadata": {},
   "outputs": [],
   "source": [
    "df=pd.read_csv(\"Dados Segundo exercicio.csv\" , encoding ='UTF-8' , sep=\";\")\n",
    "\n"
   ]
  },
  {
   "cell_type": "markdown",
   "id": "f46a9123",
   "metadata": {},
   "source": [
    "NUMERO DO DIA NO ANO"
   ]
  },
  {
   "cell_type": "code",
   "execution_count": 38,
   "id": "e6723952",
   "metadata": {},
   "outputs": [],
   "source": [
    "df['n']= df['Dia']  + (df['Mês'] -1)*30 +df['Cor']\n"
   ]
  },
  {
   "cell_type": "markdown",
   "id": "a3932293",
   "metadata": {},
   "source": [
    "CALCULO DA HORA SOLAR "
   ]
  },
  {
   "cell_type": "code",
   "execution_count": 39,
   "id": "a98afd8e",
   "metadata": {},
   "outputs": [],
   "source": [
    "df['B']= (360/364)*(df['n']-81)"
   ]
  },
  {
   "cell_type": "code",
   "execution_count": 40,
   "id": "1efc1f6e",
   "metadata": {},
   "outputs": [],
   "source": [
    "df['E']= 9.87*np.sin(np.radians(2*df['B']))-7.53*np.cos(np.radians(df['B']))-1.5*np.sin(np.radians(df['B']))"
   ]
  },
  {
   "cell_type": "code",
   "execution_count": 41,
   "id": "800df1b2",
   "metadata": {},
   "outputs": [],
   "source": [
    "df['Corhora']= (4*(L_O-L)+df['E'])/60"
   ]
  },
  {
   "cell_type": "code",
   "execution_count": 42,
   "id": "1a2f3037",
   "metadata": {},
   "outputs": [],
   "source": [
    "HL=14.50\n"
   ]
  },
  {
   "cell_type": "code",
   "execution_count": 43,
   "id": "2c058312",
   "metadata": {},
   "outputs": [],
   "source": [
    "df['HS']= HL+df['Corhora']\n"
   ]
  },
  {
   "cell_type": "markdown",
   "id": "90bf6942",
   "metadata": {},
   "source": [
    "ÂNGULO HORARIO"
   ]
  },
  {
   "cell_type": "code",
   "execution_count": 44,
   "id": "c79b5de7",
   "metadata": {},
   "outputs": [],
   "source": [
    "df['Omega']= (df['HS']-12)*15"
   ]
  },
  {
   "cell_type": "markdown",
   "id": "6ca6a78a",
   "metadata": {},
   "source": [
    "DECLINAÇÃO SOLAR "
   ]
  },
  {
   "cell_type": "code",
   "execution_count": 45,
   "id": "e7c89551",
   "metadata": {},
   "outputs": [],
   "source": [
    "df['sigma']= 23.45*np.sin(np.radians(360/365*(284+df['n'])))"
   ]
  },
  {
   "cell_type": "markdown",
   "id": "4c94cc0f",
   "metadata": {},
   "source": [
    "ÂNGULO ZENITAL "
   ]
  },
  {
   "cell_type": "code",
   "execution_count": 46,
   "id": "73a7fc2f",
   "metadata": {},
   "outputs": [],
   "source": [
    "df['teta_z']= np.degrees(np.arccos(np.sin(np.radians(df['sigma']))*(np.sin(np.radians(L_a))+np.cos(np.radians(df['sigma']))*np.cos(np.radians(L_a))*np.cos(np.radians(df['Omega'])))))\n",
    "\n"
   ]
  },
  {
   "cell_type": "markdown",
   "id": "cdd07759",
   "metadata": {},
   "source": [
    "ÂNGULO DE INCIDENCIA "
   ]
  },
  {
   "cell_type": "code",
   "execution_count": 47,
   "id": "c8f1ae32",
   "metadata": {},
   "outputs": [],
   "source": [
    "df['teta']=np.degrees(np.arccos(np.cos(np.radians(L_a+Beta)*np.cos(np.radians(df['sigma']))*np.cos(np.radians(df['Omega']))+np.sin(np.radians(L_a+Beta))*np.sin(np.radians(df['sigma'])))))\n"
   ]
  },
  {
   "cell_type": "markdown",
   "id": "1fcaf723",
   "metadata": {},
   "source": [
    "IRRADIAÇÃO EXTRATERRESTE SOBRE UMA SUPERFICIE HORIZONTAL EM UM PONTO DA TERRA"
   ]
  },
  {
   "cell_type": "code",
   "execution_count": 48,
   "id": "775034d8",
   "metadata": {},
   "outputs": [],
   "source": [
    "df['GO']=GSC*(1+0.033*np.cos(np.radians((360*df['n'])/365)))*np.cos(np.radians(df['teta_z']))\n"
   ]
  },
  {
   "cell_type": "markdown",
   "id": "b957a070",
   "metadata": {},
   "source": [
    "ÂNGULO HORÁRIO DO PÔR DO SOL "
   ]
  },
  {
   "cell_type": "code",
   "execution_count": 49,
   "id": "6565e6a6",
   "metadata": {},
   "outputs": [],
   "source": [
    "df['omega_s']=np.degrees(np.arccos((-np.tan(np.radians(L_a))*np.tan(np.radians(df['sigma'])))))\n"
   ]
  },
  {
   "cell_type": "markdown",
   "id": "ffba031e",
   "metadata": {},
   "source": [
    "IRRADIAÇÃO EXTRATERRESTRE INTEGRADA HORARI SOBRE SUPERFICIE HORIZONTAL "
   ]
  },
  {
   "cell_type": "code",
   "execution_count": 50,
   "id": "95749487",
   "metadata": {},
   "outputs": [],
   "source": [
    "df['HO']=((2.75*10**4)*GSC*((1+0.033*np.cos(np.radians((360*df['n'])/365))))*(((1.75*10**-2)*df['omega_s']*np.sin(np.radians(df['sigma']))*np.sin(np.radians(L_a))+np.cos(np.radians(df['sigma']))*np.cos(np.radians(L_a))*np.sin(np.radians(df['omega_s'])))))/1000\n"
   ]
  },
  {
   "cell_type": "code",
   "execution_count": 51,
   "id": "1cb45cb7",
   "metadata": {},
   "outputs": [],
   "source": [
    "df['H']=pd.read_csv(\"Irradiação integrada diaria.csv\" , encoding ='UTF-8' , sep=\";\")\n"
   ]
  },
  {
   "cell_type": "code",
   "execution_count": 52,
   "id": "a045f161",
   "metadata": {},
   "outputs": [],
   "source": [
    "df['KT']=df['H']/df['HO']\n"
   ]
  },
  {
   "cell_type": "code",
   "execution_count": 53,
   "id": "ee7a3a23",
   "metadata": {},
   "outputs": [],
   "source": [
    "df['Hd/H']=0.775+0.0065*(df['omega_s']-90)-(0.505+0.00455*(df['omega_s']-90))*np.cos(np.radians(115*df['KT']-103))\n"
   ]
  },
  {
   "cell_type": "code",
   "execution_count": 54,
   "id": "1665e6df",
   "metadata": {},
   "outputs": [],
   "source": [
    "df['Hd']=df['Hd/H']*df['H']\n"
   ]
  },
  {
   "cell_type": "code",
   "execution_count": 55,
   "id": "37b14c56",
   "metadata": {},
   "outputs": [],
   "source": [
    "df['Hb']=df['H']-df['Hd']\n"
   ]
  },
  {
   "cell_type": "code",
   "execution_count": 56,
   "id": "50faa303",
   "metadata": {},
   "outputs": [
    {
     "data": {
      "text/plain": [
       "Text(0, 0.5, 'Irradiação Solar ')"
      ]
     },
     "execution_count": 56,
     "metadata": {},
     "output_type": "execute_result"
    },
    {
     "data": {
      "image/png": "[encoded data removed]",
      "text/plain": [
       "<Figure size 432x288 with 1 Axes>"
      ]
     },
     "metadata": {
      "needs_background": "light"
     },
     "output_type": "display_data"
    }
   ],
   "source": [
    "df[[\"Hd\", \"Hb\", ]].plot(kind=\"bar\", stacked=True)\n",
    "plt.title(\"Índice de claridade e irradiação solar PLANO HORIZONTAL\")\n",
    "plt.xlabel(\"Meses\")\n",
    "plt.ylabel(\"Irradiação Solar \")"
   ]
  },
  {
   "cell_type": "markdown",
   "id": "821abcdf",
   "metadata": {},
   "source": [
    "Superficie no hemisferio Sul  "
   ]
  },
  {
   "cell_type": "code",
   "execution_count": 57,
   "id": "a0b861a4",
   "metadata": {},
   "outputs": [],
   "source": [
    "Beta_incli=30"
   ]
  },
  {
   "cell_type": "code",
   "execution_count": 58,
   "id": "658de9c0",
   "metadata": {},
   "outputs": [],
   "source": [
    "df['omega_s*']=np.degrees(np.arccos((-np.tan(np.radians(L_a+Beta_incli))*np.tan(np.radians(df['sigma'])))))\n"
   ]
  },
  {
   "cell_type": "code",
   "execution_count": 59,
   "id": "2f88c70c",
   "metadata": {},
   "outputs": [],
   "source": [
    "df['Rb']=(np.cos(np.radians(L_a+Beta_incli))*np.cos(np.radians(df['sigma']))*np.sin(np.radians(df['omega_s*']))+(np.pi/180)*df['omega_s*']*np.sin(np.radians(L_a+Beta_incli))*np.sin(np.radians(df['sigma'])))/(np.cos(np.radians(L_a))*np.cos(np.radians(df['sigma']))*np.sin(np.radians(df['omega_s']))+(np.pi/180)*df['omega_s']*np.sin(np.radians(L_a))*np.sin(np.radians(df['sigma'])))\n"
   ]
  },
  {
   "cell_type": "code",
   "execution_count": 60,
   "id": "8d42c879",
   "metadata": {},
   "outputs": [],
   "source": [
    "rho=0.2"
   ]
  },
  {
   "cell_type": "code",
   "execution_count": 61,
   "id": "f206efe3",
   "metadata": {},
   "outputs": [],
   "source": [
    "df['R']=(1-df['Hd/H'])*df['Rb']+df['Hd/H']*((1+np.cos(np.radians(Beta_incli)))/2)+rho*(((1-np.cos(np.radians(Beta_incli)))/2))\n"
   ]
  },
  {
   "cell_type": "code",
   "execution_count": 62,
   "id": "cdc31797",
   "metadata": {},
   "outputs": [],
   "source": [
    "df['HT']=df['R']*df['H']\n"
   ]
  },
  {
   "cell_type": "code",
   "execution_count": 63,
   "id": "a3d76640",
   "metadata": {},
   "outputs": [],
   "source": [
    "df['HTb']=(1-df['Hd/H'])*df['Rb']*df['H']\n"
   ]
  },
  {
   "cell_type": "code",
   "execution_count": 64,
   "id": "a72bb8df",
   "metadata": {},
   "outputs": [],
   "source": [
    "df['HTd']=df['Hd/H']*((1+np.cos(np.radians(Beta_incli)))/2)*df['H']\n"
   ]
  },
  {
   "cell_type": "code",
   "execution_count": 65,
   "id": "bfb10a2b",
   "metadata": {},
   "outputs": [
    {
     "data": {
      "text/html": [
       "<div>\n",
       "<style scoped>\n",
       "    .dataframe tbody tr th:only-of-type {\n",
       "        vertical-align: middle;\n",
       "    }\n",
       "\n",
       "    .dataframe tbody tr th {\n",
       "        vertical-align: top;\n",
       "    }\n",
       "\n",
       "    .dataframe thead th {\n",
       "        text-align: right;\n",
       "    }\n",
       "</style>\n",
       "<table border=\"1\" class=\"dataframe\">\n",
       "  <thead>\n",
       "    <tr style=\"text-align: right;\">\n",
       "      <th></th>\n",
       "      <th>Dia</th>\n",
       "      <th>Cor</th>\n",
       "      <th>Mês</th>\n",
       "      <th>n</th>\n",
       "      <th>B</th>\n",
       "      <th>E</th>\n",
       "      <th>Corhora</th>\n",
       "      <th>HS</th>\n",
       "      <th>Omega</th>\n",
       "      <th>sigma</th>\n",
       "      <th>...</th>\n",
       "      <th>Hd/H</th>\n",
       "      <th>Hd</th>\n",
       "      <th>Hb</th>\n",
       "      <th>omega_s*</th>\n",
       "      <th>Rb</th>\n",
       "      <th>R</th>\n",
       "      <th>HT</th>\n",
       "      <th>HTb</th>\n",
       "      <th>HTd</th>\n",
       "      <th>HTr</th>\n",
       "    </tr>\n",
       "  </thead>\n",
       "  <tbody>\n",
       "    <tr>\n",
       "      <th>0</th>\n",
       "      <td>15</td>\n",
       "      <td>0</td>\n",
       "      <td>1</td>\n",
       "      <td>15</td>\n",
       "      <td>-65.274725</td>\n",
       "      <td>-9.286743</td>\n",
       "      <td>-0.045526</td>\n",
       "      <td>14.454474</td>\n",
       "      <td>36.817114</td>\n",
       "      <td>-21.269474</td>\n",
       "      <td>...</td>\n",
       "      <td>0.501132</td>\n",
       "      <td>9.417272</td>\n",
       "      <td>9.374728</td>\n",
       "      <td>87.477299</td>\n",
       "      <td>0.788533</td>\n",
       "      <td>0.874334</td>\n",
       "      <td>16.430482</td>\n",
       "      <td>7.392282</td>\n",
       "      <td>8.786435</td>\n",
       "      <td>0.251765</td>\n",
       "    </tr>\n",
       "    <tr>\n",
       "      <th>1</th>\n",
       "      <td>15</td>\n",
       "      <td>1</td>\n",
       "      <td>2</td>\n",
       "      <td>46</td>\n",
       "      <td>-34.615385</td>\n",
       "      <td>-14.573582</td>\n",
       "      <td>-0.133640</td>\n",
       "      <td>14.366360</td>\n",
       "      <td>35.495405</td>\n",
       "      <td>-13.289156</td>\n",
       "      <td>...</td>\n",
       "      <td>0.446415</td>\n",
       "      <td>8.806876</td>\n",
       "      <td>10.921124</td>\n",
       "      <td>88.469660</td>\n",
       "      <td>0.890194</td>\n",
       "      <td>0.922706</td>\n",
       "      <td>18.203151</td>\n",
       "      <td>9.721919</td>\n",
       "      <td>8.216927</td>\n",
       "      <td>0.264305</td>\n",
       "    </tr>\n",
       "    <tr>\n",
       "      <th>2</th>\n",
       "      <td>15</td>\n",
       "      <td>-1</td>\n",
       "      <td>3</td>\n",
       "      <td>74</td>\n",
       "      <td>-6.923077</td>\n",
       "      <td>-9.656338</td>\n",
       "      <td>-0.051686</td>\n",
       "      <td>14.448314</td>\n",
       "      <td>36.724715</td>\n",
       "      <td>-2.818879</td>\n",
       "      <td>...</td>\n",
       "      <td>0.447020</td>\n",
       "      <td>7.563581</td>\n",
       "      <td>9.356419</td>\n",
       "      <td>89.681007</td>\n",
       "      <td>1.039207</td>\n",
       "      <td>1.005134</td>\n",
       "      <td>17.006860</td>\n",
       "      <td>9.723258</td>\n",
       "      <td>7.056917</td>\n",
       "      <td>0.226685</td>\n",
       "    </tr>\n",
       "    <tr>\n",
       "      <th>3</th>\n",
       "      <td>15</td>\n",
       "      <td>0</td>\n",
       "      <td>4</td>\n",
       "      <td>105</td>\n",
       "      <td>23.736264</td>\n",
       "      <td>-0.223084</td>\n",
       "      <td>0.105535</td>\n",
       "      <td>14.605535</td>\n",
       "      <td>39.083029</td>\n",
       "      <td>9.414893</td>\n",
       "      <td>...</td>\n",
       "      <td>0.409361</td>\n",
       "      <td>6.101122</td>\n",
       "      <td>8.802878</td>\n",
       "      <td>91.074302</td>\n",
       "      <td>1.255268</td>\n",
       "      <td>1.136746</td>\n",
       "      <td>16.942068</td>\n",
       "      <td>11.049968</td>\n",
       "      <td>5.692424</td>\n",
       "      <td>0.199676</td>\n",
       "    </tr>\n",
       "    <tr>\n",
       "      <th>4</th>\n",
       "      <td>15</td>\n",
       "      <td>0</td>\n",
       "      <td>5</td>\n",
       "      <td>135</td>\n",
       "      <td>53.406593</td>\n",
       "      <td>3.754880</td>\n",
       "      <td>0.171835</td>\n",
       "      <td>14.671835</td>\n",
       "      <td>40.077520</td>\n",
       "      <td>18.791918</td>\n",
       "      <td>...</td>\n",
       "      <td>0.395092</td>\n",
       "      <td>4.864378</td>\n",
       "      <td>7.447622</td>\n",
       "      <td>92.204986</td>\n",
       "      <td>1.478340</td>\n",
       "      <td>1.276283</td>\n",
       "      <td>15.713597</td>\n",
       "      <td>11.010121</td>\n",
       "      <td>4.538527</td>\n",
       "      <td>0.164950</td>\n",
       "    </tr>\n",
       "    <tr>\n",
       "      <th>5</th>\n",
       "      <td>15</td>\n",
       "      <td>1</td>\n",
       "      <td>6</td>\n",
       "      <td>166</td>\n",
       "      <td>84.065934</td>\n",
       "      <td>-0.240580</td>\n",
       "      <td>0.105244</td>\n",
       "      <td>14.605244</td>\n",
       "      <td>39.078655</td>\n",
       "      <td>23.314410</td>\n",
       "      <td>...</td>\n",
       "      <td>0.375049</td>\n",
       "      <td>4.280057</td>\n",
       "      <td>7.131943</td>\n",
       "      <td>92.793121</td>\n",
       "      <td>1.616536</td>\n",
       "      <td>1.373579</td>\n",
       "      <td>15.675282</td>\n",
       "      <td>11.529042</td>\n",
       "      <td>3.993348</td>\n",
       "      <td>0.152892</td>\n",
       "    </tr>\n",
       "    <tr>\n",
       "      <th>6</th>\n",
       "      <td>15</td>\n",
       "      <td>1</td>\n",
       "      <td>7</td>\n",
       "      <td>196</td>\n",
       "      <td>113.736264</td>\n",
       "      <td>-5.615811</td>\n",
       "      <td>0.015656</td>\n",
       "      <td>14.515656</td>\n",
       "      <td>37.734847</td>\n",
       "      <td>21.517336</td>\n",
       "      <td>...</td>\n",
       "      <td>0.384968</td>\n",
       "      <td>4.490268</td>\n",
       "      <td>7.173732</td>\n",
       "      <td>92.555060</td>\n",
       "      <td>1.558511</td>\n",
       "      <td>1.331111</td>\n",
       "      <td>15.526083</td>\n",
       "      <td>11.180338</td>\n",
       "      <td>4.189477</td>\n",
       "      <td>0.156268</td>\n",
       "    </tr>\n",
       "    <tr>\n",
       "      <th>7</th>\n",
       "      <td>15</td>\n",
       "      <td>2</td>\n",
       "      <td>8</td>\n",
       "      <td>227</td>\n",
       "      <td>144.395604</td>\n",
       "      <td>-4.094882</td>\n",
       "      <td>0.041005</td>\n",
       "      <td>14.541005</td>\n",
       "      <td>38.115080</td>\n",
       "      <td>13.783564</td>\n",
       "      <td>...</td>\n",
       "      <td>0.367588</td>\n",
       "      <td>5.543221</td>\n",
       "      <td>9.536779</td>\n",
       "      <td>91.589506</td>\n",
       "      <td>1.350701</td>\n",
       "      <td>1.210561</td>\n",
       "      <td>18.255265</td>\n",
       "      <td>12.881336</td>\n",
       "      <td>5.171896</td>\n",
       "      <td>0.202034</td>\n",
       "    </tr>\n",
       "    <tr>\n",
       "      <th>8</th>\n",
       "      <td>15</td>\n",
       "      <td>3</td>\n",
       "      <td>9</td>\n",
       "      <td>258</td>\n",
       "      <td>175.054945</td>\n",
       "      <td>5.677410</td>\n",
       "      <td>0.203877</td>\n",
       "      <td>14.703877</td>\n",
       "      <td>40.558152</td>\n",
       "      <td>2.216887</td>\n",
       "      <td>...</td>\n",
       "      <td>0.451463</td>\n",
       "      <td>6.826123</td>\n",
       "      <td>8.293877</td>\n",
       "      <td>90.250792</td>\n",
       "      <td>1.120950</td>\n",
       "      <td>1.049501</td>\n",
       "      <td>15.868448</td>\n",
       "      <td>9.297019</td>\n",
       "      <td>6.368859</td>\n",
       "      <td>0.202570</td>\n",
       "    </tr>\n",
       "    <tr>\n",
       "      <th>9</th>\n",
       "      <td>15</td>\n",
       "      <td>3</td>\n",
       "      <td>10</td>\n",
       "      <td>288</td>\n",
       "      <td>204.725275</td>\n",
       "      <td>14.966751</td>\n",
       "      <td>0.358699</td>\n",
       "      <td>14.858699</td>\n",
       "      <td>42.880488</td>\n",
       "      <td>-9.599397</td>\n",
       "      <td>...</td>\n",
       "      <td>0.476679</td>\n",
       "      <td>8.168366</td>\n",
       "      <td>8.967634</td>\n",
       "      <td>88.904247</td>\n",
       "      <td>0.940166</td>\n",
       "      <td>0.950154</td>\n",
       "      <td>16.281835</td>\n",
       "      <td>8.431067</td>\n",
       "      <td>7.621190</td>\n",
       "      <td>0.229579</td>\n",
       "    </tr>\n",
       "    <tr>\n",
       "      <th>10</th>\n",
       "      <td>15</td>\n",
       "      <td>4</td>\n",
       "      <td>11</td>\n",
       "      <td>319</td>\n",
       "      <td>235.384615</td>\n",
       "      <td>14.740614</td>\n",
       "      <td>0.354930</td>\n",
       "      <td>14.854930</td>\n",
       "      <td>42.823953</td>\n",
       "      <td>-19.147817</td>\n",
       "      <td>...</td>\n",
       "      <td>0.495445</td>\n",
       "      <td>9.167709</td>\n",
       "      <td>9.336291</td>\n",
       "      <td>87.749983</td>\n",
       "      <td>0.814881</td>\n",
       "      <td>0.886806</td>\n",
       "      <td>16.409461</td>\n",
       "      <td>7.607965</td>\n",
       "      <td>8.553589</td>\n",
       "      <td>0.247907</td>\n",
       "    </tr>\n",
       "    <tr>\n",
       "      <th>11</th>\n",
       "      <td>15</td>\n",
       "      <td>4</td>\n",
       "      <td>12</td>\n",
       "      <td>349</td>\n",
       "      <td>265.054945</td>\n",
       "      <td>3.838767</td>\n",
       "      <td>0.173233</td>\n",
       "      <td>14.673233</td>\n",
       "      <td>40.098492</td>\n",
       "      <td>-23.335220</td>\n",
       "      <td>...</td>\n",
       "      <td>0.475156</td>\n",
       "      <td>9.733087</td>\n",
       "      <td>10.750913</td>\n",
       "      <td>87.204086</td>\n",
       "      <td>0.763237</td>\n",
       "      <td>0.857304</td>\n",
       "      <td>17.561024</td>\n",
       "      <td>8.205496</td>\n",
       "      <td>9.081094</td>\n",
       "      <td>0.274434</td>\n",
       "    </tr>\n",
       "  </tbody>\n",
       "</table>\n",
       "<p>12 rows × 27 columns</p>\n",
       "</div>"
      ],
      "text/plain": [
       "    Dia  Cor  Mês    n           B          E   Corhora         HS      Omega  \\\n",
       "0    15    0    1   15  -65.274725  -9.286743 -0.045526  14.454474  36.817114   \n",
       "1    15    1    2   46  -34.615385 -14.573582 -0.133640  14.366360  35.495405   \n",
       "2    15   -1    3   74   -6.923077  -9.656338 -0.051686  14.448314  36.724715   \n",
       "3    15    0    4  105   23.736264  -0.223084  0.105535  14.605535  39.083029   \n",
       "4    15    0    5  135   53.406593   3.754880  0.171835  14.671835  40.077520   \n",
       "5    15    1    6  166   84.065934  -0.240580  0.105244  14.605244  39.078655   \n",
       "6    15    1    7  196  113.736264  -5.615811  0.015656  14.515656  37.734847   \n",
       "7    15    2    8  227  144.395604  -4.094882  0.041005  14.541005  38.115080   \n",
       "8    15    3    9  258  175.054945   5.677410  0.203877  14.703877  40.558152   \n",
       "9    15    3   10  288  204.725275  14.966751  0.358699  14.858699  42.880488   \n",
       "10   15    4   11  319  235.384615  14.740614  0.354930  14.854930  42.823953   \n",
       "11   15    4   12  349  265.054945   3.838767  0.173233  14.673233  40.098492   \n",
       "\n",
       "        sigma  ...      Hd/H        Hd         Hb   omega_s*        Rb  \\\n",
       "0  -21.269474  ...  0.501132  9.417272   9.374728  87.477299  0.788533   \n",
       "1  -13.289156  ...  0.446415  8.806876  10.921124  88.469660  0.890194   \n",
       "2   -2.818879  ...  0.447020  7.563581   9.356419  89.681007  1.039207   \n",
       "3    9.414893  ...  0.409361  6.101122   8.802878  91.074302  1.255268   \n",
       "4   18.791918  ...  0.395092  4.864378   7.447622  92.204986  1.478340   \n",
       "5   23.314410  ...  0.375049  4.280057   7.131943  92.793121  1.616536   \n",
       "6   21.517336  ...  0.384968  4.490268   7.173732  92.555060  1.558511   \n",
       "7   13.783564  ...  0.367588  5.543221   9.536779  91.589506  1.350701   \n",
       "8    2.216887  ...  0.451463  6.826123   8.293877  90.250792  1.120950   \n",
       "9   -9.599397  ...  0.476679  8.168366   8.967634  88.904247  0.940166   \n",
       "10 -19.147817  ...  0.495445  9.167709   9.336291  87.749983  0.814881   \n",
       "11 -23.335220  ...  0.475156  9.733087  10.750913  87.204086  0.763237   \n",
       "\n",
       "           R         HT        HTb       HTd       HTr  \n",
       "0   0.874334  16.430482   7.392282  8.786435  0.251765  \n",
       "1   0.922706  18.203151   9.721919  8.216927  0.264305  \n",
       "2   1.005134  17.006860   9.723258  7.056917  0.226685  \n",
       "3   1.136746  16.942068  11.049968  5.692424  0.199676  \n",
       "4   1.276283  15.713597  11.010121  4.538527  0.164950  \n",
       "5   1.373579  15.675282  11.529042  3.993348  0.152892  \n",
       "6   1.331111  15.526083  11.180338  4.189477  0.156268  \n",
       "7   1.210561  18.255265  12.881336  5.171896  0.202034  \n",
       "8   1.049501  15.868448   9.297019  6.368859  0.202570  \n",
       "9   0.950154  16.281835   8.431067  7.621190  0.229579  \n",
       "10  0.886806  16.409461   7.607965  8.553589  0.247907  \n",
       "11  0.857304  17.561024   8.205496  9.081094  0.274434  \n",
       "\n",
       "[12 rows x 27 columns]"
      ]
     },
     "execution_count": 65,
     "metadata": {},
     "output_type": "execute_result"
    }
   ],
   "source": [
    "df['HTr']=rho*(((1-np.cos(np.radians(Beta_incli)))/2))*df['H']\n",
    "df\n"
   ]
  },
  {
   "cell_type": "code",
   "execution_count": 71,
   "id": "ae8a9512",
   "metadata": {},
   "outputs": [
    {
     "data": {
      "text/plain": [
       "Text(0, 0.5, 'Irradiação Solar ')"
      ]
     },
     "execution_count": 71,
     "metadata": {},
     "output_type": "execute_result"
    },
    {
     "data": {
      "image/png": "[encoded data removed]",
      "text/plain": [
       "<Figure size 432x288 with 1 Axes>"
      ]
     },
     "metadata": {
      "needs_background": "light"
     },
     "output_type": "display_data"
    }
   ],
   "source": [
    "df[[\"HTd\", \"HTb\", \"HTr\"]].plot(kind=\"bar\", stacked=True)\n",
    "plt.title(\"Índice de irradiação solar PLANO INCLINADO 30°\")\n",
    "plt.xlabel(\"Meses\")\n",
    "plt.ylabel(\"Irradiação Solar \")"
   ]
  },
  {
   "cell_type": "code",
   "execution_count": 72,
   "id": "ee65d187",
   "metadata": {},
   "outputs": [
    {
     "data": {
      "text/html": [
       "<div>\n",
       "<style scoped>\n",
       "    .dataframe tbody tr th:only-of-type {\n",
       "        vertical-align: middle;\n",
       "    }\n",
       "\n",
       "    .dataframe tbody tr th {\n",
       "        vertical-align: top;\n",
       "    }\n",
       "\n",
       "    .dataframe thead th {\n",
       "        text-align: right;\n",
       "    }\n",
       "</style>\n",
       "<table border=\"1\" class=\"dataframe\">\n",
       "  <thead>\n",
       "    <tr style=\"text-align: right;\">\n",
       "      <th></th>\n",
       "      <th>Mês</th>\n",
       "      <th>Omega_s*</th>\n",
       "      <th>Rb*</th>\n",
       "      <th>R</th>\n",
       "      <th>HT</th>\n",
       "      <th>HTd</th>\n",
       "      <th>HTb</th>\n",
       "      <th>HTr</th>\n",
       "    </tr>\n",
       "  </thead>\n",
       "  <tbody>\n",
       "    <tr>\n",
       "      <th>0</th>\n",
       "      <td>1</td>\n",
       "      <td>87.477299</td>\n",
       "      <td>0.788533</td>\n",
       "      <td>0.874334</td>\n",
       "      <td>16.430482</td>\n",
       "      <td>8.786435</td>\n",
       "      <td>7.392282</td>\n",
       "      <td>0.251765</td>\n",
       "    </tr>\n",
       "    <tr>\n",
       "      <th>1</th>\n",
       "      <td>2</td>\n",
       "      <td>88.469660</td>\n",
       "      <td>0.890194</td>\n",
       "      <td>0.922706</td>\n",
       "      <td>18.203151</td>\n",
       "      <td>8.216927</td>\n",
       "      <td>9.721919</td>\n",
       "      <td>0.264305</td>\n",
       "    </tr>\n",
       "    <tr>\n",
       "      <th>2</th>\n",
       "      <td>3</td>\n",
       "      <td>89.681007</td>\n",
       "      <td>1.039207</td>\n",
       "      <td>1.005134</td>\n",
       "      <td>17.006860</td>\n",
       "      <td>7.056917</td>\n",
       "      <td>9.723258</td>\n",
       "      <td>0.226685</td>\n",
       "    </tr>\n",
       "    <tr>\n",
       "      <th>3</th>\n",
       "      <td>4</td>\n",
       "      <td>91.074302</td>\n",
       "      <td>1.255268</td>\n",
       "      <td>1.136746</td>\n",
       "      <td>16.942068</td>\n",
       "      <td>5.692424</td>\n",
       "      <td>11.049968</td>\n",
       "      <td>0.199676</td>\n",
       "    </tr>\n",
       "    <tr>\n",
       "      <th>4</th>\n",
       "      <td>5</td>\n",
       "      <td>92.204986</td>\n",
       "      <td>1.478340</td>\n",
       "      <td>1.276283</td>\n",
       "      <td>15.713597</td>\n",
       "      <td>4.538527</td>\n",
       "      <td>11.010121</td>\n",
       "      <td>0.164950</td>\n",
       "    </tr>\n",
       "    <tr>\n",
       "      <th>5</th>\n",
       "      <td>6</td>\n",
       "      <td>92.793121</td>\n",
       "      <td>1.616536</td>\n",
       "      <td>1.373579</td>\n",
       "      <td>15.675282</td>\n",
       "      <td>3.993348</td>\n",
       "      <td>11.529042</td>\n",
       "      <td>0.152892</td>\n",
       "    </tr>\n",
       "    <tr>\n",
       "      <th>6</th>\n",
       "      <td>7</td>\n",
       "      <td>92.555060</td>\n",
       "      <td>1.558511</td>\n",
       "      <td>1.331111</td>\n",
       "      <td>15.526083</td>\n",
       "      <td>4.189477</td>\n",
       "      <td>11.180338</td>\n",
       "      <td>0.156268</td>\n",
       "    </tr>\n",
       "    <tr>\n",
       "      <th>7</th>\n",
       "      <td>8</td>\n",
       "      <td>91.589506</td>\n",
       "      <td>1.350701</td>\n",
       "      <td>1.210561</td>\n",
       "      <td>18.255265</td>\n",
       "      <td>5.171896</td>\n",
       "      <td>12.881336</td>\n",
       "      <td>0.202034</td>\n",
       "    </tr>\n",
       "    <tr>\n",
       "      <th>8</th>\n",
       "      <td>9</td>\n",
       "      <td>90.250792</td>\n",
       "      <td>1.120950</td>\n",
       "      <td>1.049501</td>\n",
       "      <td>15.868448</td>\n",
       "      <td>6.368859</td>\n",
       "      <td>9.297019</td>\n",
       "      <td>0.202570</td>\n",
       "    </tr>\n",
       "    <tr>\n",
       "      <th>9</th>\n",
       "      <td>10</td>\n",
       "      <td>88.904247</td>\n",
       "      <td>0.940166</td>\n",
       "      <td>0.950154</td>\n",
       "      <td>16.281835</td>\n",
       "      <td>7.621190</td>\n",
       "      <td>8.431067</td>\n",
       "      <td>0.229579</td>\n",
       "    </tr>\n",
       "    <tr>\n",
       "      <th>10</th>\n",
       "      <td>11</td>\n",
       "      <td>87.749983</td>\n",
       "      <td>0.814881</td>\n",
       "      <td>0.886806</td>\n",
       "      <td>16.409461</td>\n",
       "      <td>8.553589</td>\n",
       "      <td>7.607965</td>\n",
       "      <td>0.247907</td>\n",
       "    </tr>\n",
       "    <tr>\n",
       "      <th>11</th>\n",
       "      <td>12</td>\n",
       "      <td>87.204086</td>\n",
       "      <td>0.763237</td>\n",
       "      <td>0.857304</td>\n",
       "      <td>17.561024</td>\n",
       "      <td>9.081094</td>\n",
       "      <td>8.205496</td>\n",
       "      <td>0.274434</td>\n",
       "    </tr>\n",
       "  </tbody>\n",
       "</table>\n",
       "</div>"
      ],
      "text/plain": [
       "    Mês   Omega_s*       Rb*         R         HT       HTd        HTb  \\\n",
       "0     1  87.477299  0.788533  0.874334  16.430482  8.786435   7.392282   \n",
       "1     2  88.469660  0.890194  0.922706  18.203151  8.216927   9.721919   \n",
       "2     3  89.681007  1.039207  1.005134  17.006860  7.056917   9.723258   \n",
       "3     4  91.074302  1.255268  1.136746  16.942068  5.692424  11.049968   \n",
       "4     5  92.204986  1.478340  1.276283  15.713597  4.538527  11.010121   \n",
       "5     6  92.793121  1.616536  1.373579  15.675282  3.993348  11.529042   \n",
       "6     7  92.555060  1.558511  1.331111  15.526083  4.189477  11.180338   \n",
       "7     8  91.589506  1.350701  1.210561  18.255265  5.171896  12.881336   \n",
       "8     9  90.250792  1.120950  1.049501  15.868448  6.368859   9.297019   \n",
       "9    10  88.904247  0.940166  0.950154  16.281835  7.621190   8.431067   \n",
       "10   11  87.749983  0.814881  0.886806  16.409461  8.553589   7.607965   \n",
       "11   12  87.204086  0.763237  0.857304  17.561024  9.081094   8.205496   \n",
       "\n",
       "         HTr  \n",
       "0   0.251765  \n",
       "1   0.264305  \n",
       "2   0.226685  \n",
       "3   0.199676  \n",
       "4   0.164950  \n",
       "5   0.152892  \n",
       "6   0.156268  \n",
       "7   0.202034  \n",
       "8   0.202570  \n",
       "9   0.229579  \n",
       "10  0.247907  \n",
       "11  0.274434  "
      ]
     },
     "execution_count": 72,
     "metadata": {},
     "output_type": "execute_result"
    }
   ],
   "source": [
    "df1=pd.DataFrame({\"Mês\":df['Mês'],\"Omega_s*\":df['omega_s*'],\"Rb*\":df['Rb'],\"R\":df['R'],\"HT\":df['HT'],\"HTd\":df['HTd'],\"HTb\":df['HTb'],\"HTr\":df['HTr']})\n",
    "df1"
   ]
  },
  {
   "cell_type": "code",
   "execution_count": null,
   "id": "85da199b",
   "metadata": {},
   "outputs": [],
   "source": []
  },
  {
   "cell_type": "code",
   "execution_count": null,
   "id": "76781899",
   "metadata": {},
   "outputs": [],
   "source": []
  },
  {
   "cell_type": "code",
   "execution_count": null,
   "id": "28bc1fdb",
   "metadata": {},
   "outputs": [],
   "source": []
  }
 ],
 "metadata": {
  "celltoolbar": "Raw Cell Format",
  "kernelspec": {
   "display_name": "Python 3",
   "language": "python",
   "name": "python3"
  },
  "language_info": {
   "codemirror_mode": {
    "name": "ipython",
    "version": 3
   },
   "file_extension": ".py",
   "mimetype": "text/x-python",
   "name": "python",
   "nbconvert_exporter": "python",
   "pygments_lexer": "ipython3",
   "version": "3.8.5"
  }
 },
 "nbformat": 4,
 "nbformat_minor": 5
}
