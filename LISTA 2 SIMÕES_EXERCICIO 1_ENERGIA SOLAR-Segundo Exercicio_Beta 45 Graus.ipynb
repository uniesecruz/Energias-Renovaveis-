{
 "cells": [
  {
   "cell_type": "code",
   "execution_count": 1,
   "id": "de10e073",
   "metadata": {},
   "outputs": [],
   "source": [
    "import handcalcs.render\n",
    "import math as mt\n",
    "import numpy as np\n",
    "import pandas as pd\n",
    "import matplotlib.pyplot as plt\n",
    "import statistics as st"
   ]
  },
  {
   "cell_type": "code",
   "execution_count": 2,
   "id": "6d93e1f7",
   "metadata": {},
   "outputs": [],
   "source": [
    "L_O=-45       #Longitude Hora Legal\n",
    "L =-46.6388  #Longitude \n",
    "L_a= -23.5489  #Latitude\n",
    "Beta=0           #Inclinação \n",
    "GSC=1.367         #Constante solar  KW/m^2"
   ]
  },
  {
   "cell_type": "code",
   "execution_count": 3,
   "id": "001fd998",
   "metadata": {},
   "outputs": [],
   "source": [
    "df=pd.read_csv(\"Dados Segundo exercicio.csv\" , encoding ='UTF-8' , sep=\";\")\n",
    "\n"
   ]
  },
  {
   "cell_type": "markdown",
   "id": "f46a9123",
   "metadata": {},
   "source": [
    "NUMERO DO DIA NO ANO"
   ]
  },
  {
   "cell_type": "code",
   "execution_count": 4,
   "id": "e6723952",
   "metadata": {},
   "outputs": [],
   "source": [
    "df['n']= df['Dia']  + (df['Mês'] -1)*30 +df['Cor']\n"
   ]
  },
  {
   "cell_type": "markdown",
   "id": "a3932293",
   "metadata": {},
   "source": [
    "CALCULO DA HORA SOLAR "
   ]
  },
  {
   "cell_type": "code",
   "execution_count": 5,
   "id": "a98afd8e",
   "metadata": {},
   "outputs": [],
   "source": [
    "df['B']= (360/364)*(df['n']-81)"
   ]
  },
  {
   "cell_type": "code",
   "execution_count": 6,
   "id": "1efc1f6e",
   "metadata": {},
   "outputs": [],
   "source": [
    "df['E']= 9.87*np.sin(np.radians(2*df['B']))-7.53*np.cos(np.radians(df['B']))-1.5*np.sin(np.radians(df['B']))"
   ]
  },
  {
   "cell_type": "code",
   "execution_count": 7,
   "id": "800df1b2",
   "metadata": {},
   "outputs": [],
   "source": [
    "df['Corhora']= (4*(L_O-L)+df['E'])/60"
   ]
  },
  {
   "cell_type": "code",
   "execution_count": 8,
   "id": "1a2f3037",
   "metadata": {},
   "outputs": [],
   "source": [
    "HL=14.50\n"
   ]
  },
  {
   "cell_type": "code",
   "execution_count": 9,
   "id": "2c058312",
   "metadata": {},
   "outputs": [],
   "source": [
    "df['HS']= HL+df['Corhora']\n"
   ]
  },
  {
   "cell_type": "markdown",
   "id": "90bf6942",
   "metadata": {},
   "source": [
    "ÂNGULO HORARIO"
   ]
  },
  {
   "cell_type": "code",
   "execution_count": 10,
   "id": "c79b5de7",
   "metadata": {},
   "outputs": [],
   "source": [
    "df['Omega']= (df['HS']-12)*15"
   ]
  },
  {
   "cell_type": "markdown",
   "id": "6ca6a78a",
   "metadata": {},
   "source": [
    "DECLINAÇÃO SOLAR "
   ]
  },
  {
   "cell_type": "code",
   "execution_count": 11,
   "id": "e7c89551",
   "metadata": {},
   "outputs": [],
   "source": [
    "df['sigma']= 23.45*np.sin(np.radians(360/365*(284+df['n'])))"
   ]
  },
  {
   "cell_type": "markdown",
   "id": "4c94cc0f",
   "metadata": {},
   "source": [
    "ÂNGULO ZENITAL "
   ]
  },
  {
   "cell_type": "code",
   "execution_count": 12,
   "id": "73a7fc2f",
   "metadata": {},
   "outputs": [],
   "source": [
    "df['teta_z']= np.degrees(np.arccos(np.sin(np.radians(df['sigma']))*(np.sin(np.radians(L_a))+np.cos(np.radians(df['sigma']))*np.cos(np.radians(L_a))*np.cos(np.radians(df['Omega'])))))\n",
    "\n"
   ]
  },
  {
   "cell_type": "markdown",
   "id": "cdd07759",
   "metadata": {},
   "source": [
    "ÂNGULO DE INCIDENCIA "
   ]
  },
  {
   "cell_type": "code",
   "execution_count": 13,
   "id": "c8f1ae32",
   "metadata": {},
   "outputs": [],
   "source": [
    "df['teta']=np.degrees(np.arccos(np.cos(np.radians(L_a+Beta)*np.cos(np.radians(df['sigma']))*np.cos(np.radians(df['Omega']))+np.sin(np.radians(L_a+Beta))*np.sin(np.radians(df['sigma'])))))\n"
   ]
  },
  {
   "cell_type": "markdown",
   "id": "1fcaf723",
   "metadata": {},
   "source": [
    "IRRADIAÇÃO EXTRATERRESTE SOBRE UMA SUPERFICIE HORIZONTAL EM UM PONTO DA TERRA"
   ]
  },
  {
   "cell_type": "code",
   "execution_count": 14,
   "id": "775034d8",
   "metadata": {},
   "outputs": [],
   "source": [
    "df['GO']=GSC*(1+0.033*np.cos(np.radians((360*df['n'])/365)))*np.cos(np.radians(df['teta_z']))\n"
   ]
  },
  {
   "cell_type": "markdown",
   "id": "b957a070",
   "metadata": {},
   "source": [
    "ÂNGULO HORÁRIO DO PÔR DO SOL "
   ]
  },
  {
   "cell_type": "code",
   "execution_count": 15,
   "id": "6565e6a6",
   "metadata": {},
   "outputs": [],
   "source": [
    "df['omega_s']=np.degrees(np.arccos((-np.tan(np.radians(L_a))*np.tan(np.radians(df['sigma'])))))\n"
   ]
  },
  {
   "cell_type": "markdown",
   "id": "ffba031e",
   "metadata": {},
   "source": [
    "IRRADIAÇÃO EXTRATERRESTRE INTEGRADA HORARI SOBRE SUPERFICIE HORIZONTAL "
   ]
  },
  {
   "cell_type": "code",
   "execution_count": 16,
   "id": "95749487",
   "metadata": {},
   "outputs": [],
   "source": [
    "df['HO']=((2.75*10**4)*GSC*((1+0.033*np.cos(np.radians((360*df['n'])/365))))*(((1.75*10**-2)*df['omega_s']*np.sin(np.radians(df['sigma']))*np.sin(np.radians(L_a))+np.cos(np.radians(df['sigma']))*np.cos(np.radians(L_a))*np.sin(np.radians(df['omega_s'])))))/1000\n"
   ]
  },
  {
   "cell_type": "code",
   "execution_count": 17,
   "id": "1cb45cb7",
   "metadata": {},
   "outputs": [],
   "source": [
    "df['H']=pd.read_csv(\"Irradiação integrada diaria.csv\" , encoding ='UTF-8' , sep=\";\")\n"
   ]
  },
  {
   "cell_type": "code",
   "execution_count": 18,
   "id": "a045f161",
   "metadata": {},
   "outputs": [],
   "source": [
    "df['KT']=df['H']/df['HO']\n"
   ]
  },
  {
   "cell_type": "code",
   "execution_count": 19,
   "id": "ee7a3a23",
   "metadata": {},
   "outputs": [],
   "source": [
    "df['Hd/H']=0.775+0.0065*(df['omega_s']-90)-(0.505+0.00455*(df['omega_s']-90))*np.cos(np.radians(115*df['KT']-103))\n"
   ]
  },
  {
   "cell_type": "code",
   "execution_count": 20,
   "id": "1665e6df",
   "metadata": {},
   "outputs": [],
   "source": [
    "df['Hd']=df['Hd/H']*df['H']\n"
   ]
  },
  {
   "cell_type": "code",
   "execution_count": 21,
   "id": "37b14c56",
   "metadata": {},
   "outputs": [],
   "source": [
    "df['Hb']=df['H']-df['Hd']\n"
   ]
  },
  {
   "cell_type": "code",
   "execution_count": 22,
   "id": "50faa303",
   "metadata": {},
   "outputs": [
    {
     "data": {
      "text/plain": [
       "Text(0, 0.5, 'Irradiação Solar ')"
      ]
     },
     "execution_count": 22,
     "metadata": {},
     "output_type": "execute_result"
    },
    {
     "data": {
      "image/png": "[encoded data removed]",
      "text/plain": [
       "<Figure size 432x288 with 1 Axes>"
      ]
     },
     "metadata": {
      "needs_background": "light"
     },
     "output_type": "display_data"
    }
   ],
   "source": [
    "df[[\"Hd\", \"Hb\", ]].plot(kind=\"bar\", stacked=True)\n",
    "plt.title(\"Índice de claridade e irradiação solar PLANO HORIZONTAL\")\n",
    "plt.xlabel(\"Meses\")\n",
    "plt.ylabel(\"Irradiação Solar \")"
   ]
  },
  {
   "cell_type": "markdown",
   "id": "821abcdf",
   "metadata": {},
   "source": [
    "Superficie no hemisferio Sul  "
   ]
  },
  {
   "cell_type": "code",
   "execution_count": 23,
   "id": "a0b861a4",
   "metadata": {},
   "outputs": [],
   "source": [
    "Beta_incli=45"
   ]
  },
  {
   "cell_type": "code",
   "execution_count": 24,
   "id": "658de9c0",
   "metadata": {},
   "outputs": [],
   "source": [
    "df['omega_s*']=np.degrees(np.arccos((-np.tan(np.radians(L_a+Beta_incli))*np.tan(np.radians(df['sigma'])))))\n"
   ]
  },
  {
   "cell_type": "code",
   "execution_count": 25,
   "id": "2f88c70c",
   "metadata": {},
   "outputs": [],
   "source": [
    "df['Rb']=(np.cos(np.radians(L_a+Beta_incli))*np.cos(np.radians(df['sigma']))*np.sin(np.radians(df['omega_s*']))+(np.pi/180)*df['omega_s*']*np.sin(np.radians(L_a+Beta_incli))*np.sin(np.radians(df['sigma'])))/(np.cos(np.radians(L_a))*np.cos(np.radians(df['sigma']))*np.sin(np.radians(df['omega_s']))+(np.pi/180)*df['omega_s']*np.sin(np.radians(L_a))*np.sin(np.radians(df['sigma'])))\n"
   ]
  },
  {
   "cell_type": "code",
   "execution_count": 26,
   "id": "8d42c879",
   "metadata": {},
   "outputs": [],
   "source": [
    "rho=0.2"
   ]
  },
  {
   "cell_type": "code",
   "execution_count": 27,
   "id": "f206efe3",
   "metadata": {},
   "outputs": [],
   "source": [
    "df['R']=(1-df['Hd/H'])*df['Rb']+df['Hd/H']*((1+np.cos(np.radians(Beta_incli)))/2)+rho*(((1-np.cos(np.radians(Beta_incli)))/2))\n"
   ]
  },
  {
   "cell_type": "code",
   "execution_count": 28,
   "id": "cdc31797",
   "metadata": {},
   "outputs": [],
   "source": [
    "df['HT']=df['R']*df['H']\n"
   ]
  },
  {
   "cell_type": "code",
   "execution_count": 29,
   "id": "a3d76640",
   "metadata": {},
   "outputs": [],
   "source": [
    "df['HTb']=(1-df['Hd/H'])*df['Rb']*df['H']\n"
   ]
  },
  {
   "cell_type": "code",
   "execution_count": 30,
   "id": "a72bb8df",
   "metadata": {},
   "outputs": [],
   "source": [
    "df['HTd']=df['Hd/H']*((1+np.cos(np.radians(Beta_incli)))/2)*df['H']\n"
   ]
  },
  {
   "cell_type": "code",
   "execution_count": 31,
   "id": "bfb10a2b",
   "metadata": {},
   "outputs": [
    {
     "data": {
      "text/html": [
       "<div>\n",
       "<style scoped>\n",
       "    .dataframe tbody tr th:only-of-type {\n",
       "        vertical-align: middle;\n",
       "    }\n",
       "\n",
       "    .dataframe tbody tr th {\n",
       "        vertical-align: top;\n",
       "    }\n",
       "\n",
       "    .dataframe thead th {\n",
       "        text-align: right;\n",
       "    }\n",
       "</style>\n",
       "<table border=\"1\" class=\"dataframe\">\n",
       "  <thead>\n",
       "    <tr style=\"text-align: right;\">\n",
       "      <th></th>\n",
       "      <th>Dia</th>\n",
       "      <th>Cor</th>\n",
       "      <th>Mês</th>\n",
       "      <th>n</th>\n",
       "      <th>B</th>\n",
       "      <th>E</th>\n",
       "      <th>Corhora</th>\n",
       "      <th>HS</th>\n",
       "      <th>Omega</th>\n",
       "      <th>sigma</th>\n",
       "      <th>...</th>\n",
       "      <th>Hd/H</th>\n",
       "      <th>Hd</th>\n",
       "      <th>Hb</th>\n",
       "      <th>omega_s*</th>\n",
       "      <th>Rb</th>\n",
       "      <th>R</th>\n",
       "      <th>HT</th>\n",
       "      <th>HTb</th>\n",
       "      <th>HTd</th>\n",
       "      <th>HTr</th>\n",
       "    </tr>\n",
       "  </thead>\n",
       "  <tbody>\n",
       "    <tr>\n",
       "      <th>0</th>\n",
       "      <td>15</td>\n",
       "      <td>0</td>\n",
       "      <td>1</td>\n",
       "      <td>15</td>\n",
       "      <td>-65.274725</td>\n",
       "      <td>-9.286743</td>\n",
       "      <td>-0.045526</td>\n",
       "      <td>14.454474</td>\n",
       "      <td>36.817114</td>\n",
       "      <td>-21.269474</td>\n",
       "      <td>...</td>\n",
       "      <td>0.501132</td>\n",
       "      <td>9.417272</td>\n",
       "      <td>9.374728</td>\n",
       "      <td>81.201851</td>\n",
       "      <td>0.611476</td>\n",
       "      <td>0.762078</td>\n",
       "      <td>14.320973</td>\n",
       "      <td>5.732423</td>\n",
       "      <td>8.038145</td>\n",
       "      <td>0.550405</td>\n",
       "    </tr>\n",
       "    <tr>\n",
       "      <th>1</th>\n",
       "      <td>15</td>\n",
       "      <td>1</td>\n",
       "      <td>2</td>\n",
       "      <td>46</td>\n",
       "      <td>-34.615385</td>\n",
       "      <td>-14.573582</td>\n",
       "      <td>-0.133640</td>\n",
       "      <td>14.366360</td>\n",
       "      <td>35.495405</td>\n",
       "      <td>-13.289156</td>\n",
       "      <td>...</td>\n",
       "      <td>0.446415</td>\n",
       "      <td>8.806876</td>\n",
       "      <td>10.921124</td>\n",
       "      <td>84.675003</td>\n",
       "      <td>0.746919</td>\n",
       "      <td>0.823812</td>\n",
       "      <td>16.252156</td>\n",
       "      <td>8.157197</td>\n",
       "      <td>7.517139</td>\n",
       "      <td>0.577820</td>\n",
       "    </tr>\n",
       "    <tr>\n",
       "      <th>2</th>\n",
       "      <td>15</td>\n",
       "      <td>-1</td>\n",
       "      <td>3</td>\n",
       "      <td>74</td>\n",
       "      <td>-6.923077</td>\n",
       "      <td>-9.656338</td>\n",
       "      <td>-0.051686</td>\n",
       "      <td>14.448314</td>\n",
       "      <td>36.724715</td>\n",
       "      <td>-2.818879</td>\n",
       "      <td>...</td>\n",
       "      <td>0.447020</td>\n",
       "      <td>7.563581</td>\n",
       "      <td>9.356419</td>\n",
       "      <td>88.891429</td>\n",
       "      <td>0.952299</td>\n",
       "      <td>0.937447</td>\n",
       "      <td>15.861603</td>\n",
       "      <td>8.910108</td>\n",
       "      <td>6.455920</td>\n",
       "      <td>0.495575</td>\n",
       "    </tr>\n",
       "    <tr>\n",
       "      <th>3</th>\n",
       "      <td>15</td>\n",
       "      <td>0</td>\n",
       "      <td>4</td>\n",
       "      <td>105</td>\n",
       "      <td>23.736264</td>\n",
       "      <td>-0.223084</td>\n",
       "      <td>0.105535</td>\n",
       "      <td>14.605535</td>\n",
       "      <td>39.083029</td>\n",
       "      <td>9.414893</td>\n",
       "      <td>...</td>\n",
       "      <td>0.409361</td>\n",
       "      <td>6.101122</td>\n",
       "      <td>8.802878</td>\n",
       "      <td>93.735652</td>\n",
       "      <td>1.261221</td>\n",
       "      <td>1.123627</td>\n",
       "      <td>16.746536</td>\n",
       "      <td>11.102374</td>\n",
       "      <td>5.207633</td>\n",
       "      <td>0.436528</td>\n",
       "    </tr>\n",
       "    <tr>\n",
       "      <th>4</th>\n",
       "      <td>15</td>\n",
       "      <td>0</td>\n",
       "      <td>5</td>\n",
       "      <td>135</td>\n",
       "      <td>53.406593</td>\n",
       "      <td>3.754880</td>\n",
       "      <td>0.171835</td>\n",
       "      <td>14.671835</td>\n",
       "      <td>40.077520</td>\n",
       "      <td>18.791918</td>\n",
       "      <td>...</td>\n",
       "      <td>0.395092</td>\n",
       "      <td>4.864378</td>\n",
       "      <td>7.447622</td>\n",
       "      <td>97.683495</td>\n",
       "      <td>1.590602</td>\n",
       "      <td>1.328689</td>\n",
       "      <td>16.358820</td>\n",
       "      <td>11.846204</td>\n",
       "      <td>4.152007</td>\n",
       "      <td>0.360610</td>\n",
       "    </tr>\n",
       "    <tr>\n",
       "      <th>5</th>\n",
       "      <td>15</td>\n",
       "      <td>1</td>\n",
       "      <td>6</td>\n",
       "      <td>166</td>\n",
       "      <td>84.065934</td>\n",
       "      <td>-0.240580</td>\n",
       "      <td>0.105244</td>\n",
       "      <td>14.605244</td>\n",
       "      <td>39.078655</td>\n",
       "      <td>23.314410</td>\n",
       "      <td>...</td>\n",
       "      <td>0.375049</td>\n",
       "      <td>4.280057</td>\n",
       "      <td>7.131943</td>\n",
       "      <td>99.749294</td>\n",
       "      <td>1.798835</td>\n",
       "      <td>1.473597</td>\n",
       "      <td>16.816693</td>\n",
       "      <td>12.829186</td>\n",
       "      <td>3.653257</td>\n",
       "      <td>0.334250</td>\n",
       "    </tr>\n",
       "    <tr>\n",
       "      <th>6</th>\n",
       "      <td>15</td>\n",
       "      <td>1</td>\n",
       "      <td>7</td>\n",
       "      <td>196</td>\n",
       "      <td>113.736264</td>\n",
       "      <td>-5.615811</td>\n",
       "      <td>0.015656</td>\n",
       "      <td>14.515656</td>\n",
       "      <td>37.734847</td>\n",
       "      <td>21.517336</td>\n",
       "      <td>...</td>\n",
       "      <td>0.384968</td>\n",
       "      <td>4.490268</td>\n",
       "      <td>7.173732</td>\n",
       "      <td>98.911843</td>\n",
       "      <td>1.711056</td>\n",
       "      <td>1.410234</td>\n",
       "      <td>16.448970</td>\n",
       "      <td>12.274656</td>\n",
       "      <td>3.832683</td>\n",
       "      <td>0.341631</td>\n",
       "    </tr>\n",
       "    <tr>\n",
       "      <th>7</th>\n",
       "      <td>15</td>\n",
       "      <td>2</td>\n",
       "      <td>8</td>\n",
       "      <td>227</td>\n",
       "      <td>144.395604</td>\n",
       "      <td>-4.094882</td>\n",
       "      <td>0.041005</td>\n",
       "      <td>14.541005</td>\n",
       "      <td>38.115080</td>\n",
       "      <td>13.783564</td>\n",
       "      <td>...</td>\n",
       "      <td>0.367588</td>\n",
       "      <td>5.543221</td>\n",
       "      <td>9.536779</td>\n",
       "      <td>95.531450</td>\n",
       "      <td>1.401007</td>\n",
       "      <td>1.229059</td>\n",
       "      <td>18.534210</td>\n",
       "      <td>13.361092</td>\n",
       "      <td>4.731435</td>\n",
       "      <td>0.441683</td>\n",
       "    </tr>\n",
       "    <tr>\n",
       "      <th>8</th>\n",
       "      <td>15</td>\n",
       "      <td>3</td>\n",
       "      <td>9</td>\n",
       "      <td>258</td>\n",
       "      <td>175.054945</td>\n",
       "      <td>5.677410</td>\n",
       "      <td>0.203877</td>\n",
       "      <td>14.703877</td>\n",
       "      <td>40.558152</td>\n",
       "      <td>2.216887</td>\n",
       "      <td>...</td>\n",
       "      <td>0.451463</td>\n",
       "      <td>6.826123</td>\n",
       "      <td>8.293877</td>\n",
       "      <td>90.871539</td>\n",
       "      <td>1.067805</td>\n",
       "      <td>1.000368</td>\n",
       "      <td>15.125562</td>\n",
       "      <td>8.856247</td>\n",
       "      <td>5.826460</td>\n",
       "      <td>0.442855</td>\n",
       "    </tr>\n",
       "    <tr>\n",
       "      <th>9</th>\n",
       "      <td>15</td>\n",
       "      <td>3</td>\n",
       "      <td>10</td>\n",
       "      <td>288</td>\n",
       "      <td>204.725275</td>\n",
       "      <td>14.966751</td>\n",
       "      <td>0.358699</td>\n",
       "      <td>14.858699</td>\n",
       "      <td>42.880488</td>\n",
       "      <td>-9.599397</td>\n",
       "      <td>...</td>\n",
       "      <td>0.476679</td>\n",
       "      <td>8.168366</td>\n",
       "      <td>8.967634</td>\n",
       "      <td>86.189657</td>\n",
       "      <td>0.814970</td>\n",
       "      <td>0.862651</td>\n",
       "      <td>14.782391</td>\n",
       "      <td>7.308353</td>\n",
       "      <td>6.972137</td>\n",
       "      <td>0.501902</td>\n",
       "    </tr>\n",
       "    <tr>\n",
       "      <th>10</th>\n",
       "      <td>15</td>\n",
       "      <td>4</td>\n",
       "      <td>11</td>\n",
       "      <td>319</td>\n",
       "      <td>235.384615</td>\n",
       "      <td>14.740614</td>\n",
       "      <td>0.354930</td>\n",
       "      <td>14.854930</td>\n",
       "      <td>42.823953</td>\n",
       "      <td>-19.147817</td>\n",
       "      <td>...</td>\n",
       "      <td>0.495445</td>\n",
       "      <td>9.167709</td>\n",
       "      <td>9.336291</td>\n",
       "      <td>82.158694</td>\n",
       "      <td>0.646161</td>\n",
       "      <td>0.778202</td>\n",
       "      <td>14.399848</td>\n",
       "      <td>6.032749</td>\n",
       "      <td>7.825130</td>\n",
       "      <td>0.541970</td>\n",
       "    </tr>\n",
       "    <tr>\n",
       "      <th>11</th>\n",
       "      <td>15</td>\n",
       "      <td>4</td>\n",
       "      <td>12</td>\n",
       "      <td>349</td>\n",
       "      <td>265.054945</td>\n",
       "      <td>3.838767</td>\n",
       "      <td>0.173233</td>\n",
       "      <td>14.673233</td>\n",
       "      <td>40.098492</td>\n",
       "      <td>-23.335220</td>\n",
       "      <td>...</td>\n",
       "      <td>0.475156</td>\n",
       "      <td>9.733087</td>\n",
       "      <td>10.750913</td>\n",
       "      <td>80.240867</td>\n",
       "      <td>0.578477</td>\n",
       "      <td>0.738470</td>\n",
       "      <td>15.126825</td>\n",
       "      <td>6.219153</td>\n",
       "      <td>8.307709</td>\n",
       "      <td>0.599962</td>\n",
       "    </tr>\n",
       "  </tbody>\n",
       "</table>\n",
       "<p>12 rows × 27 columns</p>\n",
       "</div>"
      ],
      "text/plain": [
       "    Dia  Cor  Mês    n           B          E   Corhora         HS      Omega  \\\n",
       "0    15    0    1   15  -65.274725  -9.286743 -0.045526  14.454474  36.817114   \n",
       "1    15    1    2   46  -34.615385 -14.573582 -0.133640  14.366360  35.495405   \n",
       "2    15   -1    3   74   -6.923077  -9.656338 -0.051686  14.448314  36.724715   \n",
       "3    15    0    4  105   23.736264  -0.223084  0.105535  14.605535  39.083029   \n",
       "4    15    0    5  135   53.406593   3.754880  0.171835  14.671835  40.077520   \n",
       "5    15    1    6  166   84.065934  -0.240580  0.105244  14.605244  39.078655   \n",
       "6    15    1    7  196  113.736264  -5.615811  0.015656  14.515656  37.734847   \n",
       "7    15    2    8  227  144.395604  -4.094882  0.041005  14.541005  38.115080   \n",
       "8    15    3    9  258  175.054945   5.677410  0.203877  14.703877  40.558152   \n",
       "9    15    3   10  288  204.725275  14.966751  0.358699  14.858699  42.880488   \n",
       "10   15    4   11  319  235.384615  14.740614  0.354930  14.854930  42.823953   \n",
       "11   15    4   12  349  265.054945   3.838767  0.173233  14.673233  40.098492   \n",
       "\n",
       "        sigma  ...      Hd/H        Hd         Hb   omega_s*        Rb  \\\n",
       "0  -21.269474  ...  0.501132  9.417272   9.374728  81.201851  0.611476   \n",
       "1  -13.289156  ...  0.446415  8.806876  10.921124  84.675003  0.746919   \n",
       "2   -2.818879  ...  0.447020  7.563581   9.356419  88.891429  0.952299   \n",
       "3    9.414893  ...  0.409361  6.101122   8.802878  93.735652  1.261221   \n",
       "4   18.791918  ...  0.395092  4.864378   7.447622  97.683495  1.590602   \n",
       "5   23.314410  ...  0.375049  4.280057   7.131943  99.749294  1.798835   \n",
       "6   21.517336  ...  0.384968  4.490268   7.173732  98.911843  1.711056   \n",
       "7   13.783564  ...  0.367588  5.543221   9.536779  95.531450  1.401007   \n",
       "8    2.216887  ...  0.451463  6.826123   8.293877  90.871539  1.067805   \n",
       "9   -9.599397  ...  0.476679  8.168366   8.967634  86.189657  0.814970   \n",
       "10 -19.147817  ...  0.495445  9.167709   9.336291  82.158694  0.646161   \n",
       "11 -23.335220  ...  0.475156  9.733087  10.750913  80.240867  0.578477   \n",
       "\n",
       "           R         HT        HTb       HTd       HTr  \n",
       "0   0.762078  14.320973   5.732423  8.038145  0.550405  \n",
       "1   0.823812  16.252156   8.157197  7.517139  0.577820  \n",
       "2   0.937447  15.861603   8.910108  6.455920  0.495575  \n",
       "3   1.123627  16.746536  11.102374  5.207633  0.436528  \n",
       "4   1.328689  16.358820  11.846204  4.152007  0.360610  \n",
       "5   1.473597  16.816693  12.829186  3.653257  0.334250  \n",
       "6   1.410234  16.448970  12.274656  3.832683  0.341631  \n",
       "7   1.229059  18.534210  13.361092  4.731435  0.441683  \n",
       "8   1.000368  15.125562   8.856247  5.826460  0.442855  \n",
       "9   0.862651  14.782391   7.308353  6.972137  0.501902  \n",
       "10  0.778202  14.399848   6.032749  7.825130  0.541970  \n",
       "11  0.738470  15.126825   6.219153  8.307709  0.599962  \n",
       "\n",
       "[12 rows x 27 columns]"
      ]
     },
     "execution_count": 31,
     "metadata": {},
     "output_type": "execute_result"
    }
   ],
   "source": [
    "df['HTr']=rho*(((1-np.cos(np.radians(Beta_incli)))/2))*df['H']\n",
    "df\n"
   ]
  },
  {
   "cell_type": "code",
   "execution_count": 32,
   "id": "ae8a9512",
   "metadata": {},
   "outputs": [
    {
     "data": {
      "text/plain": [
       "Text(0, 0.5, 'Irradiação Solar ')"
      ]
     },
     "execution_count": 32,
     "metadata": {},
     "output_type": "execute_result"
    },
    {
     "data": {
      "image/png": "[encoded data removed]",
      "text/plain": [
       "<Figure size 432x288 with 1 Axes>"
      ]
     },
     "metadata": {
      "needs_background": "light"
     },
     "output_type": "display_data"
    }
   ],
   "source": [
    "df[[\"HTd\", \"HTb\", \"HTr\"]].plot(kind=\"bar\", stacked=True)\n",
    "plt.title(\"Índice de  irradiação solar PLANO INCLINADO 45°\")\n",
    "plt.xlabel(\"Meses\")\n",
    "plt.ylabel(\"Irradiação Solar \")"
   ]
  },
  {
   "cell_type": "code",
   "execution_count": 33,
   "id": "ee65d187",
   "metadata": {},
   "outputs": [
    {
     "data": {
      "text/html": [
       "<div>\n",
       "<style scoped>\n",
       "    .dataframe tbody tr th:only-of-type {\n",
       "        vertical-align: middle;\n",
       "    }\n",
       "\n",
       "    .dataframe tbody tr th {\n",
       "        vertical-align: top;\n",
       "    }\n",
       "\n",
       "    .dataframe thead th {\n",
       "        text-align: right;\n",
       "    }\n",
       "</style>\n",
       "<table border=\"1\" class=\"dataframe\">\n",
       "  <thead>\n",
       "    <tr style=\"text-align: right;\">\n",
       "      <th></th>\n",
       "      <th>Mês</th>\n",
       "      <th>Omega_s*</th>\n",
       "      <th>Rb*</th>\n",
       "      <th>R</th>\n",
       "      <th>HT</th>\n",
       "      <th>HTd</th>\n",
       "      <th>HTb</th>\n",
       "      <th>HTr</th>\n",
       "    </tr>\n",
       "  </thead>\n",
       "  <tbody>\n",
       "    <tr>\n",
       "      <th>0</th>\n",
       "      <td>1</td>\n",
       "      <td>81.201851</td>\n",
       "      <td>0.611476</td>\n",
       "      <td>0.762078</td>\n",
       "      <td>14.320973</td>\n",
       "      <td>8.038145</td>\n",
       "      <td>5.732423</td>\n",
       "      <td>0.550405</td>\n",
       "    </tr>\n",
       "    <tr>\n",
       "      <th>1</th>\n",
       "      <td>2</td>\n",
       "      <td>84.675003</td>\n",
       "      <td>0.746919</td>\n",
       "      <td>0.823812</td>\n",
       "      <td>16.252156</td>\n",
       "      <td>7.517139</td>\n",
       "      <td>8.157197</td>\n",
       "      <td>0.577820</td>\n",
       "    </tr>\n",
       "    <tr>\n",
       "      <th>2</th>\n",
       "      <td>3</td>\n",
       "      <td>88.891429</td>\n",
       "      <td>0.952299</td>\n",
       "      <td>0.937447</td>\n",
       "      <td>15.861603</td>\n",
       "      <td>6.455920</td>\n",
       "      <td>8.910108</td>\n",
       "      <td>0.495575</td>\n",
       "    </tr>\n",
       "    <tr>\n",
       "      <th>3</th>\n",
       "      <td>4</td>\n",
       "      <td>93.735652</td>\n",
       "      <td>1.261221</td>\n",
       "      <td>1.123627</td>\n",
       "      <td>16.746536</td>\n",
       "      <td>5.207633</td>\n",
       "      <td>11.102374</td>\n",
       "      <td>0.436528</td>\n",
       "    </tr>\n",
       "    <tr>\n",
       "      <th>4</th>\n",
       "      <td>5</td>\n",
       "      <td>97.683495</td>\n",
       "      <td>1.590602</td>\n",
       "      <td>1.328689</td>\n",
       "      <td>16.358820</td>\n",
       "      <td>4.152007</td>\n",
       "      <td>11.846204</td>\n",
       "      <td>0.360610</td>\n",
       "    </tr>\n",
       "    <tr>\n",
       "      <th>5</th>\n",
       "      <td>6</td>\n",
       "      <td>99.749294</td>\n",
       "      <td>1.798835</td>\n",
       "      <td>1.473597</td>\n",
       "      <td>16.816693</td>\n",
       "      <td>3.653257</td>\n",
       "      <td>12.829186</td>\n",
       "      <td>0.334250</td>\n",
       "    </tr>\n",
       "    <tr>\n",
       "      <th>6</th>\n",
       "      <td>7</td>\n",
       "      <td>98.911843</td>\n",
       "      <td>1.711056</td>\n",
       "      <td>1.410234</td>\n",
       "      <td>16.448970</td>\n",
       "      <td>3.832683</td>\n",
       "      <td>12.274656</td>\n",
       "      <td>0.341631</td>\n",
       "    </tr>\n",
       "    <tr>\n",
       "      <th>7</th>\n",
       "      <td>8</td>\n",
       "      <td>95.531450</td>\n",
       "      <td>1.401007</td>\n",
       "      <td>1.229059</td>\n",
       "      <td>18.534210</td>\n",
       "      <td>4.731435</td>\n",
       "      <td>13.361092</td>\n",
       "      <td>0.441683</td>\n",
       "    </tr>\n",
       "    <tr>\n",
       "      <th>8</th>\n",
       "      <td>9</td>\n",
       "      <td>90.871539</td>\n",
       "      <td>1.067805</td>\n",
       "      <td>1.000368</td>\n",
       "      <td>15.125562</td>\n",
       "      <td>5.826460</td>\n",
       "      <td>8.856247</td>\n",
       "      <td>0.442855</td>\n",
       "    </tr>\n",
       "    <tr>\n",
       "      <th>9</th>\n",
       "      <td>10</td>\n",
       "      <td>86.189657</td>\n",
       "      <td>0.814970</td>\n",
       "      <td>0.862651</td>\n",
       "      <td>14.782391</td>\n",
       "      <td>6.972137</td>\n",
       "      <td>7.308353</td>\n",
       "      <td>0.501902</td>\n",
       "    </tr>\n",
       "    <tr>\n",
       "      <th>10</th>\n",
       "      <td>11</td>\n",
       "      <td>82.158694</td>\n",
       "      <td>0.646161</td>\n",
       "      <td>0.778202</td>\n",
       "      <td>14.399848</td>\n",
       "      <td>7.825130</td>\n",
       "      <td>6.032749</td>\n",
       "      <td>0.541970</td>\n",
       "    </tr>\n",
       "    <tr>\n",
       "      <th>11</th>\n",
       "      <td>12</td>\n",
       "      <td>80.240867</td>\n",
       "      <td>0.578477</td>\n",
       "      <td>0.738470</td>\n",
       "      <td>15.126825</td>\n",
       "      <td>8.307709</td>\n",
       "      <td>6.219153</td>\n",
       "      <td>0.599962</td>\n",
       "    </tr>\n",
       "  </tbody>\n",
       "</table>\n",
       "</div>"
      ],
      "text/plain": [
       "    Mês   Omega_s*       Rb*         R         HT       HTd        HTb  \\\n",
       "0     1  81.201851  0.611476  0.762078  14.320973  8.038145   5.732423   \n",
       "1     2  84.675003  0.746919  0.823812  16.252156  7.517139   8.157197   \n",
       "2     3  88.891429  0.952299  0.937447  15.861603  6.455920   8.910108   \n",
       "3     4  93.735652  1.261221  1.123627  16.746536  5.207633  11.102374   \n",
       "4     5  97.683495  1.590602  1.328689  16.358820  4.152007  11.846204   \n",
       "5     6  99.749294  1.798835  1.473597  16.816693  3.653257  12.829186   \n",
       "6     7  98.911843  1.711056  1.410234  16.448970  3.832683  12.274656   \n",
       "7     8  95.531450  1.401007  1.229059  18.534210  4.731435  13.361092   \n",
       "8     9  90.871539  1.067805  1.000368  15.125562  5.826460   8.856247   \n",
       "9    10  86.189657  0.814970  0.862651  14.782391  6.972137   7.308353   \n",
       "10   11  82.158694  0.646161  0.778202  14.399848  7.825130   6.032749   \n",
       "11   12  80.240867  0.578477  0.738470  15.126825  8.307709   6.219153   \n",
       "\n",
       "         HTr  \n",
       "0   0.550405  \n",
       "1   0.577820  \n",
       "2   0.495575  \n",
       "3   0.436528  \n",
       "4   0.360610  \n",
       "5   0.334250  \n",
       "6   0.341631  \n",
       "7   0.441683  \n",
       "8   0.442855  \n",
       "9   0.501902  \n",
       "10  0.541970  \n",
       "11  0.599962  "
      ]
     },
     "execution_count": 33,
     "metadata": {},
     "output_type": "execute_result"
    }
   ],
   "source": [
    "df1=pd.DataFrame({\"Mês\":df['Mês'],\"Omega_s*\":df['omega_s*'],\"Rb*\":df['Rb'],\"R\":df['R'],\"HT\":df['HT'],\"HTd\":df['HTd'],\"HTb\":df['HTb'],\"HTr\":df['HTr']})\n",
    "df1"
   ]
  },
  {
   "cell_type": "code",
   "execution_count": null,
   "id": "85da199b",
   "metadata": {},
   "outputs": [],
   "source": []
  },
  {
   "cell_type": "code",
   "execution_count": null,
   "id": "18e0a36c",
   "metadata": {},
   "outputs": [],
   "source": []
  }
 ],
 "metadata": {
  "celltoolbar": "Raw Cell Format",
  "kernelspec": {
   "display_name": "Python 3",
   "language": "python",
   "name": "python3"
  },
  "language_info": {
   "codemirror_mode": {
    "name": "ipython",
    "version": 3
   },
   "file_extension": ".py",
   "mimetype": "text/x-python",
   "name": "python",
   "nbconvert_exporter": "python",
   "pygments_lexer": "ipython3",
   "version": "3.8.5"
  }
 },
 "nbformat": 4,
 "nbformat_minor": 5
}
