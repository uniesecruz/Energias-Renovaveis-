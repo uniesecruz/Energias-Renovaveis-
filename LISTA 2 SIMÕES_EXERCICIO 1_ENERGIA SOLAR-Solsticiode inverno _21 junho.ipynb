{
 "cells": [
  {
   "cell_type": "code",
   "execution_count": 7,
   "id": "a57fc5b7",
   "metadata": {},
   "outputs": [],
   "source": [
    "import handcalcs.render\n",
    "import math as mt\n",
    "import numpy as np\n",
    "import pandas as pd\n",
    "import matplotlib.pyplot as plt\n",
    "import statistics as st"
   ]
  },
  {
   "cell_type": "markdown",
   "id": "946bba41",
   "metadata": {},
   "source": [
    "Correção"
   ]
  },
  {
   "cell_type": "markdown",
   "id": "f18de732",
   "metadata": {},
   "source": [
    "Equinócio de outono - 21/mar"
   ]
  },
  {
   "cell_type": "code",
   "execution_count": 8,
   "id": "b68570e9",
   "metadata": {},
   "outputs": [],
   "source": [
    "Mes=6     #Junho\n",
    "Dia=21     #dia da semana\n",
    "Cor=1    #corre\n",
    "L_O=-45       #Longitude Hora Legal\n",
    "L =-46.6388  #Longitude \n",
    "L_a= -23.5489  #Latitude"
   ]
  },
  {
   "cell_type": "markdown",
   "id": "b5b0b37f",
   "metadata": {},
   "source": [
    "numero de dias do ano "
   ]
  },
  {
   "cell_type": "code",
   "execution_count": 23,
   "id": "0e254879",
   "metadata": {},
   "outputs": [
    {
     "data": {
      "text/plain": [
       "172"
      ]
     },
     "execution_count": 23,
     "metadata": {},
     "output_type": "execute_result"
    }
   ],
   "source": [
    "n= Dia + (Mes -1)*30 +Cor\n",
    "n"
   ]
  },
  {
   "cell_type": "markdown",
   "id": "f59428da",
   "metadata": {},
   "source": [
    "HORA SOLAR "
   ]
  },
  {
   "cell_type": "code",
   "execution_count": 10,
   "id": "90b2e6d0",
   "metadata": {},
   "outputs": [
    {
     "data": {
      "text/plain": [
       "90.0"
      ]
     },
     "execution_count": 10,
     "metadata": {},
     "output_type": "execute_result"
    }
   ],
   "source": [
    "B= (360/364)*(n-81)\n",
    "B"
   ]
  },
  {
   "cell_type": "code",
   "execution_count": 24,
   "id": "d6628060",
   "metadata": {},
   "outputs": [
    {
     "data": {
      "text/plain": [
       "-1.4999999999999993"
      ]
     },
     "execution_count": 24,
     "metadata": {},
     "output_type": "execute_result"
    }
   ],
   "source": [
    "E= 9.87*np.sin(np.radians(2*B))-7.53*np.cos(np.radians(B))-1.5*np.sin(np.radians(B))\n",
    "\n",
    "E"
   ]
  },
  {
   "cell_type": "code",
   "execution_count": 12,
   "id": "b75a29de",
   "metadata": {
    "scrolled": true
   },
   "outputs": [],
   "source": [
    "\n",
    "Corhora= (4*(L_O-L)+E)/60\n"
   ]
  },
  {
   "cell_type": "code",
   "execution_count": 13,
   "id": "d2d85aa8",
   "metadata": {},
   "outputs": [],
   "source": [
    "df=pd.read_csv(\"Hora Legal.csv\" , encoding ='UTF-8' , sep=\";\")\n",
    "\n"
   ]
  },
  {
   "cell_type": "code",
   "execution_count": 14,
   "id": "d7e46a26",
   "metadata": {},
   "outputs": [],
   "source": [
    "\n",
    "df['HS']= df['HL']+Corhora\n"
   ]
  },
  {
   "cell_type": "markdown",
   "id": "6006cc2e",
   "metadata": {},
   "source": [
    "ANGULO HORARIO "
   ]
  },
  {
   "cell_type": "code",
   "execution_count": 15,
   "id": "0f1657d2",
   "metadata": {},
   "outputs": [],
   "source": [
    "\n",
    "df['Omega']= (df['HS']-12)*15\n"
   ]
  },
  {
   "cell_type": "markdown",
   "id": "d96d5456",
   "metadata": {},
   "source": [
    "DECLINAÇÃO SOLAR "
   ]
  },
  {
   "cell_type": "code",
   "execution_count": 25,
   "id": "a1227f11",
   "metadata": {},
   "outputs": [
    {
     "data": {
      "text/plain": [
       "23.449782846813658"
      ]
     },
     "execution_count": 25,
     "metadata": {},
     "output_type": "execute_result"
    }
   ],
   "source": [
    "\n",
    "sigma= 23.45*np.sin(np.radians(360/365*(284+n)))\n",
    "sigma"
   ]
  },
  {
   "cell_type": "markdown",
   "id": "785ad19c",
   "metadata": {},
   "source": [
    "ANGULO ZENITAL"
   ]
  },
  {
   "cell_type": "code",
   "execution_count": 26,
   "id": "1bd98717",
   "metadata": {},
   "outputs": [],
   "source": [
    "\n",
    "df['teta_z']= np.degrees(np.arccos(np.sin(np.radians(sigma))*np.sin(np.radians(L_a))+np.cos(np.radians(sigma))*np.cos(np.radians(L_a))*np.cos(np.radians(df['Omega']))))\n",
    "\n"
   ]
  },
  {
   "cell_type": "code",
   "execution_count": 27,
   "id": "87014e57",
   "metadata": {},
   "outputs": [
    {
     "data": {
      "text/html": [
       "<div>\n",
       "<style scoped>\n",
       "    .dataframe tbody tr th:only-of-type {\n",
       "        vertical-align: middle;\n",
       "    }\n",
       "\n",
       "    .dataframe tbody tr th {\n",
       "        vertical-align: top;\n",
       "    }\n",
       "\n",
       "    .dataframe thead th {\n",
       "        text-align: right;\n",
       "    }\n",
       "</style>\n",
       "<table border=\"1\" class=\"dataframe\">\n",
       "  <thead>\n",
       "    <tr style=\"text-align: right;\">\n",
       "      <th></th>\n",
       "      <th>HL</th>\n",
       "      <th>HS</th>\n",
       "      <th>Omega</th>\n",
       "      <th>teta_z</th>\n",
       "      <th>Sombra</th>\n",
       "    </tr>\n",
       "  </thead>\n",
       "  <tbody>\n",
       "    <tr>\n",
       "      <th>0</th>\n",
       "      <td>5.00</td>\n",
       "      <td>5.084253</td>\n",
       "      <td>-103.7362</td>\n",
       "      <td>111.019789</td>\n",
       "      <td>-2.602402</td>\n",
       "    </tr>\n",
       "    <tr>\n",
       "      <th>1</th>\n",
       "      <td>5.50</td>\n",
       "      <td>5.584253</td>\n",
       "      <td>-96.2362</td>\n",
       "      <td>104.498111</td>\n",
       "      <td>-3.867239</td>\n",
       "    </tr>\n",
       "    <tr>\n",
       "      <th>2</th>\n",
       "      <td>5.99</td>\n",
       "      <td>6.074253</td>\n",
       "      <td>-88.8862</td>\n",
       "      <td>98.200870</td>\n",
       "      <td>-6.938773</td>\n",
       "    </tr>\n",
       "    <tr>\n",
       "      <th>3</th>\n",
       "      <td>6.50</td>\n",
       "      <td>6.584253</td>\n",
       "      <td>-81.2362</td>\n",
       "      <td>91.768122</td>\n",
       "      <td>-32.394587</td>\n",
       "    </tr>\n",
       "    <tr>\n",
       "      <th>4</th>\n",
       "      <td>7.00</td>\n",
       "      <td>7.084253</td>\n",
       "      <td>-73.7362</td>\n",
       "      <td>85.610235</td>\n",
       "      <td>13.026582</td>\n",
       "    </tr>\n",
       "    <tr>\n",
       "      <th>5</th>\n",
       "      <td>7.50</td>\n",
       "      <td>7.584253</td>\n",
       "      <td>-66.2362</td>\n",
       "      <td>79.635689</td>\n",
       "      <td>5.467751</td>\n",
       "    </tr>\n",
       "    <tr>\n",
       "      <th>6</th>\n",
       "      <td>8.00</td>\n",
       "      <td>8.084253</td>\n",
       "      <td>-58.7362</td>\n",
       "      <td>73.890536</td>\n",
       "      <td>3.462435</td>\n",
       "    </tr>\n",
       "    <tr>\n",
       "      <th>7</th>\n",
       "      <td>8.50</td>\n",
       "      <td>8.584253</td>\n",
       "      <td>-51.2362</td>\n",
       "      <td>68.434033</td>\n",
       "      <td>2.530101</td>\n",
       "    </tr>\n",
       "    <tr>\n",
       "      <th>8</th>\n",
       "      <td>9.00</td>\n",
       "      <td>9.084253</td>\n",
       "      <td>-43.7362</td>\n",
       "      <td>63.342165</td>\n",
       "      <td>1.991929</td>\n",
       "    </tr>\n",
       "    <tr>\n",
       "      <th>9</th>\n",
       "      <td>9.50</td>\n",
       "      <td>9.584253</td>\n",
       "      <td>-36.2362</td>\n",
       "      <td>58.711103</td>\n",
       "      <td>1.645429</td>\n",
       "    </tr>\n",
       "    <tr>\n",
       "      <th>10</th>\n",
       "      <td>10.00</td>\n",
       "      <td>10.084253</td>\n",
       "      <td>-28.7362</td>\n",
       "      <td>54.659179</td>\n",
       "      <td>1.410219</td>\n",
       "    </tr>\n",
       "    <tr>\n",
       "      <th>11</th>\n",
       "      <td>10.50</td>\n",
       "      <td>10.584253</td>\n",
       "      <td>-21.2362</td>\n",
       "      <td>51.324659</td>\n",
       "      <td>1.249306</td>\n",
       "    </tr>\n",
       "    <tr>\n",
       "      <th>12</th>\n",
       "      <td>11.00</td>\n",
       "      <td>11.084253</td>\n",
       "      <td>-13.7362</td>\n",
       "      <td>48.855389</td>\n",
       "      <td>1.144521</td>\n",
       "    </tr>\n",
       "    <tr>\n",
       "      <th>13</th>\n",
       "      <td>11.50</td>\n",
       "      <td>11.584253</td>\n",
       "      <td>-6.2362</td>\n",
       "      <td>47.387345</td>\n",
       "      <td>1.087010</td>\n",
       "    </tr>\n",
       "    <tr>\n",
       "      <th>14</th>\n",
       "      <td>12.00</td>\n",
       "      <td>12.084253</td>\n",
       "      <td>1.2638</td>\n",
       "      <td>47.014708</td>\n",
       "      <td>1.072921</td>\n",
       "    </tr>\n",
       "    <tr>\n",
       "      <th>15</th>\n",
       "      <td>12.50</td>\n",
       "      <td>12.584253</td>\n",
       "      <td>8.7638</td>\n",
       "      <td>47.763198</td>\n",
       "      <td>1.101424</td>\n",
       "    </tr>\n",
       "    <tr>\n",
       "      <th>16</th>\n",
       "      <td>13.00</td>\n",
       "      <td>13.084253</td>\n",
       "      <td>16.2638</td>\n",
       "      <td>49.581924</td>\n",
       "      <td>1.174245</td>\n",
       "    </tr>\n",
       "    <tr>\n",
       "      <th>17</th>\n",
       "      <td>13.50</td>\n",
       "      <td>13.584253</td>\n",
       "      <td>23.7638</td>\n",
       "      <td>52.359146</td>\n",
       "      <td>1.296613</td>\n",
       "    </tr>\n",
       "    <tr>\n",
       "      <th>18</th>\n",
       "      <td>14.00</td>\n",
       "      <td>14.084253</td>\n",
       "      <td>31.2638</td>\n",
       "      <td>55.951812</td>\n",
       "      <td>1.479875</td>\n",
       "    </tr>\n",
       "    <tr>\n",
       "      <th>19</th>\n",
       "      <td>14.50</td>\n",
       "      <td>14.584253</td>\n",
       "      <td>38.7638</td>\n",
       "      <td>60.213485</td>\n",
       "      <td>1.747052</td>\n",
       "    </tr>\n",
       "    <tr>\n",
       "      <th>20</th>\n",
       "      <td>15.00</td>\n",
       "      <td>15.084253</td>\n",
       "      <td>46.2638</td>\n",
       "      <td>65.011951</td>\n",
       "      <td>2.145675</td>\n",
       "    </tr>\n",
       "    <tr>\n",
       "      <th>21</th>\n",
       "      <td>15.50</td>\n",
       "      <td>15.584253</td>\n",
       "      <td>53.7638</td>\n",
       "      <td>70.236381</td>\n",
       "      <td>2.783150</td>\n",
       "    </tr>\n",
       "    <tr>\n",
       "      <th>22</th>\n",
       "      <td>16.00</td>\n",
       "      <td>16.084253</td>\n",
       "      <td>61.2638</td>\n",
       "      <td>75.797743</td>\n",
       "      <td>3.951307</td>\n",
       "    </tr>\n",
       "    <tr>\n",
       "      <th>23</th>\n",
       "      <td>16.50</td>\n",
       "      <td>16.584253</td>\n",
       "      <td>68.7638</td>\n",
       "      <td>81.626098</td>\n",
       "      <td>6.793397</td>\n",
       "    </tr>\n",
       "    <tr>\n",
       "      <th>24</th>\n",
       "      <td>17.00</td>\n",
       "      <td>17.084253</td>\n",
       "      <td>76.2638</td>\n",
       "      <td>87.667014</td>\n",
       "      <td>24.545417</td>\n",
       "    </tr>\n",
       "    <tr>\n",
       "      <th>25</th>\n",
       "      <td>17.50</td>\n",
       "      <td>17.584253</td>\n",
       "      <td>83.7638</td>\n",
       "      <td>93.878174</td>\n",
       "      <td>-14.751336</td>\n",
       "    </tr>\n",
       "    <tr>\n",
       "      <th>26</th>\n",
       "      <td>18.00</td>\n",
       "      <td>18.084253</td>\n",
       "      <td>91.2638</td>\n",
       "      <td>100.226542</td>\n",
       "      <td>-5.543032</td>\n",
       "    </tr>\n",
       "    <tr>\n",
       "      <th>27</th>\n",
       "      <td>18.50</td>\n",
       "      <td>18.584253</td>\n",
       "      <td>98.7638</td>\n",
       "      <td>106.686132</td>\n",
       "      <td>-3.336107</td>\n",
       "    </tr>\n",
       "  </tbody>\n",
       "</table>\n",
       "</div>"
      ],
      "text/plain": [
       "       HL         HS     Omega      teta_z     Sombra\n",
       "0    5.00   5.084253 -103.7362  111.019789  -2.602402\n",
       "1    5.50   5.584253  -96.2362  104.498111  -3.867239\n",
       "2    5.99   6.074253  -88.8862   98.200870  -6.938773\n",
       "3    6.50   6.584253  -81.2362   91.768122 -32.394587\n",
       "4    7.00   7.084253  -73.7362   85.610235  13.026582\n",
       "5    7.50   7.584253  -66.2362   79.635689   5.467751\n",
       "6    8.00   8.084253  -58.7362   73.890536   3.462435\n",
       "7    8.50   8.584253  -51.2362   68.434033   2.530101\n",
       "8    9.00   9.084253  -43.7362   63.342165   1.991929\n",
       "9    9.50   9.584253  -36.2362   58.711103   1.645429\n",
       "10  10.00  10.084253  -28.7362   54.659179   1.410219\n",
       "11  10.50  10.584253  -21.2362   51.324659   1.249306\n",
       "12  11.00  11.084253  -13.7362   48.855389   1.144521\n",
       "13  11.50  11.584253   -6.2362   47.387345   1.087010\n",
       "14  12.00  12.084253    1.2638   47.014708   1.072921\n",
       "15  12.50  12.584253    8.7638   47.763198   1.101424\n",
       "16  13.00  13.084253   16.2638   49.581924   1.174245\n",
       "17  13.50  13.584253   23.7638   52.359146   1.296613\n",
       "18  14.00  14.084253   31.2638   55.951812   1.479875\n",
       "19  14.50  14.584253   38.7638   60.213485   1.747052\n",
       "20  15.00  15.084253   46.2638   65.011951   2.145675\n",
       "21  15.50  15.584253   53.7638   70.236381   2.783150\n",
       "22  16.00  16.084253   61.2638   75.797743   3.951307\n",
       "23  16.50  16.584253   68.7638   81.626098   6.793397\n",
       "24  17.00  17.084253   76.2638   87.667014  24.545417\n",
       "25  17.50  17.584253   83.7638   93.878174 -14.751336\n",
       "26  18.00  18.084253   91.2638  100.226542  -5.543032\n",
       "27  18.50  18.584253   98.7638  106.686132  -3.336107"
      ]
     },
     "execution_count": 27,
     "metadata": {},
     "output_type": "execute_result"
    }
   ],
   "source": [
    "df['Sombra']=np.tan(np.radians(df['teta_z']))\n",
    "df\n"
   ]
  },
  {
   "cell_type": "code",
   "execution_count": 28,
   "id": "d461b3d8",
   "metadata": {},
   "outputs": [
    {
     "data": {
      "text/html": [
       "<div>\n",
       "<style scoped>\n",
       "    .dataframe tbody tr th:only-of-type {\n",
       "        vertical-align: middle;\n",
       "    }\n",
       "\n",
       "    .dataframe tbody tr th {\n",
       "        vertical-align: top;\n",
       "    }\n",
       "\n",
       "    .dataframe thead th {\n",
       "        text-align: right;\n",
       "    }\n",
       "</style>\n",
       "<table border=\"1\" class=\"dataframe\">\n",
       "  <thead>\n",
       "    <tr style=\"text-align: right;\">\n",
       "      <th></th>\n",
       "      <th>HL</th>\n",
       "      <th>HS</th>\n",
       "      <th>Omega</th>\n",
       "      <th>teta_z</th>\n",
       "      <th>Sombra</th>\n",
       "    </tr>\n",
       "  </thead>\n",
       "  <tbody>\n",
       "    <tr>\n",
       "      <th>4</th>\n",
       "      <td>7.0</td>\n",
       "      <td>7.084253</td>\n",
       "      <td>-73.7362</td>\n",
       "      <td>85.610235</td>\n",
       "      <td>13.026582</td>\n",
       "    </tr>\n",
       "    <tr>\n",
       "      <th>5</th>\n",
       "      <td>7.5</td>\n",
       "      <td>7.584253</td>\n",
       "      <td>-66.2362</td>\n",
       "      <td>79.635689</td>\n",
       "      <td>5.467751</td>\n",
       "    </tr>\n",
       "    <tr>\n",
       "      <th>6</th>\n",
       "      <td>8.0</td>\n",
       "      <td>8.084253</td>\n",
       "      <td>-58.7362</td>\n",
       "      <td>73.890536</td>\n",
       "      <td>3.462435</td>\n",
       "    </tr>\n",
       "    <tr>\n",
       "      <th>7</th>\n",
       "      <td>8.5</td>\n",
       "      <td>8.584253</td>\n",
       "      <td>-51.2362</td>\n",
       "      <td>68.434033</td>\n",
       "      <td>2.530101</td>\n",
       "    </tr>\n",
       "    <tr>\n",
       "      <th>8</th>\n",
       "      <td>9.0</td>\n",
       "      <td>9.084253</td>\n",
       "      <td>-43.7362</td>\n",
       "      <td>63.342165</td>\n",
       "      <td>1.991929</td>\n",
       "    </tr>\n",
       "    <tr>\n",
       "      <th>9</th>\n",
       "      <td>9.5</td>\n",
       "      <td>9.584253</td>\n",
       "      <td>-36.2362</td>\n",
       "      <td>58.711103</td>\n",
       "      <td>1.645429</td>\n",
       "    </tr>\n",
       "    <tr>\n",
       "      <th>10</th>\n",
       "      <td>10.0</td>\n",
       "      <td>10.084253</td>\n",
       "      <td>-28.7362</td>\n",
       "      <td>54.659179</td>\n",
       "      <td>1.410219</td>\n",
       "    </tr>\n",
       "    <tr>\n",
       "      <th>11</th>\n",
       "      <td>10.5</td>\n",
       "      <td>10.584253</td>\n",
       "      <td>-21.2362</td>\n",
       "      <td>51.324659</td>\n",
       "      <td>1.249306</td>\n",
       "    </tr>\n",
       "    <tr>\n",
       "      <th>12</th>\n",
       "      <td>11.0</td>\n",
       "      <td>11.084253</td>\n",
       "      <td>-13.7362</td>\n",
       "      <td>48.855389</td>\n",
       "      <td>1.144521</td>\n",
       "    </tr>\n",
       "    <tr>\n",
       "      <th>13</th>\n",
       "      <td>11.5</td>\n",
       "      <td>11.584253</td>\n",
       "      <td>-6.2362</td>\n",
       "      <td>47.387345</td>\n",
       "      <td>1.087010</td>\n",
       "    </tr>\n",
       "    <tr>\n",
       "      <th>14</th>\n",
       "      <td>12.0</td>\n",
       "      <td>12.084253</td>\n",
       "      <td>1.2638</td>\n",
       "      <td>47.014708</td>\n",
       "      <td>1.072921</td>\n",
       "    </tr>\n",
       "    <tr>\n",
       "      <th>15</th>\n",
       "      <td>12.5</td>\n",
       "      <td>12.584253</td>\n",
       "      <td>8.7638</td>\n",
       "      <td>47.763198</td>\n",
       "      <td>1.101424</td>\n",
       "    </tr>\n",
       "    <tr>\n",
       "      <th>16</th>\n",
       "      <td>13.0</td>\n",
       "      <td>13.084253</td>\n",
       "      <td>16.2638</td>\n",
       "      <td>49.581924</td>\n",
       "      <td>1.174245</td>\n",
       "    </tr>\n",
       "    <tr>\n",
       "      <th>17</th>\n",
       "      <td>13.5</td>\n",
       "      <td>13.584253</td>\n",
       "      <td>23.7638</td>\n",
       "      <td>52.359146</td>\n",
       "      <td>1.296613</td>\n",
       "    </tr>\n",
       "    <tr>\n",
       "      <th>18</th>\n",
       "      <td>14.0</td>\n",
       "      <td>14.084253</td>\n",
       "      <td>31.2638</td>\n",
       "      <td>55.951812</td>\n",
       "      <td>1.479875</td>\n",
       "    </tr>\n",
       "    <tr>\n",
       "      <th>19</th>\n",
       "      <td>14.5</td>\n",
       "      <td>14.584253</td>\n",
       "      <td>38.7638</td>\n",
       "      <td>60.213485</td>\n",
       "      <td>1.747052</td>\n",
       "    </tr>\n",
       "    <tr>\n",
       "      <th>20</th>\n",
       "      <td>15.0</td>\n",
       "      <td>15.084253</td>\n",
       "      <td>46.2638</td>\n",
       "      <td>65.011951</td>\n",
       "      <td>2.145675</td>\n",
       "    </tr>\n",
       "    <tr>\n",
       "      <th>21</th>\n",
       "      <td>15.5</td>\n",
       "      <td>15.584253</td>\n",
       "      <td>53.7638</td>\n",
       "      <td>70.236381</td>\n",
       "      <td>2.783150</td>\n",
       "    </tr>\n",
       "    <tr>\n",
       "      <th>22</th>\n",
       "      <td>16.0</td>\n",
       "      <td>16.084253</td>\n",
       "      <td>61.2638</td>\n",
       "      <td>75.797743</td>\n",
       "      <td>3.951307</td>\n",
       "    </tr>\n",
       "    <tr>\n",
       "      <th>23</th>\n",
       "      <td>16.5</td>\n",
       "      <td>16.584253</td>\n",
       "      <td>68.7638</td>\n",
       "      <td>81.626098</td>\n",
       "      <td>6.793397</td>\n",
       "    </tr>\n",
       "    <tr>\n",
       "      <th>24</th>\n",
       "      <td>17.0</td>\n",
       "      <td>17.084253</td>\n",
       "      <td>76.2638</td>\n",
       "      <td>87.667014</td>\n",
       "      <td>24.545417</td>\n",
       "    </tr>\n",
       "  </tbody>\n",
       "</table>\n",
       "</div>"
      ],
      "text/plain": [
       "      HL         HS    Omega     teta_z     Sombra\n",
       "4    7.0   7.084253 -73.7362  85.610235  13.026582\n",
       "5    7.5   7.584253 -66.2362  79.635689   5.467751\n",
       "6    8.0   8.084253 -58.7362  73.890536   3.462435\n",
       "7    8.5   8.584253 -51.2362  68.434033   2.530101\n",
       "8    9.0   9.084253 -43.7362  63.342165   1.991929\n",
       "9    9.5   9.584253 -36.2362  58.711103   1.645429\n",
       "10  10.0  10.084253 -28.7362  54.659179   1.410219\n",
       "11  10.5  10.584253 -21.2362  51.324659   1.249306\n",
       "12  11.0  11.084253 -13.7362  48.855389   1.144521\n",
       "13  11.5  11.584253  -6.2362  47.387345   1.087010\n",
       "14  12.0  12.084253   1.2638  47.014708   1.072921\n",
       "15  12.5  12.584253   8.7638  47.763198   1.101424\n",
       "16  13.0  13.084253  16.2638  49.581924   1.174245\n",
       "17  13.5  13.584253  23.7638  52.359146   1.296613\n",
       "18  14.0  14.084253  31.2638  55.951812   1.479875\n",
       "19  14.5  14.584253  38.7638  60.213485   1.747052\n",
       "20  15.0  15.084253  46.2638  65.011951   2.145675\n",
       "21  15.5  15.584253  53.7638  70.236381   2.783150\n",
       "22  16.0  16.084253  61.2638  75.797743   3.951307\n",
       "23  16.5  16.584253  68.7638  81.626098   6.793397\n",
       "24  17.0  17.084253  76.2638  87.667014  24.545417"
      ]
     },
     "execution_count": 28,
     "metadata": {},
     "output_type": "execute_result"
    }
   ],
   "source": [
    "sombra=df.loc[4:24]\n",
    "sombra\n"
   ]
  },
  {
   "cell_type": "code",
   "execution_count": 29,
   "id": "8f98e471",
   "metadata": {},
   "outputs": [
    {
     "data": {
      "text/plain": [
       "<AxesSubplot:xlabel='HL'>"
      ]
     },
     "execution_count": 29,
     "metadata": {},
     "output_type": "execute_result"
    },
    {
     "data": {
      "image/png": "[encoded data removed]",
      "text/plain": [
       "<Figure size 432x288 with 1 Axes>"
      ]
     },
     "metadata": {
      "needs_background": "light"
     },
     "output_type": "display_data"
    }
   ],
   "source": [
    "sombra.plot.bar(y='Sombra',x='HL')"
   ]
  },
  {
   "cell_type": "code",
   "execution_count": null,
   "id": "fad0b3b1",
   "metadata": {},
   "outputs": [],
   "source": []
  },
  {
   "cell_type": "code",
   "execution_count": null,
   "id": "b87bf906",
   "metadata": {},
   "outputs": [],
   "source": []
  },
  {
   "cell_type": "code",
   "execution_count": null,
   "id": "6cd08d40",
   "metadata": {},
   "outputs": [],
   "source": []
  },
  {
   "cell_type": "code",
   "execution_count": null,
   "id": "05b32759",
   "metadata": {},
   "outputs": [],
   "source": []
  },
  {
   "cell_type": "code",
   "execution_count": null,
   "id": "682be461",
   "metadata": {},
   "outputs": [],
   "source": []
  },
  {
   "cell_type": "code",
   "execution_count": null,
   "id": "0daecefb",
   "metadata": {},
   "outputs": [],
   "source": []
  },
  {
   "cell_type": "code",
   "execution_count": null,
   "id": "bcb15685",
   "metadata": {},
   "outputs": [],
   "source": []
  },
  {
   "cell_type": "code",
   "execution_count": null,
   "id": "e0228a9c",
   "metadata": {},
   "outputs": [],
   "source": []
  },
  {
   "cell_type": "code",
   "execution_count": null,
   "id": "6eee0e1e",
   "metadata": {},
   "outputs": [],
   "source": []
  },
  {
   "cell_type": "code",
   "execution_count": null,
   "id": "0abd4236",
   "metadata": {},
   "outputs": [],
   "source": []
  },
  {
   "cell_type": "code",
   "execution_count": null,
   "id": "13fc164f",
   "metadata": {},
   "outputs": [],
   "source": []
  },
  {
   "cell_type": "code",
   "execution_count": null,
   "id": "d0083948",
   "metadata": {},
   "outputs": [],
   "source": []
  },
  {
   "cell_type": "code",
   "execution_count": null,
   "id": "282a9447",
   "metadata": {},
   "outputs": [],
   "source": []
  },
  {
   "cell_type": "code",
   "execution_count": null,
   "id": "f334554e",
   "metadata": {},
   "outputs": [],
   "source": []
  },
  {
   "cell_type": "code",
   "execution_count": null,
   "id": "c19fc1b2",
   "metadata": {},
   "outputs": [],
   "source": []
  },
  {
   "cell_type": "code",
   "execution_count": null,
   "id": "93663a34",
   "metadata": {},
   "outputs": [],
   "source": []
  },
  {
   "cell_type": "code",
   "execution_count": null,
   "id": "cfed288d",
   "metadata": {},
   "outputs": [],
   "source": []
  },
  {
   "cell_type": "code",
   "execution_count": null,
   "id": "e0690fed",
   "metadata": {},
   "outputs": [],
   "source": []
  },
  {
   "cell_type": "code",
   "execution_count": null,
   "id": "e0f43df4",
   "metadata": {},
   "outputs": [],
   "source": []
  },
  {
   "cell_type": "code",
   "execution_count": null,
   "id": "8b87a7ad",
   "metadata": {},
   "outputs": [],
   "source": []
  },
  {
   "cell_type": "code",
   "execution_count": null,
   "id": "e4345883",
   "metadata": {},
   "outputs": [],
   "source": []
  },
  {
   "cell_type": "markdown",
   "id": "f51fdae3",
   "metadata": {},
   "source": [
    "ANGULO DO AZIMUTE SOLAR"
   ]
  },
  {
   "cell_type": "code",
   "execution_count": null,
   "id": "913bf768",
   "metadata": {},
   "outputs": [],
   "source": []
  },
  {
   "cell_type": "code",
   "execution_count": null,
   "id": "e94cc88c",
   "metadata": {},
   "outputs": [],
   "source": []
  },
  {
   "cell_type": "code",
   "execution_count": null,
   "id": "8294909d",
   "metadata": {},
   "outputs": [],
   "source": []
  },
  {
   "cell_type": "code",
   "execution_count": null,
   "id": "ba1e0f4e",
   "metadata": {},
   "outputs": [],
   "source": []
  },
  {
   "cell_type": "code",
   "execution_count": null,
   "id": "d8ebd1f0",
   "metadata": {},
   "outputs": [],
   "source": []
  },
  {
   "cell_type": "code",
   "execution_count": null,
   "id": "429e261b",
   "metadata": {},
   "outputs": [],
   "source": []
  },
  {
   "cell_type": "code",
   "execution_count": null,
   "id": "8e2bc673",
   "metadata": {},
   "outputs": [],
   "source": []
  },
  {
   "cell_type": "code",
   "execution_count": null,
   "id": "8e9795d3",
   "metadata": {},
   "outputs": [],
   "source": []
  },
  {
   "cell_type": "code",
   "execution_count": null,
   "id": "d1457f62",
   "metadata": {},
   "outputs": [],
   "source": []
  },
  {
   "cell_type": "code",
   "execution_count": null,
   "id": "155efcd7",
   "metadata": {},
   "outputs": [],
   "source": []
  },
  {
   "cell_type": "code",
   "execution_count": null,
   "id": "8a4231dd",
   "metadata": {},
   "outputs": [],
   "source": []
  },
  {
   "cell_type": "code",
   "execution_count": null,
   "id": "75613b31",
   "metadata": {},
   "outputs": [],
   "source": []
  },
  {
   "cell_type": "code",
   "execution_count": null,
   "id": "7c17ed16",
   "metadata": {},
   "outputs": [],
   "source": []
  },
  {
   "cell_type": "code",
   "execution_count": null,
   "id": "70c12e96",
   "metadata": {},
   "outputs": [],
   "source": []
  },
  {
   "cell_type": "code",
   "execution_count": null,
   "id": "c6a6ec3d",
   "metadata": {},
   "outputs": [],
   "source": []
  },
  {
   "cell_type": "code",
   "execution_count": null,
   "id": "ff1a4ce1",
   "metadata": {},
   "outputs": [],
   "source": []
  },
  {
   "cell_type": "code",
   "execution_count": null,
   "id": "5ee62711",
   "metadata": {},
   "outputs": [],
   "source": []
  },
  {
   "cell_type": "code",
   "execution_count": null,
   "id": "9fd24123",
   "metadata": {},
   "outputs": [],
   "source": []
  },
  {
   "cell_type": "code",
   "execution_count": null,
   "id": "9618b2fa",
   "metadata": {},
   "outputs": [],
   "source": []
  },
  {
   "cell_type": "code",
   "execution_count": null,
   "id": "a22e5dda",
   "metadata": {},
   "outputs": [],
   "source": []
  },
  {
   "cell_type": "code",
   "execution_count": null,
   "id": "6dd50648",
   "metadata": {},
   "outputs": [],
   "source": []
  },
  {
   "cell_type": "code",
   "execution_count": null,
   "id": "c147e114",
   "metadata": {},
   "outputs": [],
   "source": []
  },
  {
   "cell_type": "code",
   "execution_count": null,
   "id": "87747546",
   "metadata": {},
   "outputs": [],
   "source": []
  },
  {
   "cell_type": "code",
   "execution_count": null,
   "id": "117b074b",
   "metadata": {},
   "outputs": [],
   "source": []
  },
  {
   "cell_type": "code",
   "execution_count": null,
   "id": "b9a96ba8",
   "metadata": {},
   "outputs": [],
   "source": []
  },
  {
   "cell_type": "code",
   "execution_count": null,
   "id": "e770a13a",
   "metadata": {},
   "outputs": [],
   "source": []
  },
  {
   "cell_type": "code",
   "execution_count": null,
   "id": "d5fc6a53",
   "metadata": {},
   "outputs": [],
   "source": []
  },
  {
   "cell_type": "code",
   "execution_count": null,
   "id": "8f7de731",
   "metadata": {},
   "outputs": [],
   "source": []
  },
  {
   "cell_type": "code",
   "execution_count": null,
   "id": "97818b69",
   "metadata": {},
   "outputs": [],
   "source": []
  },
  {
   "cell_type": "code",
   "execution_count": null,
   "id": "1a5b3bb5",
   "metadata": {},
   "outputs": [],
   "source": []
  },
  {
   "cell_type": "code",
   "execution_count": null,
   "id": "e4d4ddd5",
   "metadata": {},
   "outputs": [],
   "source": []
  },
  {
   "cell_type": "code",
   "execution_count": null,
   "id": "55fd3dc8",
   "metadata": {},
   "outputs": [],
   "source": []
  },
  {
   "cell_type": "code",
   "execution_count": null,
   "id": "3407b204",
   "metadata": {},
   "outputs": [],
   "source": []
  },
  {
   "cell_type": "code",
   "execution_count": null,
   "id": "90ba0545",
   "metadata": {},
   "outputs": [],
   "source": []
  },
  {
   "cell_type": "markdown",
   "id": "30a8ec9c",
   "metadata": {},
   "source": [
    "df['Gama_s']= np.degrees(np.arccos(np.radians(((np.cos(np.radians(df['teta_z'])))* (np.sin(np.radians(df['Omega'])))-(np.sin(np.radians(df['sigma']))))/((np.sin(np.radians(df['teta_z'])))*np.cos(np.radians(df['teta_z']))))))\n"
   ]
  },
  {
   "cell_type": "markdown",
   "id": "d783eb59",
   "metadata": {},
   "source": [
    "ANGULO DE INCIDÊNCIA "
   ]
  },
  {
   "cell_type": "markdown",
   "id": "2494a0f2",
   "metadata": {},
   "source": [
    "df['teta']=(np.sin(np.radians(df['sigma'])))*(np.sin(np.radians(L_a)))\n"
   ]
  },
  {
   "cell_type": "code",
   "execution_count": null,
   "id": "9d09c6f6",
   "metadata": {},
   "outputs": [],
   "source": []
  },
  {
   "cell_type": "code",
   "execution_count": null,
   "id": "2776f7d5",
   "metadata": {},
   "outputs": [],
   "source": []
  },
  {
   "cell_type": "code",
   "execution_count": null,
   "id": "31e3a130",
   "metadata": {},
   "outputs": [],
   "source": []
  },
  {
   "cell_type": "code",
   "execution_count": null,
   "id": "d5f038a0",
   "metadata": {},
   "outputs": [],
   "source": []
  }
 ],
 "metadata": {
  "kernelspec": {
   "display_name": "Python 3",
   "language": "python",
   "name": "python3"
  },
  "language_info": {
   "codemirror_mode": {
    "name": "ipython",
    "version": 3
   },
   "file_extension": ".py",
   "mimetype": "text/x-python",
   "name": "python",
   "nbconvert_exporter": "python",
   "pygments_lexer": "ipython3",
   "version": "3.8.5"
  }
 },
 "nbformat": 4,
 "nbformat_minor": 5
}
