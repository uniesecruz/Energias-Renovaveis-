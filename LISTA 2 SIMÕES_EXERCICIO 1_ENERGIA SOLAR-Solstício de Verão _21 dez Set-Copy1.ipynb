{
 "cells": [
  {
   "cell_type": "code",
   "execution_count": 17,
   "id": "a57fc5b7",
   "metadata": {},
   "outputs": [],
   "source": [
    "import handcalcs.render\n",
    "import math as mt\n",
    "import numpy as np\n",
    "import pandas as pd\n",
    "import matplotlib.pyplot as plt\n",
    "import statistics as st"
   ]
  },
  {
   "cell_type": "markdown",
   "id": "946bba41",
   "metadata": {},
   "source": [
    "Correção"
   ]
  },
  {
   "cell_type": "markdown",
   "id": "f18de732",
   "metadata": {},
   "source": [
    "Equinócio de Primavera - 21/Dezembro"
   ]
  },
  {
   "cell_type": "code",
   "execution_count": 18,
   "id": "b68570e9",
   "metadata": {},
   "outputs": [],
   "source": [
    "Mes=12     #Dezembro\n",
    "Dia=21     #dia da semana\n",
    "Cor=4    #corre\n",
    "L_O=-45       #Longitude Hora Legal\n",
    "L =-46.6388  #Longitude \n",
    "L_a= -23.5489  #Latitude"
   ]
  },
  {
   "cell_type": "markdown",
   "id": "b5b0b37f",
   "metadata": {},
   "source": [
    "numero de dias do ano "
   ]
  },
  {
   "cell_type": "code",
   "execution_count": 19,
   "id": "0e254879",
   "metadata": {},
   "outputs": [
    {
     "data": {
      "text/plain": [
       "355"
      ]
     },
     "execution_count": 19,
     "metadata": {},
     "output_type": "execute_result"
    }
   ],
   "source": [
    "n= Dia + (Mes -1)*30 +Cor\n",
    "n"
   ]
  },
  {
   "cell_type": "markdown",
   "id": "f59428da",
   "metadata": {},
   "source": [
    "HORA SOLAR "
   ]
  },
  {
   "cell_type": "code",
   "execution_count": 20,
   "id": "90b2e6d0",
   "metadata": {},
   "outputs": [
    {
     "data": {
      "text/plain": [
       "270.989010989011"
      ]
     },
     "execution_count": 20,
     "metadata": {},
     "output_type": "execute_result"
    }
   ],
   "source": [
    "B= (360/364)*(n-81)\n",
    "B"
   ]
  },
  {
   "cell_type": "code",
   "execution_count": 21,
   "id": "d6628060",
   "metadata": {},
   "outputs": [
    {
     "data": {
      "text/plain": [
       "1.0291296184126901"
      ]
     },
     "execution_count": 21,
     "metadata": {},
     "output_type": "execute_result"
    }
   ],
   "source": [
    "E= 9.87*np.sin(np.radians(2*B))-7.53*np.cos(np.radians(B))-1.5*np.sin(np.radians(B))\n",
    "\n",
    "E"
   ]
  },
  {
   "cell_type": "code",
   "execution_count": 22,
   "id": "b75a29de",
   "metadata": {
    "scrolled": true
   },
   "outputs": [],
   "source": [
    "\n",
    "Corhora= (4*(L_O-L)+E)/60\n"
   ]
  },
  {
   "cell_type": "code",
   "execution_count": 23,
   "id": "d2d85aa8",
   "metadata": {},
   "outputs": [],
   "source": [
    "df=pd.read_csv(\"Hora Legal.csv\" , encoding ='UTF-8' , sep=\";\")\n",
    "\n"
   ]
  },
  {
   "cell_type": "code",
   "execution_count": 24,
   "id": "d7e46a26",
   "metadata": {},
   "outputs": [],
   "source": [
    "\n",
    "df['HS']= df['HL']+Corhora\n"
   ]
  },
  {
   "cell_type": "markdown",
   "id": "6006cc2e",
   "metadata": {},
   "source": [
    "ANGULO HORARIO "
   ]
  },
  {
   "cell_type": "code",
   "execution_count": 25,
   "id": "0f1657d2",
   "metadata": {},
   "outputs": [],
   "source": [
    "\n",
    "df['Omega']= (df['HS']-12)*15\n"
   ]
  },
  {
   "cell_type": "markdown",
   "id": "d96d5456",
   "metadata": {},
   "source": [
    "DECLINAÇÃO SOLAR "
   ]
  },
  {
   "cell_type": "code",
   "execution_count": 26,
   "id": "a1227f11",
   "metadata": {},
   "outputs": [
    {
     "data": {
      "text/plain": [
       "-23.449782846813658"
      ]
     },
     "execution_count": 26,
     "metadata": {},
     "output_type": "execute_result"
    }
   ],
   "source": [
    "\n",
    "sigma= 23.45*np.sin(np.radians(360/365*(284+n)))\n",
    "sigma"
   ]
  },
  {
   "cell_type": "markdown",
   "id": "785ad19c",
   "metadata": {},
   "source": [
    "ANGULO ZENITAL"
   ]
  },
  {
   "cell_type": "code",
   "execution_count": 27,
   "id": "1bd98717",
   "metadata": {},
   "outputs": [],
   "source": [
    "\n",
    "df['teta_z']= np.degrees(np.arccos(np.sin(np.radians(sigma))*np.sin(np.radians(L_a))+np.cos(np.radians(sigma))*np.cos(np.radians(L_a))*np.cos(np.radians(df['Omega']))))\n",
    "\n"
   ]
  },
  {
   "cell_type": "code",
   "execution_count": 28,
   "id": "87014e57",
   "metadata": {},
   "outputs": [
    {
     "data": {
      "text/html": [
       "<div>\n",
       "<style scoped>\n",
       "    .dataframe tbody tr th:only-of-type {\n",
       "        vertical-align: middle;\n",
       "    }\n",
       "\n",
       "    .dataframe tbody tr th {\n",
       "        vertical-align: top;\n",
       "    }\n",
       "\n",
       "    .dataframe thead th {\n",
       "        text-align: right;\n",
       "    }\n",
       "</style>\n",
       "<table border=\"1\" class=\"dataframe\">\n",
       "  <thead>\n",
       "    <tr style=\"text-align: right;\">\n",
       "      <th></th>\n",
       "      <th>HL</th>\n",
       "      <th>HS</th>\n",
       "      <th>Omega</th>\n",
       "      <th>teta_z</th>\n",
       "      <th>Sombra</th>\n",
       "    </tr>\n",
       "  </thead>\n",
       "  <tbody>\n",
       "    <tr>\n",
       "      <th>0</th>\n",
       "      <td>5.00</td>\n",
       "      <td>5.126405</td>\n",
       "      <td>-103.103918</td>\n",
       "      <td>91.815413</td>\n",
       "      <td>-31.550171</td>\n",
       "    </tr>\n",
       "    <tr>\n",
       "      <th>1</th>\n",
       "      <td>5.50</td>\n",
       "      <td>5.626405</td>\n",
       "      <td>-95.603918</td>\n",
       "      <td>85.591523</td>\n",
       "      <td>12.971070</td>\n",
       "    </tr>\n",
       "    <tr>\n",
       "      <th>2</th>\n",
       "      <td>5.99</td>\n",
       "      <td>6.116405</td>\n",
       "      <td>-88.253918</td>\n",
       "      <td>79.361180</td>\n",
       "      <td>5.323502</td>\n",
       "    </tr>\n",
       "    <tr>\n",
       "      <th>3</th>\n",
       "      <td>6.50</td>\n",
       "      <td>6.626405</td>\n",
       "      <td>-80.603918</td>\n",
       "      <td>72.764901</td>\n",
       "      <td>3.223486</td>\n",
       "    </tr>\n",
       "    <tr>\n",
       "      <th>4</th>\n",
       "      <td>7.00</td>\n",
       "      <td>7.126405</td>\n",
       "      <td>-73.103918</td>\n",
       "      <td>66.207897</td>\n",
       "      <td>2.268150</td>\n",
       "    </tr>\n",
       "    <tr>\n",
       "      <th>5</th>\n",
       "      <td>7.50</td>\n",
       "      <td>7.626405</td>\n",
       "      <td>-65.603918</td>\n",
       "      <td>59.578130</td>\n",
       "      <td>1.702969</td>\n",
       "    </tr>\n",
       "    <tr>\n",
       "      <th>6</th>\n",
       "      <td>8.00</td>\n",
       "      <td>8.126405</td>\n",
       "      <td>-58.103918</td>\n",
       "      <td>52.888857</td>\n",
       "      <td>1.321703</td>\n",
       "    </tr>\n",
       "    <tr>\n",
       "      <th>7</th>\n",
       "      <td>8.50</td>\n",
       "      <td>8.626405</td>\n",
       "      <td>-50.603918</td>\n",
       "      <td>46.151020</td>\n",
       "      <td>1.041007</td>\n",
       "    </tr>\n",
       "    <tr>\n",
       "      <th>8</th>\n",
       "      <td>9.00</td>\n",
       "      <td>9.126405</td>\n",
       "      <td>-43.103918</td>\n",
       "      <td>39.373791</td>\n",
       "      <td>0.820643</td>\n",
       "    </tr>\n",
       "    <tr>\n",
       "      <th>9</th>\n",
       "      <td>9.50</td>\n",
       "      <td>9.626405</td>\n",
       "      <td>-35.603918</td>\n",
       "      <td>32.564986</td>\n",
       "      <td>0.638666</td>\n",
       "    </tr>\n",
       "    <tr>\n",
       "      <th>10</th>\n",
       "      <td>10.00</td>\n",
       "      <td>10.126405</td>\n",
       "      <td>-28.103918</td>\n",
       "      <td>25.731390</td>\n",
       "      <td>0.481942</td>\n",
       "    </tr>\n",
       "    <tr>\n",
       "      <th>11</th>\n",
       "      <td>10.50</td>\n",
       "      <td>10.626405</td>\n",
       "      <td>-20.603918</td>\n",
       "      <td>18.879020</td>\n",
       "      <td>0.341967</td>\n",
       "    </tr>\n",
       "    <tr>\n",
       "      <th>12</th>\n",
       "      <td>11.00</td>\n",
       "      <td>11.126405</td>\n",
       "      <td>-13.103918</td>\n",
       "      <td>12.013364</td>\n",
       "      <td>0.212800</td>\n",
       "    </tr>\n",
       "    <tr>\n",
       "      <th>13</th>\n",
       "      <td>11.50</td>\n",
       "      <td>11.626405</td>\n",
       "      <td>-5.603918</td>\n",
       "      <td>5.139784</td>\n",
       "      <td>0.089948</td>\n",
       "    </tr>\n",
       "    <tr>\n",
       "      <th>14</th>\n",
       "      <td>12.00</td>\n",
       "      <td>12.126405</td>\n",
       "      <td>1.896082</td>\n",
       "      <td>1.741640</td>\n",
       "      <td>0.030407</td>\n",
       "    </tr>\n",
       "    <tr>\n",
       "      <th>15</th>\n",
       "      <td>12.50</td>\n",
       "      <td>12.626405</td>\n",
       "      <td>9.396082</td>\n",
       "      <td>8.615845</td>\n",
       "      <td>0.151519</td>\n",
       "    </tr>\n",
       "    <tr>\n",
       "      <th>16</th>\n",
       "      <td>13.00</td>\n",
       "      <td>13.126405</td>\n",
       "      <td>16.896082</td>\n",
       "      <td>15.486124</td>\n",
       "      <td>0.277064</td>\n",
       "    </tr>\n",
       "    <tr>\n",
       "      <th>17</th>\n",
       "      <td>13.50</td>\n",
       "      <td>13.626405</td>\n",
       "      <td>24.396082</td>\n",
       "      <td>22.345724</td>\n",
       "      <td>0.411062</td>\n",
       "    </tr>\n",
       "    <tr>\n",
       "      <th>18</th>\n",
       "      <td>14.00</td>\n",
       "      <td>14.126405</td>\n",
       "      <td>31.896082</td>\n",
       "      <td>29.189315</td>\n",
       "      <td>0.558636</td>\n",
       "    </tr>\n",
       "    <tr>\n",
       "      <th>19</th>\n",
       "      <td>14.50</td>\n",
       "      <td>14.626405</td>\n",
       "      <td>39.396082</td>\n",
       "      <td>36.011171</td>\n",
       "      <td>0.726840</td>\n",
       "    </tr>\n",
       "    <tr>\n",
       "      <th>20</th>\n",
       "      <td>15.00</td>\n",
       "      <td>15.126405</td>\n",
       "      <td>46.896082</td>\n",
       "      <td>42.804916</td>\n",
       "      <td>0.926170</td>\n",
       "    </tr>\n",
       "    <tr>\n",
       "      <th>21</th>\n",
       "      <td>15.50</td>\n",
       "      <td>15.626405</td>\n",
       "      <td>54.396082</td>\n",
       "      <td>49.563281</td>\n",
       "      <td>1.173471</td>\n",
       "    </tr>\n",
       "    <tr>\n",
       "      <th>22</th>\n",
       "      <td>16.00</td>\n",
       "      <td>16.126405</td>\n",
       "      <td>61.896082</td>\n",
       "      <td>56.277809</td>\n",
       "      <td>1.498179</td>\n",
       "    </tr>\n",
       "    <tr>\n",
       "      <th>23</th>\n",
       "      <td>16.50</td>\n",
       "      <td>16.626405</td>\n",
       "      <td>69.396082</td>\n",
       "      <td>62.938494</td>\n",
       "      <td>1.957413</td>\n",
       "    </tr>\n",
       "    <tr>\n",
       "      <th>24</th>\n",
       "      <td>17.00</td>\n",
       "      <td>17.126405</td>\n",
       "      <td>76.896082</td>\n",
       "      <td>69.533298</td>\n",
       "      <td>2.679367</td>\n",
       "    </tr>\n",
       "    <tr>\n",
       "      <th>25</th>\n",
       "      <td>17.50</td>\n",
       "      <td>17.626405</td>\n",
       "      <td>84.396082</td>\n",
       "      <td>76.047537</td>\n",
       "      <td>4.025004</td>\n",
       "    </tr>\n",
       "    <tr>\n",
       "      <th>26</th>\n",
       "      <td>18.00</td>\n",
       "      <td>18.126405</td>\n",
       "      <td>91.896082</td>\n",
       "      <td>82.463058</td>\n",
       "      <td>7.558094</td>\n",
       "    </tr>\n",
       "    <tr>\n",
       "      <th>27</th>\n",
       "      <td>18.50</td>\n",
       "      <td>18.626405</td>\n",
       "      <td>99.396082</td>\n",
       "      <td>88.757149</td>\n",
       "      <td>46.093038</td>\n",
       "    </tr>\n",
       "  </tbody>\n",
       "</table>\n",
       "</div>"
      ],
      "text/plain": [
       "       HL         HS       Omega     teta_z     Sombra\n",
       "0    5.00   5.126405 -103.103918  91.815413 -31.550171\n",
       "1    5.50   5.626405  -95.603918  85.591523  12.971070\n",
       "2    5.99   6.116405  -88.253918  79.361180   5.323502\n",
       "3    6.50   6.626405  -80.603918  72.764901   3.223486\n",
       "4    7.00   7.126405  -73.103918  66.207897   2.268150\n",
       "5    7.50   7.626405  -65.603918  59.578130   1.702969\n",
       "6    8.00   8.126405  -58.103918  52.888857   1.321703\n",
       "7    8.50   8.626405  -50.603918  46.151020   1.041007\n",
       "8    9.00   9.126405  -43.103918  39.373791   0.820643\n",
       "9    9.50   9.626405  -35.603918  32.564986   0.638666\n",
       "10  10.00  10.126405  -28.103918  25.731390   0.481942\n",
       "11  10.50  10.626405  -20.603918  18.879020   0.341967\n",
       "12  11.00  11.126405  -13.103918  12.013364   0.212800\n",
       "13  11.50  11.626405   -5.603918   5.139784   0.089948\n",
       "14  12.00  12.126405    1.896082   1.741640   0.030407\n",
       "15  12.50  12.626405    9.396082   8.615845   0.151519\n",
       "16  13.00  13.126405   16.896082  15.486124   0.277064\n",
       "17  13.50  13.626405   24.396082  22.345724   0.411062\n",
       "18  14.00  14.126405   31.896082  29.189315   0.558636\n",
       "19  14.50  14.626405   39.396082  36.011171   0.726840\n",
       "20  15.00  15.126405   46.896082  42.804916   0.926170\n",
       "21  15.50  15.626405   54.396082  49.563281   1.173471\n",
       "22  16.00  16.126405   61.896082  56.277809   1.498179\n",
       "23  16.50  16.626405   69.396082  62.938494   1.957413\n",
       "24  17.00  17.126405   76.896082  69.533298   2.679367\n",
       "25  17.50  17.626405   84.396082  76.047537   4.025004\n",
       "26  18.00  18.126405   91.896082  82.463058   7.558094\n",
       "27  18.50  18.626405   99.396082  88.757149  46.093038"
      ]
     },
     "execution_count": 28,
     "metadata": {},
     "output_type": "execute_result"
    }
   ],
   "source": [
    "df['Sombra']=np.tan(np.radians(df['teta_z']))\n",
    "df\n"
   ]
  },
  {
   "cell_type": "code",
   "execution_count": 29,
   "id": "d461b3d8",
   "metadata": {},
   "outputs": [
    {
     "data": {
      "text/html": [
       "<div>\n",
       "<style scoped>\n",
       "    .dataframe tbody tr th:only-of-type {\n",
       "        vertical-align: middle;\n",
       "    }\n",
       "\n",
       "    .dataframe tbody tr th {\n",
       "        vertical-align: top;\n",
       "    }\n",
       "\n",
       "    .dataframe thead th {\n",
       "        text-align: right;\n",
       "    }\n",
       "</style>\n",
       "<table border=\"1\" class=\"dataframe\">\n",
       "  <thead>\n",
       "    <tr style=\"text-align: right;\">\n",
       "      <th></th>\n",
       "      <th>HL</th>\n",
       "      <th>HS</th>\n",
       "      <th>Omega</th>\n",
       "      <th>teta_z</th>\n",
       "      <th>Sombra</th>\n",
       "    </tr>\n",
       "  </thead>\n",
       "  <tbody>\n",
       "    <tr>\n",
       "      <th>1</th>\n",
       "      <td>5.50</td>\n",
       "      <td>5.626405</td>\n",
       "      <td>-95.603918</td>\n",
       "      <td>85.591523</td>\n",
       "      <td>12.971070</td>\n",
       "    </tr>\n",
       "    <tr>\n",
       "      <th>2</th>\n",
       "      <td>5.99</td>\n",
       "      <td>6.116405</td>\n",
       "      <td>-88.253918</td>\n",
       "      <td>79.361180</td>\n",
       "      <td>5.323502</td>\n",
       "    </tr>\n",
       "    <tr>\n",
       "      <th>3</th>\n",
       "      <td>6.50</td>\n",
       "      <td>6.626405</td>\n",
       "      <td>-80.603918</td>\n",
       "      <td>72.764901</td>\n",
       "      <td>3.223486</td>\n",
       "    </tr>\n",
       "    <tr>\n",
       "      <th>4</th>\n",
       "      <td>7.00</td>\n",
       "      <td>7.126405</td>\n",
       "      <td>-73.103918</td>\n",
       "      <td>66.207897</td>\n",
       "      <td>2.268150</td>\n",
       "    </tr>\n",
       "    <tr>\n",
       "      <th>5</th>\n",
       "      <td>7.50</td>\n",
       "      <td>7.626405</td>\n",
       "      <td>-65.603918</td>\n",
       "      <td>59.578130</td>\n",
       "      <td>1.702969</td>\n",
       "    </tr>\n",
       "    <tr>\n",
       "      <th>6</th>\n",
       "      <td>8.00</td>\n",
       "      <td>8.126405</td>\n",
       "      <td>-58.103918</td>\n",
       "      <td>52.888857</td>\n",
       "      <td>1.321703</td>\n",
       "    </tr>\n",
       "    <tr>\n",
       "      <th>7</th>\n",
       "      <td>8.50</td>\n",
       "      <td>8.626405</td>\n",
       "      <td>-50.603918</td>\n",
       "      <td>46.151020</td>\n",
       "      <td>1.041007</td>\n",
       "    </tr>\n",
       "    <tr>\n",
       "      <th>8</th>\n",
       "      <td>9.00</td>\n",
       "      <td>9.126405</td>\n",
       "      <td>-43.103918</td>\n",
       "      <td>39.373791</td>\n",
       "      <td>0.820643</td>\n",
       "    </tr>\n",
       "    <tr>\n",
       "      <th>9</th>\n",
       "      <td>9.50</td>\n",
       "      <td>9.626405</td>\n",
       "      <td>-35.603918</td>\n",
       "      <td>32.564986</td>\n",
       "      <td>0.638666</td>\n",
       "    </tr>\n",
       "    <tr>\n",
       "      <th>10</th>\n",
       "      <td>10.00</td>\n",
       "      <td>10.126405</td>\n",
       "      <td>-28.103918</td>\n",
       "      <td>25.731390</td>\n",
       "      <td>0.481942</td>\n",
       "    </tr>\n",
       "    <tr>\n",
       "      <th>11</th>\n",
       "      <td>10.50</td>\n",
       "      <td>10.626405</td>\n",
       "      <td>-20.603918</td>\n",
       "      <td>18.879020</td>\n",
       "      <td>0.341967</td>\n",
       "    </tr>\n",
       "    <tr>\n",
       "      <th>12</th>\n",
       "      <td>11.00</td>\n",
       "      <td>11.126405</td>\n",
       "      <td>-13.103918</td>\n",
       "      <td>12.013364</td>\n",
       "      <td>0.212800</td>\n",
       "    </tr>\n",
       "    <tr>\n",
       "      <th>13</th>\n",
       "      <td>11.50</td>\n",
       "      <td>11.626405</td>\n",
       "      <td>-5.603918</td>\n",
       "      <td>5.139784</td>\n",
       "      <td>0.089948</td>\n",
       "    </tr>\n",
       "    <tr>\n",
       "      <th>14</th>\n",
       "      <td>12.00</td>\n",
       "      <td>12.126405</td>\n",
       "      <td>1.896082</td>\n",
       "      <td>1.741640</td>\n",
       "      <td>0.030407</td>\n",
       "    </tr>\n",
       "    <tr>\n",
       "      <th>15</th>\n",
       "      <td>12.50</td>\n",
       "      <td>12.626405</td>\n",
       "      <td>9.396082</td>\n",
       "      <td>8.615845</td>\n",
       "      <td>0.151519</td>\n",
       "    </tr>\n",
       "    <tr>\n",
       "      <th>16</th>\n",
       "      <td>13.00</td>\n",
       "      <td>13.126405</td>\n",
       "      <td>16.896082</td>\n",
       "      <td>15.486124</td>\n",
       "      <td>0.277064</td>\n",
       "    </tr>\n",
       "    <tr>\n",
       "      <th>17</th>\n",
       "      <td>13.50</td>\n",
       "      <td>13.626405</td>\n",
       "      <td>24.396082</td>\n",
       "      <td>22.345724</td>\n",
       "      <td>0.411062</td>\n",
       "    </tr>\n",
       "    <tr>\n",
       "      <th>18</th>\n",
       "      <td>14.00</td>\n",
       "      <td>14.126405</td>\n",
       "      <td>31.896082</td>\n",
       "      <td>29.189315</td>\n",
       "      <td>0.558636</td>\n",
       "    </tr>\n",
       "    <tr>\n",
       "      <th>19</th>\n",
       "      <td>14.50</td>\n",
       "      <td>14.626405</td>\n",
       "      <td>39.396082</td>\n",
       "      <td>36.011171</td>\n",
       "      <td>0.726840</td>\n",
       "    </tr>\n",
       "    <tr>\n",
       "      <th>20</th>\n",
       "      <td>15.00</td>\n",
       "      <td>15.126405</td>\n",
       "      <td>46.896082</td>\n",
       "      <td>42.804916</td>\n",
       "      <td>0.926170</td>\n",
       "    </tr>\n",
       "    <tr>\n",
       "      <th>21</th>\n",
       "      <td>15.50</td>\n",
       "      <td>15.626405</td>\n",
       "      <td>54.396082</td>\n",
       "      <td>49.563281</td>\n",
       "      <td>1.173471</td>\n",
       "    </tr>\n",
       "    <tr>\n",
       "      <th>22</th>\n",
       "      <td>16.00</td>\n",
       "      <td>16.126405</td>\n",
       "      <td>61.896082</td>\n",
       "      <td>56.277809</td>\n",
       "      <td>1.498179</td>\n",
       "    </tr>\n",
       "    <tr>\n",
       "      <th>23</th>\n",
       "      <td>16.50</td>\n",
       "      <td>16.626405</td>\n",
       "      <td>69.396082</td>\n",
       "      <td>62.938494</td>\n",
       "      <td>1.957413</td>\n",
       "    </tr>\n",
       "    <tr>\n",
       "      <th>24</th>\n",
       "      <td>17.00</td>\n",
       "      <td>17.126405</td>\n",
       "      <td>76.896082</td>\n",
       "      <td>69.533298</td>\n",
       "      <td>2.679367</td>\n",
       "    </tr>\n",
       "    <tr>\n",
       "      <th>25</th>\n",
       "      <td>17.50</td>\n",
       "      <td>17.626405</td>\n",
       "      <td>84.396082</td>\n",
       "      <td>76.047537</td>\n",
       "      <td>4.025004</td>\n",
       "    </tr>\n",
       "    <tr>\n",
       "      <th>26</th>\n",
       "      <td>18.00</td>\n",
       "      <td>18.126405</td>\n",
       "      <td>91.896082</td>\n",
       "      <td>82.463058</td>\n",
       "      <td>7.558094</td>\n",
       "    </tr>\n",
       "    <tr>\n",
       "      <th>27</th>\n",
       "      <td>18.50</td>\n",
       "      <td>18.626405</td>\n",
       "      <td>99.396082</td>\n",
       "      <td>88.757149</td>\n",
       "      <td>46.093038</td>\n",
       "    </tr>\n",
       "  </tbody>\n",
       "</table>\n",
       "</div>"
      ],
      "text/plain": [
       "       HL         HS      Omega     teta_z     Sombra\n",
       "1    5.50   5.626405 -95.603918  85.591523  12.971070\n",
       "2    5.99   6.116405 -88.253918  79.361180   5.323502\n",
       "3    6.50   6.626405 -80.603918  72.764901   3.223486\n",
       "4    7.00   7.126405 -73.103918  66.207897   2.268150\n",
       "5    7.50   7.626405 -65.603918  59.578130   1.702969\n",
       "6    8.00   8.126405 -58.103918  52.888857   1.321703\n",
       "7    8.50   8.626405 -50.603918  46.151020   1.041007\n",
       "8    9.00   9.126405 -43.103918  39.373791   0.820643\n",
       "9    9.50   9.626405 -35.603918  32.564986   0.638666\n",
       "10  10.00  10.126405 -28.103918  25.731390   0.481942\n",
       "11  10.50  10.626405 -20.603918  18.879020   0.341967\n",
       "12  11.00  11.126405 -13.103918  12.013364   0.212800\n",
       "13  11.50  11.626405  -5.603918   5.139784   0.089948\n",
       "14  12.00  12.126405   1.896082   1.741640   0.030407\n",
       "15  12.50  12.626405   9.396082   8.615845   0.151519\n",
       "16  13.00  13.126405  16.896082  15.486124   0.277064\n",
       "17  13.50  13.626405  24.396082  22.345724   0.411062\n",
       "18  14.00  14.126405  31.896082  29.189315   0.558636\n",
       "19  14.50  14.626405  39.396082  36.011171   0.726840\n",
       "20  15.00  15.126405  46.896082  42.804916   0.926170\n",
       "21  15.50  15.626405  54.396082  49.563281   1.173471\n",
       "22  16.00  16.126405  61.896082  56.277809   1.498179\n",
       "23  16.50  16.626405  69.396082  62.938494   1.957413\n",
       "24  17.00  17.126405  76.896082  69.533298   2.679367\n",
       "25  17.50  17.626405  84.396082  76.047537   4.025004\n",
       "26  18.00  18.126405  91.896082  82.463058   7.558094\n",
       "27  18.50  18.626405  99.396082  88.757149  46.093038"
      ]
     },
     "execution_count": 29,
     "metadata": {},
     "output_type": "execute_result"
    }
   ],
   "source": [
    "sombra=df.loc[1:27]\n",
    "sombra\n"
   ]
  },
  {
   "cell_type": "code",
   "execution_count": 30,
   "id": "8f98e471",
   "metadata": {},
   "outputs": [
    {
     "data": {
      "text/plain": [
       "<AxesSubplot:xlabel='HL'>"
      ]
     },
     "execution_count": 30,
     "metadata": {},
     "output_type": "execute_result"
    },
    {
     "data": {
      "image/png": "[encoded data removed]",
      "text/plain": [
       "<Figure size 432x288 with 1 Axes>"
      ]
     },
     "metadata": {
      "needs_background": "light"
     },
     "output_type": "display_data"
    }
   ],
   "source": [
    "sombra.plot.bar(y='Sombra',x='HL')"
   ]
  },
  {
   "cell_type": "code",
   "execution_count": null,
   "id": "fad0b3b1",
   "metadata": {},
   "outputs": [],
   "source": []
  },
  {
   "cell_type": "code",
   "execution_count": null,
   "id": "b87bf906",
   "metadata": {},
   "outputs": [],
   "source": []
  },
  {
   "cell_type": "code",
   "execution_count": null,
   "id": "6cd08d40",
   "metadata": {},
   "outputs": [],
   "source": []
  },
  {
   "cell_type": "code",
   "execution_count": null,
   "id": "05b32759",
   "metadata": {},
   "outputs": [],
   "source": []
  },
  {
   "cell_type": "code",
   "execution_count": null,
   "id": "682be461",
   "metadata": {},
   "outputs": [],
   "source": []
  },
  {
   "cell_type": "code",
   "execution_count": null,
   "id": "0daecefb",
   "metadata": {},
   "outputs": [],
   "source": []
  },
  {
   "cell_type": "code",
   "execution_count": null,
   "id": "bcb15685",
   "metadata": {},
   "outputs": [],
   "source": []
  },
  {
   "cell_type": "code",
   "execution_count": null,
   "id": "e0228a9c",
   "metadata": {},
   "outputs": [],
   "source": []
  },
  {
   "cell_type": "code",
   "execution_count": null,
   "id": "6eee0e1e",
   "metadata": {},
   "outputs": [],
   "source": []
  },
  {
   "cell_type": "code",
   "execution_count": null,
   "id": "0abd4236",
   "metadata": {},
   "outputs": [],
   "source": []
  },
  {
   "cell_type": "code",
   "execution_count": null,
   "id": "13fc164f",
   "metadata": {},
   "outputs": [],
   "source": []
  },
  {
   "cell_type": "code",
   "execution_count": null,
   "id": "d0083948",
   "metadata": {},
   "outputs": [],
   "source": []
  },
  {
   "cell_type": "code",
   "execution_count": null,
   "id": "282a9447",
   "metadata": {},
   "outputs": [],
   "source": []
  },
  {
   "cell_type": "code",
   "execution_count": null,
   "id": "f334554e",
   "metadata": {},
   "outputs": [],
   "source": []
  },
  {
   "cell_type": "code",
   "execution_count": null,
   "id": "c19fc1b2",
   "metadata": {},
   "outputs": [],
   "source": []
  },
  {
   "cell_type": "code",
   "execution_count": null,
   "id": "93663a34",
   "metadata": {},
   "outputs": [],
   "source": []
  },
  {
   "cell_type": "code",
   "execution_count": null,
   "id": "cfed288d",
   "metadata": {},
   "outputs": [],
   "source": []
  },
  {
   "cell_type": "code",
   "execution_count": null,
   "id": "e0690fed",
   "metadata": {},
   "outputs": [],
   "source": []
  },
  {
   "cell_type": "code",
   "execution_count": null,
   "id": "e0f43df4",
   "metadata": {},
   "outputs": [],
   "source": []
  },
  {
   "cell_type": "code",
   "execution_count": null,
   "id": "8b87a7ad",
   "metadata": {},
   "outputs": [],
   "source": []
  },
  {
   "cell_type": "code",
   "execution_count": null,
   "id": "e4345883",
   "metadata": {},
   "outputs": [],
   "source": []
  },
  {
   "cell_type": "markdown",
   "id": "f51fdae3",
   "metadata": {},
   "source": [
    "ANGULO DO AZIMUTE SOLAR"
   ]
  },
  {
   "cell_type": "code",
   "execution_count": null,
   "id": "913bf768",
   "metadata": {},
   "outputs": [],
   "source": []
  },
  {
   "cell_type": "code",
   "execution_count": null,
   "id": "e94cc88c",
   "metadata": {},
   "outputs": [],
   "source": []
  },
  {
   "cell_type": "code",
   "execution_count": null,
   "id": "8294909d",
   "metadata": {},
   "outputs": [],
   "source": []
  },
  {
   "cell_type": "code",
   "execution_count": null,
   "id": "ba1e0f4e",
   "metadata": {},
   "outputs": [],
   "source": []
  },
  {
   "cell_type": "code",
   "execution_count": null,
   "id": "d8ebd1f0",
   "metadata": {},
   "outputs": [],
   "source": []
  },
  {
   "cell_type": "code",
   "execution_count": null,
   "id": "429e261b",
   "metadata": {},
   "outputs": [],
   "source": []
  },
  {
   "cell_type": "code",
   "execution_count": null,
   "id": "8e2bc673",
   "metadata": {},
   "outputs": [],
   "source": []
  },
  {
   "cell_type": "code",
   "execution_count": null,
   "id": "8e9795d3",
   "metadata": {},
   "outputs": [],
   "source": []
  },
  {
   "cell_type": "code",
   "execution_count": null,
   "id": "d1457f62",
   "metadata": {},
   "outputs": [],
   "source": []
  },
  {
   "cell_type": "code",
   "execution_count": null,
   "id": "155efcd7",
   "metadata": {},
   "outputs": [],
   "source": []
  },
  {
   "cell_type": "code",
   "execution_count": null,
   "id": "8a4231dd",
   "metadata": {},
   "outputs": [],
   "source": []
  },
  {
   "cell_type": "code",
   "execution_count": null,
   "id": "75613b31",
   "metadata": {},
   "outputs": [],
   "source": []
  },
  {
   "cell_type": "code",
   "execution_count": null,
   "id": "7c17ed16",
   "metadata": {},
   "outputs": [],
   "source": []
  },
  {
   "cell_type": "code",
   "execution_count": null,
   "id": "70c12e96",
   "metadata": {},
   "outputs": [],
   "source": []
  },
  {
   "cell_type": "code",
   "execution_count": null,
   "id": "c6a6ec3d",
   "metadata": {},
   "outputs": [],
   "source": []
  },
  {
   "cell_type": "code",
   "execution_count": null,
   "id": "ff1a4ce1",
   "metadata": {},
   "outputs": [],
   "source": []
  },
  {
   "cell_type": "code",
   "execution_count": null,
   "id": "5ee62711",
   "metadata": {},
   "outputs": [],
   "source": []
  },
  {
   "cell_type": "code",
   "execution_count": null,
   "id": "9fd24123",
   "metadata": {},
   "outputs": [],
   "source": []
  },
  {
   "cell_type": "code",
   "execution_count": null,
   "id": "9618b2fa",
   "metadata": {},
   "outputs": [],
   "source": []
  },
  {
   "cell_type": "code",
   "execution_count": null,
   "id": "a22e5dda",
   "metadata": {},
   "outputs": [],
   "source": []
  },
  {
   "cell_type": "code",
   "execution_count": null,
   "id": "6dd50648",
   "metadata": {},
   "outputs": [],
   "source": []
  },
  {
   "cell_type": "code",
   "execution_count": null,
   "id": "c147e114",
   "metadata": {},
   "outputs": [],
   "source": []
  },
  {
   "cell_type": "code",
   "execution_count": null,
   "id": "87747546",
   "metadata": {},
   "outputs": [],
   "source": []
  },
  {
   "cell_type": "code",
   "execution_count": null,
   "id": "117b074b",
   "metadata": {},
   "outputs": [],
   "source": []
  },
  {
   "cell_type": "code",
   "execution_count": null,
   "id": "b9a96ba8",
   "metadata": {},
   "outputs": [],
   "source": []
  },
  {
   "cell_type": "code",
   "execution_count": null,
   "id": "e770a13a",
   "metadata": {},
   "outputs": [],
   "source": []
  },
  {
   "cell_type": "code",
   "execution_count": null,
   "id": "d5fc6a53",
   "metadata": {},
   "outputs": [],
   "source": []
  },
  {
   "cell_type": "code",
   "execution_count": null,
   "id": "8f7de731",
   "metadata": {},
   "outputs": [],
   "source": []
  },
  {
   "cell_type": "code",
   "execution_count": null,
   "id": "97818b69",
   "metadata": {},
   "outputs": [],
   "source": []
  },
  {
   "cell_type": "code",
   "execution_count": null,
   "id": "1a5b3bb5",
   "metadata": {},
   "outputs": [],
   "source": []
  },
  {
   "cell_type": "code",
   "execution_count": null,
   "id": "e4d4ddd5",
   "metadata": {},
   "outputs": [],
   "source": []
  },
  {
   "cell_type": "code",
   "execution_count": null,
   "id": "55fd3dc8",
   "metadata": {},
   "outputs": [],
   "source": []
  },
  {
   "cell_type": "code",
   "execution_count": null,
   "id": "3407b204",
   "metadata": {},
   "outputs": [],
   "source": []
  },
  {
   "cell_type": "code",
   "execution_count": null,
   "id": "90ba0545",
   "metadata": {},
   "outputs": [],
   "source": []
  },
  {
   "cell_type": "markdown",
   "id": "30a8ec9c",
   "metadata": {},
   "source": [
    "df['Gama_s']= np.degrees(np.arccos(np.radians(((np.cos(np.radians(df['teta_z'])))* (np.sin(np.radians(df['Omega'])))-(np.sin(np.radians(df['sigma']))))/((np.sin(np.radians(df['teta_z'])))*np.cos(np.radians(df['teta_z']))))))\n"
   ]
  },
  {
   "cell_type": "markdown",
   "id": "d783eb59",
   "metadata": {},
   "source": [
    "ANGULO DE INCIDÊNCIA "
   ]
  },
  {
   "cell_type": "markdown",
   "id": "2494a0f2",
   "metadata": {},
   "source": [
    "df['teta']=(np.sin(np.radians(df['sigma'])))*(np.sin(np.radians(L_a)))\n"
   ]
  },
  {
   "cell_type": "code",
   "execution_count": null,
   "id": "9d09c6f6",
   "metadata": {},
   "outputs": [],
   "source": []
  },
  {
   "cell_type": "code",
   "execution_count": null,
   "id": "2776f7d5",
   "metadata": {},
   "outputs": [],
   "source": []
  },
  {
   "cell_type": "code",
   "execution_count": null,
   "id": "31e3a130",
   "metadata": {},
   "outputs": [],
   "source": []
  },
  {
   "cell_type": "code",
   "execution_count": null,
   "id": "d5f038a0",
   "metadata": {},
   "outputs": [],
   "source": []
  }
 ],
 "metadata": {
  "kernelspec": {
   "display_name": "Python 3",
   "language": "python",
   "name": "python3"
  },
  "language_info": {
   "codemirror_mode": {
    "name": "ipython",
    "version": 3
   },
   "file_extension": ".py",
   "mimetype": "text/x-python",
   "name": "python",
   "nbconvert_exporter": "python",
   "pygments_lexer": "ipython3",
   "version": "3.8.5"
  }
 },
 "nbformat": 4,
 "nbformat_minor": 5
}
