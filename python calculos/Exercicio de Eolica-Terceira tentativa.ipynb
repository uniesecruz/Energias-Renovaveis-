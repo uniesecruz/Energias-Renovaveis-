{
 "cells": [
  {
   "cell_type": "code",
   "execution_count": 1,
   "metadata": {},
   "outputs": [],
   "source": [
    "import handcalcs.render\n",
    "import math as mt\n",
    "import numpy as np\n",
    "import pandas as pd\n",
    "import matplotlib.pyplot as plt\n",
    "import statistics as st"
   ]
  },
  {
   "cell_type": "code",
   "execution_count": 2,
   "metadata": {},
   "outputs": [],
   "source": [
    "H=110\n",
    "H_r=30"
   ]
  },
  {
   "cell_type": "code",
   "execution_count": 3,
   "metadata": {},
   "outputs": [],
   "source": [
    "df=pd.read_csv(\"dados do vento.csv\" , encoding ='UTF-8' , sep=\";\")\n"
   ]
  },
  {
   "cell_type": "markdown",
   "metadata": {},
   "source": [
    "QUANTIDADE TOTAL DE AMOSTRAS"
   ]
  },
  {
   "cell_type": "code",
   "execution_count": 4,
   "metadata": {},
   "outputs": [],
   "source": [
    "soma_amostras=(df['nº de amostras']).sum()\n"
   ]
  },
  {
   "cell_type": "markdown",
   "metadata": {},
   "source": [
    "MEDIA"
   ]
  },
  {
   "cell_type": "code",
   "execution_count": 6,
   "metadata": {},
   "outputs": [],
   "source": [
    "media_vel=st.mean(df['Velocidade no intervalo'])\n"
   ]
  },
  {
   "cell_type": "markdown",
   "metadata": {},
   "source": [
    "VELOCIDADE MEDIA DO VENTO\n"
   ]
  },
  {
   "cell_type": "code",
   "execution_count": 7,
   "metadata": {},
   "outputs": [],
   "source": [
    "vel_media=(((df['Velocidade no intervalo'])*(df['nº de amostras'])).sum())/soma_amostras\n"
   ]
  },
  {
   "cell_type": "markdown",
   "metadata": {},
   "source": [
    "DESVIO PADRÃO"
   ]
  },
  {
   "cell_type": "code",
   "execution_count": 438,
   "metadata": {},
   "outputs": [],
   "source": [
    "\n",
    "desvio_vel=3.28"
   ]
  },
  {
   "cell_type": "markdown",
   "metadata": {},
   "source": [
    "FATOR DE FORMA"
   ]
  },
  {
   "cell_type": "code",
   "execution_count": 439,
   "metadata": {},
   "outputs": [
    {
     "data": {
      "text/latex": [
       "\\[\n",
       "\\begin{aligned}\n",
       "k &= \\left( \\frac{ \\mathrm{desvio}_{vel} }{ \\mathrm{vel}_{media} } \\right) ^{ \\left( - 1.086 \\right) }  = \\left( \\frac{ 3.28 }{ 7.786 } \\right) ^{ \\left( - 1.086 \\right) } &= 2.557  \n",
       "\\\\[10pt]\n",
       "k &= 2.557 \\; \n",
       "\\end{aligned}\n",
       "\\]"
      ],
      "text/plain": [
       "<IPython.core.display.Latex object>"
      ]
     },
     "metadata": {},
     "output_type": "display_data"
    }
   ],
   "source": [
    "\n",
    "k= (desvio_vel/vel_media)**(-1.086)\n",
    "k"
   ]
  },
  {
   "cell_type": "markdown",
   "metadata": {},
   "source": [
    "FATOR DE ESCALA "
   ]
  },
  {
   "cell_type": "code",
   "execution_count": 440,
   "metadata": {},
   "outputs": [
    {
     "data": {
      "text/plain": [
       "8.769999564726639"
      ]
     },
     "execution_count": 440,
     "metadata": {},
     "output_type": "execute_result"
    }
   ],
   "source": [
    "c=vel_media/mt.gamma(1+1/k)\n",
    "c"
   ]
  },
  {
   "cell_type": "code",
   "execution_count": 441,
   "metadata": {},
   "outputs": [],
   "source": [
    "\n",
    "Densidade_de_probabilidade= k/c*((df['Velocidade no intervalo'])/c)**(k-1)*2.71828**(-1*((df['Velocidade no intervalo'])/c)**k)*100"
   ]
  },
  {
   "cell_type": "markdown",
   "metadata": {},
   "source": [
    "considerando  rugosidade ou atrito de terro pelo livro \n"
   ]
  },
  {
   "cell_type": "code",
   "execution_count": 442,
   "metadata": {},
   "outputs": [],
   "source": [
    "n=0.2105"
   ]
  },
  {
   "cell_type": "code",
   "execution_count": 443,
   "metadata": {},
   "outputs": [
    {
     "data": {
      "text/plain": [
       "11.528656725222778"
      ]
     },
     "execution_count": 443,
     "metadata": {},
     "output_type": "execute_result"
    }
   ],
   "source": [
    "c_corrigido=c*(H/H_r)**n\n"
   ]
  },
  {
   "cell_type": "code",
   "execution_count": 444,
   "metadata": {},
   "outputs": [
    {
     "data": {
      "text/latex": [
       "\\[\n",
       "\\begin{aligned}\n",
       "k_{corrigido} &= k \\cdot \\frac{ 1 - 0.088 \\cdot \\mathrm{np.log} { \\left( \\frac{ H_{r} }{ H } \\right) } }{ 1 - 0.088 \\cdot \\mathrm{np.log} { \\left( \\frac{ H }{ H_{r} } \\right) } } \\\\&= 2.557 \\cdot \\frac{ 1 - 0.088 \\cdot np.log { \\left( \\frac{ 30 }{ 110 } \\right) } }{ 1 - 0.088 \\cdot np.log { \\left( \\frac{ 110 }{ 30 } \\right) } } \\\\&= 3.217  \\\\\n",
       "\\end{aligned}\n",
       "\\]"
      ],
      "text/plain": [
       "<IPython.core.display.Latex object>"
      ]
     },
     "metadata": {},
     "output_type": "display_data"
    }
   ],
   "source": [
    "\n",
    "k_corrigido= k*(1-0.088*np.log(H_r/H))/(1-0.088*np.log(H/H_r))"
   ]
  },
  {
   "cell_type": "code",
   "execution_count": 445,
   "metadata": {},
   "outputs": [],
   "source": [
    "df['velocidade_Altura_H']=df['Velocidade no intervalo']*(H/H_r)**n\n",
    "\n"
   ]
  },
  {
   "cell_type": "code",
   "execution_count": 446,
   "metadata": {},
   "outputs": [],
   "source": [
    "df['f(v).v_corrigida']= k_corrigido/c_corrigido*((df['velocidade_Altura_H'])/c_corrigido)**(k_corrigido-1)*2.71828**(-1*((df['velocidade_Altura_H'])/c_corrigido)**k_corrigido)*100\n"
   ]
  },
  {
   "cell_type": "code",
   "execution_count": null,
   "metadata": {},
   "outputs": [],
   "source": []
  },
  {
   "cell_type": "code",
   "execution_count": 447,
   "metadata": {},
   "outputs": [],
   "source": [
    "df['potencia do gerador_2.5']=(df['f(v).v_corrigida']*df['Gerador 2.5MW'])/100\n"
   ]
  },
  {
   "cell_type": "code",
   "execution_count": 448,
   "metadata": {},
   "outputs": [],
   "source": [
    "df['potencia do gerador_2.3']=(df['f(v).v_corrigida']*df['Gerador 2.3MW'])/100\n"
   ]
  },
  {
   "cell_type": "code",
   "execution_count": 449,
   "metadata": {},
   "outputs": [],
   "source": [
    "df['potencia do gerador_2.7']=(df['f(v).v_corrigida']*df['Gerador 2.7MW'])/100\n"
   ]
  },
  {
   "cell_type": "code",
   "execution_count": 450,
   "metadata": {},
   "outputs": [
    {
     "data": {
      "text/plain": [
       "773.8245156789151"
      ]
     },
     "execution_count": 450,
     "metadata": {},
     "output_type": "execute_result"
    }
   ],
   "source": [
    "Somatorio_Gerador1=df['potencia do gerador_2.7'].sum()\n"
   ]
  },
  {
   "cell_type": "code",
   "execution_count": 451,
   "metadata": {},
   "outputs": [
    {
     "data": {
      "text/plain": [
       "707.7068210805144"
      ]
     },
     "execution_count": 451,
     "metadata": {},
     "output_type": "execute_result"
    }
   ],
   "source": [
    "Somatorio_Gerador2=df['potencia do gerador_2.5'].sum()\n"
   ]
  },
  {
   "cell_type": "code",
   "execution_count": 452,
   "metadata": {},
   "outputs": [
    {
     "data": {
      "text/plain": [
       "937.674241773071"
      ]
     },
     "execution_count": 452,
     "metadata": {},
     "output_type": "execute_result"
    }
   ],
   "source": [
    "Somatorio_Gerador3=df['potencia do gerador_2.3'].sum()\n"
   ]
  },
  {
   "cell_type": "markdown",
   "metadata": {},
   "source": [
    "ENERGIA ANUAL GERADA "
   ]
  },
  {
   "cell_type": "code",
   "execution_count": 453,
   "metadata": {},
   "outputs": [
    {
     "data": {
      "text/plain": [
       "6778.702757347296"
      ]
     },
     "execution_count": 453,
     "metadata": {},
     "output_type": "execute_result"
    }
   ],
   "source": [
    "EAG_GERADOR1=(Somatorio_Gerador1*8760)/1000\n"
   ]
  },
  {
   "cell_type": "code",
   "execution_count": 454,
   "metadata": {},
   "outputs": [
    {
     "data": {
      "text/plain": [
       "6199.511752665306"
      ]
     },
     "execution_count": 454,
     "metadata": {},
     "output_type": "execute_result"
    }
   ],
   "source": [
    "EAG_GERADOR2=(Somatorio_Gerador2*8760)/1000\n"
   ]
  },
  {
   "cell_type": "code",
   "execution_count": 455,
   "metadata": {},
   "outputs": [
    {
     "data": {
      "text/plain": [
       "8214.026357932102"
      ]
     },
     "execution_count": 455,
     "metadata": {},
     "output_type": "execute_result"
    }
   ],
   "source": [
    "EAG_GERADOR3=(Somatorio_Gerador3*8760)/1000\n"
   ]
  },
  {
   "cell_type": "code",
   "execution_count": 456,
   "metadata": {},
   "outputs": [
    {
     "data": {
      "text/html": [
       "<div>\n",
       "<style scoped>\n",
       "    .dataframe tbody tr th:only-of-type {\n",
       "        vertical-align: middle;\n",
       "    }\n",
       "\n",
       "    .dataframe tbody tr th {\n",
       "        vertical-align: top;\n",
       "    }\n",
       "\n",
       "    .dataframe thead th {\n",
       "        text-align: right;\n",
       "    }\n",
       "</style>\n",
       "<table border=\"1\" class=\"dataframe\">\n",
       "  <thead>\n",
       "    <tr style=\"text-align: right;\">\n",
       "      <th></th>\n",
       "      <th>Velocidade do vento (m/s)</th>\n",
       "      <th>Velocidade no intervalo</th>\n",
       "      <th>nº de amostras</th>\n",
       "      <th>Frequencia Relativa (%)</th>\n",
       "      <th>Gerador 2.7MW</th>\n",
       "      <th>Gerador 2.5MW</th>\n",
       "      <th>Gerador 2.3MW</th>\n",
       "      <th>velocidade_Altura_H</th>\n",
       "      <th>f(v).v_corrigida</th>\n",
       "      <th>potencia do gerador_2.5</th>\n",
       "      <th>potencia do gerador_2.3</th>\n",
       "      <th>potencia do gerador_2.7</th>\n",
       "    </tr>\n",
       "  </thead>\n",
       "  <tbody>\n",
       "    <tr>\n",
       "      <th>0</th>\n",
       "      <td>0 a 1</td>\n",
       "      <td>0.5</td>\n",
       "      <td>87</td>\n",
       "      <td>0.991</td>\n",
       "      <td>0</td>\n",
       "      <td>0</td>\n",
       "      <td>0</td>\n",
       "      <td>0.657278</td>\n",
       "      <td>0.048693</td>\n",
       "      <td>0.000000</td>\n",
       "      <td>0.000000</td>\n",
       "      <td>0.000000</td>\n",
       "    </tr>\n",
       "    <tr>\n",
       "      <th>1</th>\n",
       "      <td>1 a 2</td>\n",
       "      <td>1.5</td>\n",
       "      <td>231</td>\n",
       "      <td>2.631</td>\n",
       "      <td>0</td>\n",
       "      <td>0</td>\n",
       "      <td>0</td>\n",
       "      <td>1.971834</td>\n",
       "      <td>0.554462</td>\n",
       "      <td>0.000000</td>\n",
       "      <td>0.000000</td>\n",
       "      <td>0.000000</td>\n",
       "    </tr>\n",
       "    <tr>\n",
       "      <th>2</th>\n",
       "      <td>2 a 3</td>\n",
       "      <td>2.5</td>\n",
       "      <td>385</td>\n",
       "      <td>4.374</td>\n",
       "      <td>0</td>\n",
       "      <td>0</td>\n",
       "      <td>40</td>\n",
       "      <td>3.286390</td>\n",
       "      <td>1.696526</td>\n",
       "      <td>0.000000</td>\n",
       "      <td>0.678610</td>\n",
       "      <td>0.000000</td>\n",
       "    </tr>\n",
       "    <tr>\n",
       "      <th>3</th>\n",
       "      <td>3 a 4</td>\n",
       "      <td>3.5</td>\n",
       "      <td>489</td>\n",
       "      <td>5.570</td>\n",
       "      <td>0</td>\n",
       "      <td>0</td>\n",
       "      <td>80</td>\n",
       "      <td>4.600946</td>\n",
       "      <td>3.456150</td>\n",
       "      <td>0.000000</td>\n",
       "      <td>2.764920</td>\n",
       "      <td>0.000000</td>\n",
       "    </tr>\n",
       "    <tr>\n",
       "      <th>4</th>\n",
       "      <td>4 a 5</td>\n",
       "      <td>4.5</td>\n",
       "      <td>653</td>\n",
       "      <td>7.438</td>\n",
       "      <td>60</td>\n",
       "      <td>80</td>\n",
       "      <td>220</td>\n",
       "      <td>5.915503</td>\n",
       "      <td>5.655049</td>\n",
       "      <td>4.524039</td>\n",
       "      <td>12.441108</td>\n",
       "      <td>3.393029</td>\n",
       "    </tr>\n",
       "    <tr>\n",
       "      <th>5</th>\n",
       "      <td>5 a 6</td>\n",
       "      <td>5.5</td>\n",
       "      <td>747</td>\n",
       "      <td>8.509</td>\n",
       "      <td>200</td>\n",
       "      <td>160</td>\n",
       "      <td>440</td>\n",
       "      <td>7.230059</td>\n",
       "      <td>7.936292</td>\n",
       "      <td>12.698068</td>\n",
       "      <td>34.919686</td>\n",
       "      <td>15.872585</td>\n",
       "    </tr>\n",
       "    <tr>\n",
       "      <th>6</th>\n",
       "      <td>6 a 7</td>\n",
       "      <td>6.5</td>\n",
       "      <td>870</td>\n",
       "      <td>9.910</td>\n",
       "      <td>400</td>\n",
       "      <td>380</td>\n",
       "      <td>740</td>\n",
       "      <td>8.544615</td>\n",
       "      <td>9.808177</td>\n",
       "      <td>37.271073</td>\n",
       "      <td>72.580511</td>\n",
       "      <td>39.232709</td>\n",
       "    </tr>\n",
       "    <tr>\n",
       "      <th>7</th>\n",
       "      <td>7 a 8</td>\n",
       "      <td>7.5</td>\n",
       "      <td>1057</td>\n",
       "      <td>12.040</td>\n",
       "      <td>920</td>\n",
       "      <td>660</td>\n",
       "      <td>1300</td>\n",
       "      <td>9.859171</td>\n",
       "      <td>10.777269</td>\n",
       "      <td>71.129974</td>\n",
       "      <td>140.104495</td>\n",
       "      <td>99.150873</td>\n",
       "    </tr>\n",
       "    <tr>\n",
       "      <th>8</th>\n",
       "      <td>8 a 9</td>\n",
       "      <td>8.5</td>\n",
       "      <td>1240</td>\n",
       "      <td>14.125</td>\n",
       "      <td>1180</td>\n",
       "      <td>1200</td>\n",
       "      <td>1560</td>\n",
       "      <td>11.173727</td>\n",
       "      <td>10.540249</td>\n",
       "      <td>126.482990</td>\n",
       "      <td>164.427886</td>\n",
       "      <td>124.374940</td>\n",
       "    </tr>\n",
       "    <tr>\n",
       "      <th>9</th>\n",
       "      <td>9 a 10</td>\n",
       "      <td>9.5</td>\n",
       "      <td>945</td>\n",
       "      <td>10.764</td>\n",
       "      <td>1520</td>\n",
       "      <td>1460</td>\n",
       "      <td>1800</td>\n",
       "      <td>12.488283</td>\n",
       "      <td>9.140904</td>\n",
       "      <td>133.457195</td>\n",
       "      <td>164.536268</td>\n",
       "      <td>138.941738</td>\n",
       "    </tr>\n",
       "    <tr>\n",
       "      <th>10</th>\n",
       "      <td>10 a 11</td>\n",
       "      <td>10.5</td>\n",
       "      <td>689</td>\n",
       "      <td>7.848</td>\n",
       "      <td>1840</td>\n",
       "      <td>1740</td>\n",
       "      <td>1960</td>\n",
       "      <td>13.802839</td>\n",
       "      <td>6.982250</td>\n",
       "      <td>121.491158</td>\n",
       "      <td>136.852110</td>\n",
       "      <td>128.473409</td>\n",
       "    </tr>\n",
       "    <tr>\n",
       "      <th>11</th>\n",
       "      <td>11 a 12</td>\n",
       "      <td>11.5</td>\n",
       "      <td>465</td>\n",
       "      <td>5.297</td>\n",
       "      <td>2180</td>\n",
       "      <td>1960</td>\n",
       "      <td>2060</td>\n",
       "      <td>15.117396</td>\n",
       "      <td>4.656664</td>\n",
       "      <td>91.270609</td>\n",
       "      <td>95.927273</td>\n",
       "      <td>101.515269</td>\n",
       "    </tr>\n",
       "    <tr>\n",
       "      <th>12</th>\n",
       "      <td>12 a 13</td>\n",
       "      <td>12.5</td>\n",
       "      <td>319</td>\n",
       "      <td>3.634</td>\n",
       "      <td>2360</td>\n",
       "      <td>2140</td>\n",
       "      <td>2300</td>\n",
       "      <td>16.431952</td>\n",
       "      <td>2.684245</td>\n",
       "      <td>57.442835</td>\n",
       "      <td>61.737626</td>\n",
       "      <td>63.348173</td>\n",
       "    </tr>\n",
       "    <tr>\n",
       "      <th>13</th>\n",
       "      <td>13 a 14</td>\n",
       "      <td>13.5</td>\n",
       "      <td>246</td>\n",
       "      <td>2.802</td>\n",
       "      <td>2700</td>\n",
       "      <td>2260</td>\n",
       "      <td>2300</td>\n",
       "      <td>17.746508</td>\n",
       "      <td>1.322454</td>\n",
       "      <td>29.887467</td>\n",
       "      <td>30.416448</td>\n",
       "      <td>35.706265</td>\n",
       "    </tr>\n",
       "    <tr>\n",
       "      <th>14</th>\n",
       "      <td>14 a 15</td>\n",
       "      <td>14.5</td>\n",
       "      <td>193</td>\n",
       "      <td>2.198</td>\n",
       "      <td>2700</td>\n",
       "      <td>2500</td>\n",
       "      <td>2300</td>\n",
       "      <td>19.061064</td>\n",
       "      <td>0.550234</td>\n",
       "      <td>13.755849</td>\n",
       "      <td>12.655381</td>\n",
       "      <td>14.856317</td>\n",
       "    </tr>\n",
       "    <tr>\n",
       "      <th>15</th>\n",
       "      <td>15</td>\n",
       "      <td>15.0</td>\n",
       "      <td>164</td>\n",
       "      <td>1.868</td>\n",
       "      <td>2700</td>\n",
       "      <td>2500</td>\n",
       "      <td>2300</td>\n",
       "      <td>19.718342</td>\n",
       "      <td>0.331823</td>\n",
       "      <td>8.295564</td>\n",
       "      <td>7.631919</td>\n",
       "      <td>8.959209</td>\n",
       "    </tr>\n",
       "  </tbody>\n",
       "</table>\n",
       "</div>"
      ],
      "text/plain": [
       "   Velocidade do vento (m/s)  Velocidade no intervalo  nº de amostras  \\\n",
       "0                     0 a 1                       0.5              87   \n",
       "1                     1 a 2                       1.5             231   \n",
       "2                     2 a 3                       2.5             385   \n",
       "3                      3 a 4                      3.5             489   \n",
       "4                      4 a 5                      4.5             653   \n",
       "5                      5 a 6                      5.5             747   \n",
       "6                      6 a 7                      6.5             870   \n",
       "7                      7 a 8                      7.5            1057   \n",
       "8                      8 a 9                      8.5            1240   \n",
       "9                     9 a 10                      9.5             945   \n",
       "10                   10 a 11                     10.5             689   \n",
       "11                   11 a 12                     11.5             465   \n",
       "12                   12 a 13                     12.5             319   \n",
       "13                   13 a 14                     13.5             246   \n",
       "14                   14 a 15                     14.5             193   \n",
       "15                        15                     15.0             164   \n",
       "\n",
       "    Frequencia Relativa (%)  Gerador 2.7MW  Gerador 2.5MW  Gerador 2.3MW  \\\n",
       "0                     0.991              0              0              0   \n",
       "1                     2.631              0              0              0   \n",
       "2                     4.374              0              0             40   \n",
       "3                     5.570              0              0             80   \n",
       "4                     7.438             60             80            220   \n",
       "5                     8.509            200            160            440   \n",
       "6                     9.910            400            380            740   \n",
       "7                    12.040            920            660           1300   \n",
       "8                    14.125           1180           1200           1560   \n",
       "9                    10.764           1520           1460           1800   \n",
       "10                    7.848           1840           1740           1960   \n",
       "11                    5.297           2180           1960           2060   \n",
       "12                    3.634           2360           2140           2300   \n",
       "13                    2.802           2700           2260           2300   \n",
       "14                    2.198           2700           2500           2300   \n",
       "15                    1.868           2700           2500           2300   \n",
       "\n",
       "    velocidade_Altura_H  f(v).v_corrigida  potencia do gerador_2.5  \\\n",
       "0              0.657278          0.048693                 0.000000   \n",
       "1              1.971834          0.554462                 0.000000   \n",
       "2              3.286390          1.696526                 0.000000   \n",
       "3              4.600946          3.456150                 0.000000   \n",
       "4              5.915503          5.655049                 4.524039   \n",
       "5              7.230059          7.936292                12.698068   \n",
       "6              8.544615          9.808177                37.271073   \n",
       "7              9.859171         10.777269                71.129974   \n",
       "8             11.173727         10.540249               126.482990   \n",
       "9             12.488283          9.140904               133.457195   \n",
       "10            13.802839          6.982250               121.491158   \n",
       "11            15.117396          4.656664                91.270609   \n",
       "12            16.431952          2.684245                57.442835   \n",
       "13            17.746508          1.322454                29.887467   \n",
       "14            19.061064          0.550234                13.755849   \n",
       "15            19.718342          0.331823                 8.295564   \n",
       "\n",
       "    potencia do gerador_2.3  potencia do gerador_2.7  \n",
       "0                  0.000000                 0.000000  \n",
       "1                  0.000000                 0.000000  \n",
       "2                  0.678610                 0.000000  \n",
       "3                  2.764920                 0.000000  \n",
       "4                 12.441108                 3.393029  \n",
       "5                 34.919686                15.872585  \n",
       "6                 72.580511                39.232709  \n",
       "7                140.104495                99.150873  \n",
       "8                164.427886               124.374940  \n",
       "9                164.536268               138.941738  \n",
       "10               136.852110               128.473409  \n",
       "11                95.927273               101.515269  \n",
       "12                61.737626                63.348173  \n",
       "13                30.416448                35.706265  \n",
       "14                12.655381                14.856317  \n",
       "15                 7.631919                 8.959209  "
      ]
     },
     "execution_count": 456,
     "metadata": {},
     "output_type": "execute_result"
    }
   ],
   "source": [
    "df"
   ]
  }
 ],
 "metadata": {
  "kernelspec": {
   "display_name": "Python 3",
   "language": "python",
   "name": "python3"
  },
  "language_info": {
   "codemirror_mode": {
    "name": "ipython",
    "version": 3
   },
   "file_extension": ".py",
   "mimetype": "text/x-python",
   "name": "python",
   "nbconvert_exporter": "python",
   "pygments_lexer": "ipython3",
   "version": "3.8.5"
  }
 },
 "nbformat": 4,
 "nbformat_minor": 4
}
